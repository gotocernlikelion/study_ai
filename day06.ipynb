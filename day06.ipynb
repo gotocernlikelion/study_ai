{
 "cells": [
  {
   "cell_type": "code",
   "execution_count": 3,
   "metadata": {},
   "outputs": [],
   "source": [
    "import warnings\n",
    "warnings.filterwarnings('ignore')\n",
    "\n",
    "%matplotlib inline\n",
    "import matplotlib.pyplot as plt\n",
    "import numpy as np\n",
    "import pandas as pd\n",
    "import mglearn\n",
    "import matplotlib\n",
    "import platform\n",
    "if platform.system() == 'Windows':\n",
    "    matplotlib.rc('font', family='Malgun Gothic')\n",
    "elif platform.system() == 'Darwin':  # Mac\n",
    "    matplotlib.rc('font', family='AppleGothic')\n",
    "else:\n",
    "    matplotlib.rc('font', family='NanumGothic')\n",
    "plt.rcParams['axes.unicode_minus'] = False  # 마이너스 기호 깨짐방지"
   ]
  },
  {
   "cell_type": "code",
   "execution_count": 13,
   "metadata": {},
   "outputs": [
    {
     "data": {
      "image/png": "[encoded data removed]",
      "text/plain": [
       "<Figure size 936x360 with 3 Axes>"
      ]
     },
     "metadata": {
      "needs_background": "light"
     },
     "output_type": "display_data"
    }
   ],
   "source": [
    "fig, axes = plt.subplots(1, 3 , figsize=(13,5))\n",
    "\n",
    "param_grid_linear = {\"C\" : np.linspace(1,2,6), \"gamma\" : np.linspace(1,2,6)} \n",
    "# C,gamma value array 로 만든 dictionary\n",
    "#type(param_grid_linear)\n",
    "param_grid_one_log = {\"C\" : np.linspace(1,2,6), \"gamma\":np.logspace(-3,2,6)}\n",
    "# 1.0 e-3, ..., 1.0 e+2 \n",
    "param_grid_range = {\"C\" : np.logspace(-3,2,6), \"gamma\":np.logspace(-7,2,6)}"
   ]
  },
  {
   "cell_type": "code",
   "execution_count": 14,
   "metadata": {},
   "outputs": [],
   "source": [
    "from sklearn.model_selection import GridSearchCV"
   ]
  },
  {
   "cell_type": "code",
   "execution_count": 20,
   "metadata": {},
   "outputs": [],
   "source": [
    "from sklearn.svm import SVC"
   ]
  },
  {
   "cell_type": "code",
   "execution_count": 22,
   "metadata": {},
   "outputs": [],
   "source": [
    "from sklearn.datasets import load_iris\n",
    "from sklearn.model_selection import train_test_split\n",
    "iris = load_iris()\n",
    "X_train, X_test, y_train, y_test = train_test_split(iris.data, iris.target, random_state=0)\n",
    "#dataset 마련"
   ]
  },
  {
   "cell_type": "code",
   "execution_count": 25,
   "metadata": {},
   "outputs": [
    {
     "name": "stdout",
     "output_type": "stream",
     "text": [
      "[[0.94664032 0.94664032 0.94664032 0.94664032 0.94664032 0.95533597]\n",
      " [0.95533597 0.94664032 0.94664032 0.94664032 0.94664032 0.95533597]\n",
      " [0.95533597 0.95533597 0.94664032 0.94664032 0.94664032 0.94664032]\n",
      " [0.95533597 0.95533597 0.95533597 0.94664032 0.94664032 0.94664032]\n",
      " [0.95533597 0.95533597 0.95533597 0.94664032 0.94664032 0.94664032]\n",
      " [0.95533597 0.95533597 0.95533597 0.94664032 0.94664032 0.94664032]]\n",
      "[[0.69644269 0.93794466 0.96403162 0.94664032 0.9284585  0.50158103]\n",
      " [0.69644269 0.93794466 0.96403162 0.95533597 0.91976285 0.58142292]\n",
      " [0.69644269 0.93794466 0.96403162 0.95533597 0.91976285 0.58142292]\n",
      " [0.69644269 0.94664032 0.96403162 0.95533597 0.91106719 0.58142292]\n",
      " [0.69644269 0.94664032 0.96403162 0.95533597 0.91106719 0.58142292]\n",
      " [0.69644269 0.94664032 0.96403162 0.95533597 0.91106719 0.58142292]]\n",
      "[[0.36640316 0.36640316 0.36640316 0.36640316 0.36640316 0.36640316]\n",
      " [0.36640316 0.36640316 0.36640316 0.36640316 0.36640316 0.36640316]\n",
      " [0.36640316 0.36640316 0.36640316 0.69644269 0.9284585  0.36640316]\n",
      " [0.36640316 0.36640316 0.36640316 0.94664032 0.94664032 0.50158103]\n",
      " [0.36640316 0.36640316 0.76719368 0.96403162 0.93754941 0.58142292]\n",
      " [0.36640316 0.59841897 0.94664032 0.97272727 0.93754941 0.58142292]]\n"
     ]
    }
   ],
   "source": [
    "for param_grid, ax in zip([param_grid_linear, param_grid_one_log, param_grid_range], axes):\n",
    "    grid_search = GridSearchCV(SVC(),param_grid, cv=5)\n",
    "    grid_search.fit(X_train,y_train)\n",
    "    scores = grid_search.cv_results_['mean_test_score'].reshape(6,6)\n",
    "    "
   ]
  },
  {
   "cell_type": "code",
   "execution_count": null,
   "metadata": {},
   "outputs": [],
   "source": []
  },
  {
   "cell_type": "code",
   "execution_count": null,
   "metadata": {},
   "outputs": [],
   "source": []
  },
  {
   "cell_type": "code",
   "execution_count": null,
   "metadata": {},
   "outputs": [],
   "source": []
  },
  {
   "cell_type": "code",
   "execution_count": null,
   "metadata": {},
   "outputs": [],
   "source": []
  },
  {
   "cell_type": "code",
   "execution_count": null,
   "metadata": {},
   "outputs": [],
   "source": []
  },
  {
   "cell_type": "code",
   "execution_count": null,
   "metadata": {},
   "outputs": [],
   "source": []
  },
  {
   "cell_type": "code",
   "execution_count": null,
   "metadata": {},
   "outputs": [],
   "source": []
  },
  {
   "cell_type": "code",
   "execution_count": null,
   "metadata": {},
   "outputs": [],
   "source": []
  },
  {
   "cell_type": "code",
   "execution_count": null,
   "metadata": {},
   "outputs": [],
   "source": []
  },
  {
   "cell_type": "code",
   "execution_count": null,
   "metadata": {},
   "outputs": [],
   "source": []
  },
  {
   "cell_type": "code",
   "execution_count": null,
   "metadata": {},
   "outputs": [],
   "source": []
  },
  {
   "cell_type": "code",
   "execution_count": null,
   "metadata": {},
   "outputs": [],
   "source": []
  }
 ],
 "metadata": {
  "kernelspec": {
   "display_name": "Python 3",
   "language": "python",
   "name": "python3"
  },
  "language_info": {
   "codemirror_mode": {
    "name": "ipython",
    "version": 3
   },
   "file_extension": ".py",
   "mimetype": "text/x-python",
   "name": "python",
   "nbconvert_exporter": "python",
   "pygments_lexer": "ipython3",
   "version": "3.7.6"
  }
 },
 "nbformat": 4,
 "nbformat_minor": 4
}
