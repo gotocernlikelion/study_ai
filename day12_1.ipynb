{
 "cells": [
  {
   "cell_type": "code",
   "execution_count": 2,
   "metadata": {},
   "outputs": [],
   "source": [
    "%matplotlib inline\n",
    "import matplotlib.pyplot as plt\n",
    "import seaborn as sns\n",
    "import numpy as np\n",
    "import pandas as pd"
   ]
  },
  {
   "cell_type": "code",
   "execution_count": 3,
   "metadata": {},
   "outputs": [],
   "source": [
    "import tensorflow as tf"
   ]
  },
  {
   "cell_type": "code",
   "execution_count": 4,
   "metadata": {},
   "outputs": [],
   "source": [
    "from tensorflow import keras"
   ]
  },
  {
   "cell_type": "code",
   "execution_count": 5,
   "metadata": {},
   "outputs": [],
   "source": [
    "keras.backend.clear_session()\n",
    "np.random.seed(42)\n",
    "tf.random.set_seed(42)"
   ]
  },
  {
   "cell_type": "code",
   "execution_count": 10,
   "metadata": {},
   "outputs": [
    {
     "data": {
      "text/plain": [
       "['deserialize',\n",
       " 'elu',\n",
       " 'exponential',\n",
       " 'get',\n",
       " 'hard_sigmoid',\n",
       " 'linear',\n",
       " 'relu',\n",
       " 'selu',\n",
       " 'serialize',\n",
       " 'sigmoid',\n",
       " 'softmax',\n",
       " 'softplus',\n",
       " 'softsign',\n",
       " 'tanh']"
      ]
     },
     "execution_count": 10,
     "metadata": {},
     "output_type": "execute_result"
    }
   ],
   "source": [
    "[ name for name in dir(keras.initializers) if not name.startswith(\"_\")] #초기화 함수가 이렇게 많습니다. \n",
    "[ name for name in dir(keras.activations) if not name.startswith(\"_\")]"
   ]
  },
  {
   "cell_type": "code",
   "execution_count": 13,
   "metadata": {},
   "outputs": [
    {
     "data": {
      "text/plain": [
       "<tensorflow.python.keras.layers.core.Dense at 0x152d870a128>"
      ]
     },
     "execution_count": 13,
     "metadata": {},
     "output_type": "execute_result"
    }
   ],
   "source": [
    "keras.layers.Dense(10, activation='relu', kernel_initializer='he_normal')"
   ]
  },
  {
   "cell_type": "code",
   "execution_count": 14,
   "metadata": {},
   "outputs": [],
   "source": [
    "(X_train_full, y_train_full), (X_test, y_test) = keras.datasets.fashion_mnist.load_data()"
   ]
  },
  {
   "cell_type": "code",
   "execution_count": 15,
   "metadata": {},
   "outputs": [],
   "source": [
    "X_train_full = X_train_full/255.0"
   ]
  },
  {
   "cell_type": "code",
   "execution_count": 16,
   "metadata": {},
   "outputs": [],
   "source": [
    "X_test = X_test / 255.0"
   ]
  },
  {
   "cell_type": "code",
   "execution_count": 17,
   "metadata": {},
   "outputs": [],
   "source": [
    "X_valid, X_train = X_train_full[:5000], X_train_full[5000:]"
   ]
  },
  {
   "cell_type": "code",
   "execution_count": 26,
   "metadata": {},
   "outputs": [],
   "source": [
    "y_valid, y_train = y_train_full[:5000], y_train_full[5000:]"
   ]
  },
  {
   "cell_type": "code",
   "execution_count": 27,
   "metadata": {},
   "outputs": [],
   "source": [
    "model = keras.models.Sequential([\n",
    "    keras.layers.Flatten(input_shape=[28,28]),\n",
    "    keras.layers.Dense(300, kernel_initializer=\"he_normal\"),\n",
    "    keras.layers.LeakyReLU(),\n",
    "#   activation='leakyrelu'\n",
    "    keras.layers.Dense(100, kernel_initializer=\"he_normal\"),\n",
    "    keras.layers.LeakyReLU(),\n",
    "#   activation='leakyrelu'\n",
    "    keras.layers.Dense(10,activation='softmax')\n",
    "])"
   ]
  },
  {
   "cell_type": "code",
   "execution_count": 28,
   "metadata": {},
   "outputs": [],
   "source": [
    "model.compile(loss='sparse_categorical_crossentropy',\n",
    "             optimizer=keras.optimizers.SGD(lr=1e-3),\n",
    "             metrics=['accuracy'])"
   ]
  },
  {
   "cell_type": "code",
   "execution_count": 29,
   "metadata": {},
   "outputs": [
    {
     "name": "stdout",
     "output_type": "stream",
     "text": [
      "Train on 55000 samples, validate on 5000 samples\n",
      "Epoch 1/30\n",
      "55000/55000 [==============================] - 3s 52us/sample - loss: 1.2629 - accuracy: 0.6158 - val_loss: 0.8649 - val_accuracy: 0.7238\n",
      "Epoch 2/30\n",
      "55000/55000 [==============================] - 3s 50us/sample - loss: 0.7878 - accuracy: 0.7447 - val_loss: 0.7069 - val_accuracy: 0.7672\n",
      "Epoch 3/30\n",
      "55000/55000 [==============================] - 3s 53us/sample - loss: 0.6807 - accuracy: 0.7790 - val_loss: 0.6336 - val_accuracy: 0.7918\n",
      "Epoch 4/30\n",
      "55000/55000 [==============================] - 3s 51us/sample - loss: 0.6214 - accuracy: 0.7969 - val_loss: 0.5869 - val_accuracy: 0.8088\n",
      "Epoch 5/30\n",
      "55000/55000 [==============================] - 3s 52us/sample - loss: 0.5823 - accuracy: 0.8088 - val_loss: 0.5554 - val_accuracy: 0.8162\n",
      "Epoch 6/30\n",
      "55000/55000 [==============================] - 3s 51us/sample - loss: 0.5548 - accuracy: 0.8147 - val_loss: 0.5317 - val_accuracy: 0.8218\n",
      "Epoch 7/30\n",
      "55000/55000 [==============================] - 3s 57us/sample - loss: 0.5339 - accuracy: 0.8203 - val_loss: 0.5122 - val_accuracy: 0.8320\n",
      "Epoch 8/30\n",
      "55000/55000 [==============================] - 3s 61us/sample - loss: 0.5176 - accuracy: 0.8240 - val_loss: 0.5010 - val_accuracy: 0.8338\n",
      "Epoch 9/30\n",
      "55000/55000 [==============================] - 4s 69us/sample - loss: 0.5044 - accuracy: 0.8289 - val_loss: 0.4848 - val_accuracy: 0.8410\n",
      "Epoch 10/30\n",
      "55000/55000 [==============================] - 3s 53us/sample - loss: 0.4928 - accuracy: 0.8312 - val_loss: 0.4774 - val_accuracy: 0.8424\n",
      "Epoch 11/30\n",
      "55000/55000 [==============================] - 3s 51us/sample - loss: 0.4832 - accuracy: 0.8331 - val_loss: 0.4668 - val_accuracy: 0.8446\n",
      "Epoch 12/30\n",
      "55000/55000 [==============================] - 3s 50us/sample - loss: 0.4750 - accuracy: 0.8366 - val_loss: 0.4606 - val_accuracy: 0.8472\n",
      "Epoch 13/30\n",
      "55000/55000 [==============================] - 3s 51us/sample - loss: 0.4676 - accuracy: 0.8380 - val_loss: 0.4539 - val_accuracy: 0.8478\n",
      "Epoch 14/30\n",
      "55000/55000 [==============================] - 3s 50us/sample - loss: 0.4612 - accuracy: 0.8405 - val_loss: 0.4505 - val_accuracy: 0.8512\n",
      "Epoch 15/30\n",
      "55000/55000 [==============================] - 3s 49us/sample - loss: 0.4556 - accuracy: 0.8411 - val_loss: 0.4424 - val_accuracy: 0.8508\n",
      "Epoch 16/30\n",
      "55000/55000 [==============================] - 3s 50us/sample - loss: 0.4504 - accuracy: 0.8440 - val_loss: 0.4395 - val_accuracy: 0.8518\n",
      "Epoch 17/30\n",
      "55000/55000 [==============================] - 3s 49us/sample - loss: 0.4455 - accuracy: 0.8461 - val_loss: 0.4358 - val_accuracy: 0.8540\n",
      "Epoch 18/30\n",
      "55000/55000 [==============================] - 3s 49us/sample - loss: 0.4410 - accuracy: 0.8464 - val_loss: 0.4306 - val_accuracy: 0.8552\n",
      "Epoch 19/30\n",
      "55000/55000 [==============================] - 3s 58us/sample - loss: 0.4369 - accuracy: 0.8479 - val_loss: 0.4300 - val_accuracy: 0.8544\n",
      "Epoch 20/30\n",
      "55000/55000 [==============================] - 3s 49us/sample - loss: 0.4331 - accuracy: 0.8494 - val_loss: 0.4252 - val_accuracy: 0.8554\n",
      "Epoch 21/30\n",
      "55000/55000 [==============================] - 3s 51us/sample - loss: 0.4297 - accuracy: 0.8507 - val_loss: 0.4229 - val_accuracy: 0.8584\n",
      "Epoch 22/30\n",
      "55000/55000 [==============================] - 3s 55us/sample - loss: 0.4260 - accuracy: 0.8519 - val_loss: 0.4221 - val_accuracy: 0.8602\n",
      "Epoch 23/30\n",
      "55000/55000 [==============================] - 3s 49us/sample - loss: 0.4229 - accuracy: 0.8526 - val_loss: 0.4162 - val_accuracy: 0.8580\n",
      "Epoch 24/30\n",
      "55000/55000 [==============================] - 3s 47us/sample - loss: 0.4200 - accuracy: 0.8539 - val_loss: 0.4133 - val_accuracy: 0.8586\n",
      "Epoch 25/30\n",
      "55000/55000 [==============================] - 3s 47us/sample - loss: 0.4172 - accuracy: 0.8549 - val_loss: 0.4127 - val_accuracy: 0.8582\n",
      "Epoch 26/30\n",
      "55000/55000 [==============================] - 3s 50us/sample - loss: 0.4146 - accuracy: 0.8553 - val_loss: 0.4134 - val_accuracy: 0.8602\n",
      "Epoch 27/30\n",
      "55000/55000 [==============================] - 3s 57us/sample - loss: 0.4115 - accuracy: 0.8571 - val_loss: 0.4075 - val_accuracy: 0.8610\n",
      "Epoch 28/30\n",
      "55000/55000 [==============================] - 3s 54us/sample - loss: 0.4093 - accuracy: 0.8586 - val_loss: 0.4065 - val_accuracy: 0.8640\n",
      "Epoch 29/30\n",
      "55000/55000 [==============================] - 3s 55us/sample - loss: 0.4071 - accuracy: 0.8581 - val_loss: 0.4039 - val_accuracy: 0.8622\n",
      "Epoch 30/30\n",
      "55000/55000 [==============================] - 3s 56us/sample - loss: 0.4046 - accuracy: 0.8594 - val_loss: 0.4039 - val_accuracy: 0.8606\n"
     ]
    }
   ],
   "source": [
    "hist = model.fit(X_train, y_train, epochs=30, validation_data=(X_valid,y_valid))"
   ]
  },
  {
   "cell_type": "code",
   "execution_count": 30,
   "metadata": {},
   "outputs": [],
   "source": [
    "# fitting 결과 accuracy: 0.8594 - val_loss: 0.4039 - val_accuracy: 0.8606"
   ]
  },
  {
   "cell_type": "code",
   "execution_count": 31,
   "metadata": {},
   "outputs": [],
   "source": [
    "np.random.seed(42)\n",
    "tf.random.set_seed(42)\n",
    "\n",
    "model = keras.models.Sequential([\n",
    "    keras.layers.Flatten(input_shape=[28,28]),\n",
    "    keras.layers.Dense(300, kernel_initializer=\"he_normal\"),\n",
    "    keras.layers.PReLU(),\n",
    "    keras.layers.Dense(100, kernel_initializer=\"he_normal\"),\n",
    "    keras.layers.PReLU(),\n",
    "    keras.layers.Dense(10,activation='softmax')\n",
    "])"
   ]
  },
  {
   "cell_type": "code",
   "execution_count": 32,
   "metadata": {},
   "outputs": [],
   "source": [
    "model.compile(loss='sparse_categorical_crossentropy',\n",
    "             optimizer=keras.optimizers.SGD(lr=1e-3),\n",
    "             metrics=['accuracy'])"
   ]
  },
  {
   "cell_type": "code",
   "execution_count": 33,
   "metadata": {},
   "outputs": [
    {
     "name": "stdout",
     "output_type": "stream",
     "text": [
      "Train on 55000 samples, validate on 5000 samples\n",
      "Epoch 1/30\n",
      "55000/55000 [==============================] - 4s 68us/sample - loss: 1.3452 - accuracy: 0.6203 - val_loss: 0.9241 - val_accuracy: 0.7170\n",
      "Epoch 2/30\n",
      "55000/55000 [==============================] - 3s 56us/sample - loss: 0.8196 - accuracy: 0.7364 - val_loss: 0.7314 - val_accuracy: 0.7602\n",
      "Epoch 3/30\n",
      "55000/55000 [==============================] - 3s 56us/sample - loss: 0.6970 - accuracy: 0.7701 - val_loss: 0.6517 - val_accuracy: 0.7876\n",
      "Epoch 4/30\n",
      "55000/55000 [==============================] - 3s 57us/sample - loss: 0.6333 - accuracy: 0.7915 - val_loss: 0.6033 - val_accuracy: 0.8054\n",
      "Epoch 5/30\n",
      "55000/55000 [==============================] - 3s 56us/sample - loss: 0.5917 - accuracy: 0.8049 - val_loss: 0.5689 - val_accuracy: 0.8162\n",
      "Epoch 6/30\n",
      "55000/55000 [==============================] - 3s 59us/sample - loss: 0.5619 - accuracy: 0.8143 - val_loss: 0.5417 - val_accuracy: 0.8222\n",
      "Epoch 7/30\n",
      "55000/55000 [==============================] - 3s 61us/sample - loss: 0.5392 - accuracy: 0.8205 - val_loss: 0.5213 - val_accuracy: 0.8300\n",
      "Epoch 8/30\n",
      "55000/55000 [==============================] - 3s 60us/sample - loss: 0.5215 - accuracy: 0.8257 - val_loss: 0.5075 - val_accuracy: 0.8352\n",
      "Epoch 9/30\n",
      "55000/55000 [==============================] - 3s 56us/sample - loss: 0.5071 - accuracy: 0.8287 - val_loss: 0.4917 - val_accuracy: 0.8386\n",
      "Epoch 10/30\n",
      "55000/55000 [==============================] - 3s 60us/sample - loss: 0.4946 - accuracy: 0.8322 - val_loss: 0.4839 - val_accuracy: 0.8376\n",
      "Epoch 11/30\n",
      "55000/55000 [==============================] - 3s 63us/sample - loss: 0.4843 - accuracy: 0.8347 - val_loss: 0.4719 - val_accuracy: 0.8434\n",
      "Epoch 12/30\n",
      "55000/55000 [==============================] - 3s 63us/sample - loss: 0.4755 - accuracy: 0.8376 - val_loss: 0.4646 - val_accuracy: 0.8466\n",
      "Epoch 13/30\n",
      "55000/55000 [==============================] - 3s 58us/sample - loss: 0.4672 - accuracy: 0.8387 - val_loss: 0.4572 - val_accuracy: 0.8490\n",
      "Epoch 14/30\n",
      "55000/55000 [==============================] - 3s 58us/sample - loss: 0.4601 - accuracy: 0.8419 - val_loss: 0.4523 - val_accuracy: 0.8508\n",
      "Epoch 15/30\n",
      "55000/55000 [==============================] - 3s 58us/sample - loss: 0.4540 - accuracy: 0.8426 - val_loss: 0.4442 - val_accuracy: 0.8538\n",
      "Epoch 16/30\n",
      "55000/55000 [==============================] - 3s 55us/sample - loss: 0.4482 - accuracy: 0.8450 - val_loss: 0.4409 - val_accuracy: 0.8528\n",
      "Epoch 17/30\n",
      "55000/55000 [==============================] - 3s 59us/sample - loss: 0.4429 - accuracy: 0.8466 - val_loss: 0.4370 - val_accuracy: 0.8544\n",
      "Epoch 18/30\n",
      "55000/55000 [==============================] - 3s 60us/sample - loss: 0.4379 - accuracy: 0.8473 - val_loss: 0.4309 - val_accuracy: 0.8568\n",
      "Epoch 19/30\n",
      "55000/55000 [==============================] - 3s 57us/sample - loss: 0.4333 - accuracy: 0.8499 - val_loss: 0.4300 - val_accuracy: 0.8548\n",
      "Epoch 20/30\n",
      "55000/55000 [==============================] - 3s 57us/sample - loss: 0.4290 - accuracy: 0.8510 - val_loss: 0.4251 - val_accuracy: 0.8570\n",
      "Epoch 21/30\n",
      "55000/55000 [==============================] - 3s 58us/sample - loss: 0.4252 - accuracy: 0.8516 - val_loss: 0.4218 - val_accuracy: 0.8560\n",
      "Epoch 22/30\n",
      "55000/55000 [==============================] - 3s 59us/sample - loss: 0.4209 - accuracy: 0.8537 - val_loss: 0.4220 - val_accuracy: 0.8592\n",
      "Epoch 23/30\n",
      "55000/55000 [==============================] - 3s 58us/sample - loss: 0.4175 - accuracy: 0.8544 - val_loss: 0.4149 - val_accuracy: 0.8596\n",
      "Epoch 24/30\n",
      "55000/55000 [==============================] - 3s 58us/sample - loss: 0.4144 - accuracy: 0.8548 - val_loss: 0.4111 - val_accuracy: 0.8606\n",
      "Epoch 25/30\n",
      "55000/55000 [==============================] - 3s 58us/sample - loss: 0.4112 - accuracy: 0.8572 - val_loss: 0.4104 - val_accuracy: 0.8580\n",
      "Epoch 26/30\n",
      "55000/55000 [==============================] - 3s 58us/sample - loss: 0.4083 - accuracy: 0.8575 - val_loss: 0.4098 - val_accuracy: 0.8620\n",
      "Epoch 27/30\n",
      "55000/55000 [==============================] - 3s 58us/sample - loss: 0.4049 - accuracy: 0.8589 - val_loss: 0.4045 - val_accuracy: 0.8634\n",
      "Epoch 28/30\n",
      "55000/55000 [==============================] - 3s 58us/sample - loss: 0.4023 - accuracy: 0.8593 - val_loss: 0.4031 - val_accuracy: 0.8646\n",
      "Epoch 29/30\n",
      "55000/55000 [==============================] - 3s 57us/sample - loss: 0.3997 - accuracy: 0.8606 - val_loss: 0.4011 - val_accuracy: 0.8620\n",
      "Epoch 30/30\n",
      "55000/55000 [==============================] - 3s 57us/sample - loss: 0.3970 - accuracy: 0.8611 - val_loss: 0.3997 - val_accuracy: 0.8604\n"
     ]
    }
   ],
   "source": [
    "hist = model.fit(X_train, y_train, epochs=30, validation_data=(X_valid,y_valid))"
   ]
  },
  {
   "cell_type": "code",
   "execution_count": 34,
   "metadata": {},
   "outputs": [],
   "source": [
    "np.random.seed(42)\n",
    "tf.random.set_seed(42)"
   ]
  },
  {
   "cell_type": "code",
   "execution_count": 35,
   "metadata": {},
   "outputs": [],
   "source": [
    "model = keras.models.Sequential()\n",
    "model.add(keras.layers.Flatten(input_shape=[28,28]))\n",
    "model.add(keras.layers.Dense(300, activation='selu', kernel_initializer='lecun_normal'))\n",
    "for layer in range(99):\n",
    "    model.add(keras.layers.Dense(100,activation='selu',\n",
    "                                 kernel_initializer='lecun_normal'))\n",
    "model.add(keras.layers.Dense(10, activation='softmax'))    "
   ]
  },
  {
   "cell_type": "code",
   "execution_count": 38,
   "metadata": {},
   "outputs": [],
   "source": [
    "model.compile(loss='sparse_categorical_crossentropy', \n",
    "             optimizer=keras.optimizers.SGD(lr=1e-3),\n",
    "             metrics=['accuracy'])"
   ]
  },
  {
   "cell_type": "code",
   "execution_count": 39,
   "metadata": {},
   "outputs": [],
   "source": [
    "pixel_means = X_train.mean(axis=0,keepdims=True)\n",
    "pixel_stds = X_train.std(axis=0, keepdims=True)"
   ]
  },
  {
   "cell_type": "code",
   "execution_count": 42,
   "metadata": {},
   "outputs": [],
   "source": [
    "# 수제 Standard Scaler"
   ]
  },
  {
   "cell_type": "code",
   "execution_count": 43,
   "metadata": {},
   "outputs": [],
   "source": [
    "X_train_scaled = (X_train - pixel_means)/ pixel_stds # 평빼고 표준편차 나누기"
   ]
  },
  {
   "cell_type": "code",
   "execution_count": 44,
   "metadata": {},
   "outputs": [],
   "source": [
    "X_valid_scaled = (X_valid - pixel_means) / pixel_stds"
   ]
  },
  {
   "cell_type": "code",
   "execution_count": 46,
   "metadata": {},
   "outputs": [],
   "source": [
    "X_test_scaled = (X_test - pixel_means) / pixel_stds"
   ]
  },
  {
   "cell_type": "code",
   "execution_count": 47,
   "metadata": {},
   "outputs": [
    {
     "name": "stdout",
     "output_type": "stream",
     "text": [
      "Train on 55000 samples, validate on 5000 samples\n",
      "Epoch 1/5\n",
      "55000/55000 [==============================] - 25s 452us/sample - loss: 1.1175 - accuracy: 0.5811 - val_loss: 1.3723 - val_accuracy: 0.4400\n",
      "Epoch 2/5\n",
      "55000/55000 [==============================] - 22s 398us/sample - loss: 0.6714 - accuracy: 0.7576 - val_loss: 1.4100 - val_accuracy: 0.4672\n",
      "Epoch 3/5\n",
      "55000/55000 [==============================] - 22s 398us/sample - loss: 0.5825 - accuracy: 0.7902 - val_loss: 1.2910 - val_accuracy: 0.5464\n",
      "Epoch 4/5\n",
      "55000/55000 [==============================] - 22s 401us/sample - loss: 0.5300 - accuracy: 0.8083 - val_loss: 1.3909 - val_accuracy: 0.5552\n",
      "Epoch 5/5\n",
      "55000/55000 [==============================] - 22s 399us/sample - loss: 0.4906 - accuracy: 0.8278 - val_loss: 1.3958 - val_accuracy: 0.5058\n"
     ]
    }
   ],
   "source": [
    "hist = model.fit(X_train_scaled, y_train, epochs=5, validation_data=(X_valid,y_valid))"
   ]
  },
  {
   "cell_type": "code",
   "execution_count": 48,
   "metadata": {},
   "outputs": [],
   "source": [
    "np.random.seed(42)\n",
    "tf.random.set_seed(42)"
   ]
  },
  {
   "cell_type": "code",
   "execution_count": 49,
   "metadata": {},
   "outputs": [],
   "source": [
    "model = keras.models.Sequential()\n",
    "model.add(keras.layers.Flatten(input_shape=[28,28]))\n",
    "model.add(keras.layers.Dense(300, activation='relu', kernel_initializer='he_normal'))\n",
    "for layer in range(99):\n",
    "    model.add(keras.layers.Dense(100,activation='relu',\n",
    "                                 kernel_initializer='he_normal'))\n",
    "model.add(keras.layers.Dense(10, activation='softmax')) "
   ]
  },
  {
   "cell_type": "code",
   "execution_count": 50,
   "metadata": {},
   "outputs": [],
   "source": [
    "model.compile(loss='sparse_categorical_crossentropy', \n",
    "             optimizer=keras.optimizers.SGD(lr=1e-3),\n",
    "             metrics=['accuracy'])"
   ]
  },
  {
   "cell_type": "code",
   "execution_count": 51,
   "metadata": {},
   "outputs": [
    {
     "name": "stdout",
     "output_type": "stream",
     "text": [
      "Train on 55000 samples, validate on 5000 samples\n",
      "Epoch 1/5\n",
      "55000/55000 [==============================] - 23s 421us/sample - loss: 1.8952 - accuracy: 0.2632 - val_loss: 1.6442 - val_accuracy: 0.3532\n",
      "Epoch 2/5\n",
      "55000/55000 [==============================] - 20s 370us/sample - loss: 1.4594 - accuracy: 0.3966 - val_loss: 1.9991 - val_accuracy: 0.2512\n",
      "Epoch 3/5\n",
      "55000/55000 [==============================] - 21s 374us/sample - loss: 1.0571 - accuracy: 0.5470 - val_loss: 1.0490 - val_accuracy: 0.5276\n",
      "Epoch 4/5\n",
      "55000/55000 [==============================] - 20s 373us/sample - loss: 0.8771 - accuracy: 0.6158 - val_loss: 0.8719 - val_accuracy: 0.6304\n",
      "Epoch 5/5\n",
      "55000/55000 [==============================] - 21s 380us/sample - loss: 0.7907 - accuracy: 0.6760 - val_loss: 0.7880 - val_accuracy: 0.6956\n"
     ]
    }
   ],
   "source": [
    "hist = model.fit(X_train, y_train, epochs=5, validation_data=(X_valid,y_valid))"
   ]
  },
  {
   "cell_type": "code",
   "execution_count": 57,
   "metadata": {},
   "outputs": [],
   "source": [
    "## 배치 정규 화 "
   ]
  },
  {
   "cell_type": "code",
   "execution_count": 61,
   "metadata": {},
   "outputs": [],
   "source": [
    "model = keras.models.Sequential([\n",
    "    keras.layers.Flatten(input_shape=[28,28]),\n",
    "    keras.layers.BatchNormalization(),\n",
    "    keras.layers.Dense(300, activation='relu'),\n",
    "    keras.layers.BatchNormalization(),\n",
    "    keras.layers.Dense(100, activation='relu'),\n",
    "    keras.layers.BatchNormalization(),\n",
    "    keras.layers.Dense(10, activation='softmax')\n",
    "])"
   ]
  },
  {
   "cell_type": "code",
   "execution_count": 62,
   "metadata": {},
   "outputs": [],
   "source": [
    "model.compile(loss='sparse_categorical_crossentropy', \n",
    "             optimizer=keras.optimizers.SGD(lr=1e-3),\n",
    "             metrics=['accuracy'])"
   ]
  },
  {
   "cell_type": "code",
   "execution_count": 63,
   "metadata": {},
   "outputs": [
    {
     "name": "stdout",
     "output_type": "stream",
     "text": [
      "Train on 55000 samples, validate on 5000 samples\n",
      "Epoch 1/10\n",
      "55000/55000 [==============================] - 6s 107us/sample - loss: 0.8760 - accuracy: 0.7123 - val_loss: 0.5509 - val_accuracy: 0.8224\n",
      "Epoch 2/10\n",
      "55000/55000 [==============================] - 5s 92us/sample - loss: 0.5736 - accuracy: 0.8039 - val_loss: 0.4724 - val_accuracy: 0.8458\n",
      "Epoch 3/10\n",
      "55000/55000 [==============================] - 6s 106us/sample - loss: 0.5142 - accuracy: 0.8230 - val_loss: 0.4376 - val_accuracy: 0.8572\n",
      "Epoch 4/10\n",
      "55000/55000 [==============================] - 6s 108us/sample - loss: 0.4825 - accuracy: 0.8331 - val_loss: 0.4135 - val_accuracy: 0.8640\n",
      "Epoch 5/10\n",
      "55000/55000 [==============================] - 5s 95us/sample - loss: 0.4570 - accuracy: 0.8416 - val_loss: 0.3989 - val_accuracy: 0.8656\n",
      "Epoch 6/10\n",
      "55000/55000 [==============================] - 5s 96us/sample - loss: 0.4432 - accuracy: 0.8455 - val_loss: 0.3869 - val_accuracy: 0.8714\n",
      "Epoch 7/10\n",
      "55000/55000 [==============================] - 6s 101us/sample - loss: 0.4254 - accuracy: 0.8511 - val_loss: 0.3782 - val_accuracy: 0.8704\n",
      "Epoch 8/10\n",
      "55000/55000 [==============================] - 5s 99us/sample - loss: 0.4150 - accuracy: 0.8533 - val_loss: 0.3709 - val_accuracy: 0.8764\n",
      "Epoch 9/10\n",
      "55000/55000 [==============================] - 5s 90us/sample - loss: 0.4015 - accuracy: 0.8598 - val_loss: 0.3637 - val_accuracy: 0.8754\n",
      "Epoch 10/10\n",
      "55000/55000 [==============================] - 5s 93us/sample - loss: 0.3914 - accuracy: 0.8627 - val_loss: 0.3603 - val_accuracy: 0.8760\n"
     ]
    }
   ],
   "source": [
    "hist = model.fit(X_train, y_train, epochs=10, validation_data=(X_valid,y_valid))"
   ]
  },
  {
   "cell_type": "code",
   "execution_count": null,
   "metadata": {},
   "outputs": [],
   "source": []
  },
  {
   "cell_type": "code",
   "execution_count": null,
   "metadata": {},
   "outputs": [],
   "source": []
  },
  {
   "cell_type": "code",
   "execution_count": null,
   "metadata": {},
   "outputs": [],
   "source": []
  },
  {
   "cell_type": "code",
   "execution_count": null,
   "metadata": {},
   "outputs": [],
   "source": []
  },
  {
   "cell_type": "code",
   "execution_count": null,
   "metadata": {},
   "outputs": [],
   "source": []
  },
  {
   "cell_type": "code",
   "execution_count": null,
   "metadata": {},
   "outputs": [],
   "source": []
  },
  {
   "cell_type": "code",
   "execution_count": null,
   "metadata": {},
   "outputs": [],
   "source": []
  },
  {
   "cell_type": "code",
   "execution_count": null,
   "metadata": {},
   "outputs": [],
   "source": []
  },
  {
   "cell_type": "code",
   "execution_count": null,
   "metadata": {},
   "outputs": [],
   "source": []
  },
  {
   "cell_type": "code",
   "execution_count": null,
   "metadata": {},
   "outputs": [],
   "source": []
  },
  {
   "cell_type": "code",
   "execution_count": null,
   "metadata": {},
   "outputs": [],
   "source": []
  },
  {
   "cell_type": "code",
   "execution_count": null,
   "metadata": {},
   "outputs": [],
   "source": []
  },
  {
   "cell_type": "code",
   "execution_count": null,
   "metadata": {},
   "outputs": [],
   "source": []
  },
  {
   "cell_type": "code",
   "execution_count": null,
   "metadata": {},
   "outputs": [],
   "source": []
  },
  {
   "cell_type": "code",
   "execution_count": null,
   "metadata": {},
   "outputs": [],
   "source": []
  },
  {
   "cell_type": "code",
   "execution_count": null,
   "metadata": {},
   "outputs": [],
   "source": []
  },
  {
   "cell_type": "code",
   "execution_count": null,
   "metadata": {},
   "outputs": [],
   "source": []
  },
  {
   "cell_type": "code",
   "execution_count": null,
   "metadata": {},
   "outputs": [],
   "source": []
  },
  {
   "cell_type": "code",
   "execution_count": null,
   "metadata": {},
   "outputs": [],
   "source": []
  },
  {
   "cell_type": "code",
   "execution_count": null,
   "metadata": {},
   "outputs": [],
   "source": []
  },
  {
   "cell_type": "code",
   "execution_count": null,
   "metadata": {},
   "outputs": [],
   "source": []
  },
  {
   "cell_type": "code",
   "execution_count": null,
   "metadata": {},
   "outputs": [],
   "source": []
  },
  {
   "cell_type": "code",
   "execution_count": null,
   "metadata": {},
   "outputs": [],
   "source": []
  },
  {
   "cell_type": "code",
   "execution_count": null,
   "metadata": {},
   "outputs": [],
   "source": []
  },
  {
   "cell_type": "code",
   "execution_count": null,
   "metadata": {},
   "outputs": [],
   "source": []
  },
  {
   "cell_type": "code",
   "execution_count": null,
   "metadata": {},
   "outputs": [],
   "source": []
  },
  {
   "cell_type": "code",
   "execution_count": null,
   "metadata": {},
   "outputs": [],
   "source": []
  },
  {
   "cell_type": "code",
   "execution_count": null,
   "metadata": {},
   "outputs": [],
   "source": []
  },
  {
   "cell_type": "code",
   "execution_count": null,
   "metadata": {},
   "outputs": [],
   "source": []
  },
  {
   "cell_type": "code",
   "execution_count": null,
   "metadata": {},
   "outputs": [],
   "source": []
  },
  {
   "cell_type": "code",
   "execution_count": null,
   "metadata": {},
   "outputs": [],
   "source": []
  },
  {
   "cell_type": "code",
   "execution_count": null,
   "metadata": {},
   "outputs": [],
   "source": []
  },
  {
   "cell_type": "code",
   "execution_count": null,
   "metadata": {},
   "outputs": [],
   "source": []
  },
  {
   "cell_type": "code",
   "execution_count": null,
   "metadata": {},
   "outputs": [],
   "source": []
  },
  {
   "cell_type": "code",
   "execution_count": null,
   "metadata": {},
   "outputs": [],
   "source": []
  },
  {
   "cell_type": "code",
   "execution_count": null,
   "metadata": {},
   "outputs": [],
   "source": []
  },
  {
   "cell_type": "code",
   "execution_count": null,
   "metadata": {},
   "outputs": [],
   "source": []
  },
  {
   "cell_type": "code",
   "execution_count": null,
   "metadata": {},
   "outputs": [],
   "source": []
  },
  {
   "cell_type": "code",
   "execution_count": null,
   "metadata": {},
   "outputs": [],
   "source": []
  },
  {
   "cell_type": "code",
   "execution_count": null,
   "metadata": {},
   "outputs": [],
   "source": []
  },
  {
   "cell_type": "code",
   "execution_count": null,
   "metadata": {},
   "outputs": [],
   "source": []
  },
  {
   "cell_type": "code",
   "execution_count": null,
   "metadata": {},
   "outputs": [],
   "source": []
  },
  {
   "cell_type": "code",
   "execution_count": null,
   "metadata": {},
   "outputs": [],
   "source": []
  },
  {
   "cell_type": "code",
   "execution_count": null,
   "metadata": {},
   "outputs": [],
   "source": []
  },
  {
   "cell_type": "code",
   "execution_count": null,
   "metadata": {},
   "outputs": [],
   "source": []
  },
  {
   "cell_type": "code",
   "execution_count": null,
   "metadata": {},
   "outputs": [],
   "source": []
  },
  {
   "cell_type": "code",
   "execution_count": null,
   "metadata": {},
   "outputs": [],
   "source": []
  },
  {
   "cell_type": "code",
   "execution_count": null,
   "metadata": {},
   "outputs": [],
   "source": []
  },
  {
   "cell_type": "code",
   "execution_count": null,
   "metadata": {},
   "outputs": [],
   "source": []
  },
  {
   "cell_type": "code",
   "execution_count": null,
   "metadata": {},
   "outputs": [],
   "source": []
  },
  {
   "cell_type": "code",
   "execution_count": null,
   "metadata": {},
   "outputs": [],
   "source": []
  },
  {
   "cell_type": "code",
   "execution_count": null,
   "metadata": {},
   "outputs": [],
   "source": []
  },
  {
   "cell_type": "code",
   "execution_count": null,
   "metadata": {},
   "outputs": [],
   "source": []
  },
  {
   "cell_type": "code",
   "execution_count": null,
   "metadata": {},
   "outputs": [],
   "source": []
  },
  {
   "cell_type": "code",
   "execution_count": null,
   "metadata": {},
   "outputs": [],
   "source": []
  },
  {
   "cell_type": "code",
   "execution_count": null,
   "metadata": {},
   "outputs": [],
   "source": []
  },
  {
   "cell_type": "code",
   "execution_count": null,
   "metadata": {},
   "outputs": [],
   "source": []
  },
  {
   "cell_type": "code",
   "execution_count": null,
   "metadata": {},
   "outputs": [],
   "source": []
  },
  {
   "cell_type": "code",
   "execution_count": null,
   "metadata": {},
   "outputs": [],
   "source": []
  },
  {
   "cell_type": "code",
   "execution_count": null,
   "metadata": {},
   "outputs": [],
   "source": []
  },
  {
   "cell_type": "code",
   "execution_count": null,
   "metadata": {},
   "outputs": [],
   "source": []
  },
  {
   "cell_type": "code",
   "execution_count": null,
   "metadata": {},
   "outputs": [],
   "source": []
  },
  {
   "cell_type": "code",
   "execution_count": null,
   "metadata": {},
   "outputs": [],
   "source": []
  },
  {
   "cell_type": "code",
   "execution_count": null,
   "metadata": {},
   "outputs": [],
   "source": []
  },
  {
   "cell_type": "code",
   "execution_count": null,
   "metadata": {},
   "outputs": [],
   "source": []
  },
  {
   "cell_type": "code",
   "execution_count": null,
   "metadata": {},
   "outputs": [],
   "source": []
  },
  {
   "cell_type": "code",
   "execution_count": null,
   "metadata": {},
   "outputs": [],
   "source": []
  },
  {
   "cell_type": "code",
   "execution_count": null,
   "metadata": {},
   "outputs": [],
   "source": []
  },
  {
   "cell_type": "code",
   "execution_count": null,
   "metadata": {},
   "outputs": [],
   "source": []
  },
  {
   "cell_type": "code",
   "execution_count": null,
   "metadata": {},
   "outputs": [],
   "source": []
  },
  {
   "cell_type": "code",
   "execution_count": null,
   "metadata": {},
   "outputs": [],
   "source": []
  },
  {
   "cell_type": "code",
   "execution_count": null,
   "metadata": {},
   "outputs": [],
   "source": []
  },
  {
   "cell_type": "code",
   "execution_count": null,
   "metadata": {},
   "outputs": [],
   "source": []
  },
  {
   "cell_type": "code",
   "execution_count": null,
   "metadata": {},
   "outputs": [],
   "source": []
  },
  {
   "cell_type": "code",
   "execution_count": null,
   "metadata": {},
   "outputs": [],
   "source": []
  },
  {
   "cell_type": "code",
   "execution_count": null,
   "metadata": {},
   "outputs": [],
   "source": []
  },
  {
   "cell_type": "code",
   "execution_count": null,
   "metadata": {},
   "outputs": [],
   "source": []
  },
  {
   "cell_type": "code",
   "execution_count": null,
   "metadata": {},
   "outputs": [],
   "source": []
  },
  {
   "cell_type": "code",
   "execution_count": null,
   "metadata": {},
   "outputs": [],
   "source": []
  },
  {
   "cell_type": "code",
   "execution_count": null,
   "metadata": {},
   "outputs": [],
   "source": []
  },
  {
   "cell_type": "code",
   "execution_count": null,
   "metadata": {},
   "outputs": [],
   "source": []
  },
  {
   "cell_type": "code",
   "execution_count": null,
   "metadata": {},
   "outputs": [],
   "source": []
  },
  {
   "cell_type": "code",
   "execution_count": null,
   "metadata": {},
   "outputs": [],
   "source": []
  },
  {
   "cell_type": "code",
   "execution_count": null,
   "metadata": {},
   "outputs": [],
   "source": []
  },
  {
   "cell_type": "code",
   "execution_count": null,
   "metadata": {},
   "outputs": [],
   "source": []
  },
  {
   "cell_type": "code",
   "execution_count": null,
   "metadata": {},
   "outputs": [],
   "source": []
  },
  {
   "cell_type": "code",
   "execution_count": null,
   "metadata": {},
   "outputs": [],
   "source": []
  },
  {
   "cell_type": "code",
   "execution_count": null,
   "metadata": {},
   "outputs": [],
   "source": []
  },
  {
   "cell_type": "code",
   "execution_count": null,
   "metadata": {},
   "outputs": [],
   "source": []
  },
  {
   "cell_type": "code",
   "execution_count": null,
   "metadata": {},
   "outputs": [],
   "source": []
  },
  {
   "cell_type": "code",
   "execution_count": null,
   "metadata": {},
   "outputs": [],
   "source": []
  },
  {
   "cell_type": "code",
   "execution_count": null,
   "metadata": {},
   "outputs": [],
   "source": []
  },
  {
   "cell_type": "code",
   "execution_count": null,
   "metadata": {},
   "outputs": [],
   "source": []
  },
  {
   "cell_type": "code",
   "execution_count": null,
   "metadata": {},
   "outputs": [],
   "source": []
  },
  {
   "cell_type": "code",
   "execution_count": null,
   "metadata": {},
   "outputs": [],
   "source": []
  },
  {
   "cell_type": "code",
   "execution_count": null,
   "metadata": {},
   "outputs": [],
   "source": []
  },
  {
   "cell_type": "code",
   "execution_count": null,
   "metadata": {},
   "outputs": [],
   "source": []
  },
  {
   "cell_type": "code",
   "execution_count": null,
   "metadata": {},
   "outputs": [],
   "source": []
  },
  {
   "cell_type": "code",
   "execution_count": null,
   "metadata": {},
   "outputs": [],
   "source": []
  },
  {
   "cell_type": "code",
   "execution_count": null,
   "metadata": {},
   "outputs": [],
   "source": []
  },
  {
   "cell_type": "code",
   "execution_count": null,
   "metadata": {},
   "outputs": [],
   "source": []
  },
  {
   "cell_type": "code",
   "execution_count": null,
   "metadata": {},
   "outputs": [],
   "source": []
  },
  {
   "cell_type": "code",
   "execution_count": null,
   "metadata": {},
   "outputs": [],
   "source": []
  },
  {
   "cell_type": "code",
   "execution_count": null,
   "metadata": {},
   "outputs": [],
   "source": []
  },
  {
   "cell_type": "code",
   "execution_count": null,
   "metadata": {},
   "outputs": [],
   "source": []
  },
  {
   "cell_type": "code",
   "execution_count": null,
   "metadata": {},
   "outputs": [],
   "source": []
  },
  {
   "cell_type": "code",
   "execution_count": null,
   "metadata": {},
   "outputs": [],
   "source": []
  },
  {
   "cell_type": "code",
   "execution_count": null,
   "metadata": {},
   "outputs": [],
   "source": []
  },
  {
   "cell_type": "code",
   "execution_count": null,
   "metadata": {},
   "outputs": [],
   "source": []
  },
  {
   "cell_type": "code",
   "execution_count": null,
   "metadata": {},
   "outputs": [],
   "source": []
  },
  {
   "cell_type": "code",
   "execution_count": null,
   "metadata": {},
   "outputs": [],
   "source": []
  },
  {
   "cell_type": "code",
   "execution_count": null,
   "metadata": {},
   "outputs": [],
   "source": []
  },
  {
   "cell_type": "code",
   "execution_count": null,
   "metadata": {},
   "outputs": [],
   "source": []
  },
  {
   "cell_type": "code",
   "execution_count": null,
   "metadata": {},
   "outputs": [],
   "source": []
  },
  {
   "cell_type": "code",
   "execution_count": null,
   "metadata": {},
   "outputs": [],
   "source": []
  },
  {
   "cell_type": "code",
   "execution_count": null,
   "metadata": {},
   "outputs": [],
   "source": []
  }
 ],
 "metadata": {
  "kernelspec": {
   "display_name": "Python 3",
   "language": "python",
   "name": "python3"
  },
  "language_info": {
   "codemirror_mode": {
    "name": "ipython",
    "version": 3
   },
   "file_extension": ".py",
   "mimetype": "text/x-python",
   "name": "python",
   "nbconvert_exporter": "python",
   "pygments_lexer": "ipython3",
   "version": "3.7.0"
  }
 },
 "nbformat": 4,
 "nbformat_minor": 2
}
