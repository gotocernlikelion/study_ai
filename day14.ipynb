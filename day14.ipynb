{
 "cells": [
  {
   "cell_type": "code",
   "execution_count": 2,
   "metadata": {},
   "outputs": [],
   "source": [
    "import warnings\n",
    "warnings.filterwarnings('ignore')\n",
    "\n",
    "import tensorflow as tf\n",
    "tf.compat.v1.logging.set_verbosity(tf.compat.v1.logging.ERROR)"
   ]
  },
  {
   "cell_type": "code",
   "execution_count": 3,
   "metadata": {},
   "outputs": [],
   "source": [
    "%matplotlib inline\n",
    "import matplotlib.pyplot as plt\n",
    "import seaborn as sns\n",
    "import numpy as np\n",
    "import pandas as pd"
   ]
  },
  {
   "cell_type": "code",
   "execution_count": 5,
   "metadata": {},
   "outputs": [],
   "source": [
    "from sklearn.preprocessing import MinMaxScaler # 0.0 ~1.0 사이로 스케일링\n",
    "from sklearn.preprocessing import LabelEncoder # 글자를 숫자로 (one hot encoding 전단계)"
   ]
  },
  {
   "cell_type": "code",
   "execution_count": 6,
   "metadata": {},
   "outputs": [],
   "source": [
    "from keras.models import Sequential\n",
    "from keras.layers import Dense"
   ]
  },
  {
   "cell_type": "code",
   "execution_count": 7,
   "metadata": {},
   "outputs": [],
   "source": [
    "from keras.utils import np_utils"
   ]
  },
  {
   "cell_type": "code",
   "execution_count": 9,
   "metadata": {},
   "outputs": [],
   "source": [
    "from keras.callbacks import ModelCheckpoint\n",
    "from keras.callbacks import EarlyStopping"
   ]
  },
  {
   "cell_type": "code",
   "execution_count": 10,
   "metadata": {},
   "outputs": [],
   "source": [
    "names = ['sl', 'sw', 'pl', 'pw','class']"
   ]
  },
  {
   "cell_type": "code",
   "execution_count": 11,
   "metadata": {},
   "outputs": [],
   "source": [
    "df =pd.read_csv('datasets/iris.data', names=names)"
   ]
  },
  {
   "cell_type": "code",
   "execution_count": 12,
   "metadata": {},
   "outputs": [
    {
     "data": {
      "text/html": [
       "<div>\n",
       "<style scoped>\n",
       "    .dataframe tbody tr th:only-of-type {\n",
       "        vertical-align: middle;\n",
       "    }\n",
       "\n",
       "    .dataframe tbody tr th {\n",
       "        vertical-align: top;\n",
       "    }\n",
       "\n",
       "    .dataframe thead th {\n",
       "        text-align: right;\n",
       "    }\n",
       "</style>\n",
       "<table border=\"1\" class=\"dataframe\">\n",
       "  <thead>\n",
       "    <tr style=\"text-align: right;\">\n",
       "      <th></th>\n",
       "      <th>sl</th>\n",
       "      <th>sw</th>\n",
       "      <th>pl</th>\n",
       "      <th>pw</th>\n",
       "      <th>class</th>\n",
       "    </tr>\n",
       "  </thead>\n",
       "  <tbody>\n",
       "    <tr>\n",
       "      <th>0</th>\n",
       "      <td>5.1</td>\n",
       "      <td>3.5</td>\n",
       "      <td>1.4</td>\n",
       "      <td>0.2</td>\n",
       "      <td>Iris-setosa</td>\n",
       "    </tr>\n",
       "    <tr>\n",
       "      <th>1</th>\n",
       "      <td>4.9</td>\n",
       "      <td>3.0</td>\n",
       "      <td>1.4</td>\n",
       "      <td>0.2</td>\n",
       "      <td>Iris-setosa</td>\n",
       "    </tr>\n",
       "    <tr>\n",
       "      <th>2</th>\n",
       "      <td>4.7</td>\n",
       "      <td>3.2</td>\n",
       "      <td>1.3</td>\n",
       "      <td>0.2</td>\n",
       "      <td>Iris-setosa</td>\n",
       "    </tr>\n",
       "    <tr>\n",
       "      <th>3</th>\n",
       "      <td>4.6</td>\n",
       "      <td>3.1</td>\n",
       "      <td>1.5</td>\n",
       "      <td>0.2</td>\n",
       "      <td>Iris-setosa</td>\n",
       "    </tr>\n",
       "    <tr>\n",
       "      <th>4</th>\n",
       "      <td>5.0</td>\n",
       "      <td>3.6</td>\n",
       "      <td>1.4</td>\n",
       "      <td>0.2</td>\n",
       "      <td>Iris-setosa</td>\n",
       "    </tr>\n",
       "    <tr>\n",
       "      <th>...</th>\n",
       "      <td>...</td>\n",
       "      <td>...</td>\n",
       "      <td>...</td>\n",
       "      <td>...</td>\n",
       "      <td>...</td>\n",
       "    </tr>\n",
       "    <tr>\n",
       "      <th>145</th>\n",
       "      <td>6.7</td>\n",
       "      <td>3.0</td>\n",
       "      <td>5.2</td>\n",
       "      <td>2.3</td>\n",
       "      <td>Iris-virginica</td>\n",
       "    </tr>\n",
       "    <tr>\n",
       "      <th>146</th>\n",
       "      <td>6.3</td>\n",
       "      <td>2.5</td>\n",
       "      <td>5.0</td>\n",
       "      <td>1.9</td>\n",
       "      <td>Iris-virginica</td>\n",
       "    </tr>\n",
       "    <tr>\n",
       "      <th>147</th>\n",
       "      <td>6.5</td>\n",
       "      <td>3.0</td>\n",
       "      <td>5.2</td>\n",
       "      <td>2.0</td>\n",
       "      <td>Iris-virginica</td>\n",
       "    </tr>\n",
       "    <tr>\n",
       "      <th>148</th>\n",
       "      <td>6.2</td>\n",
       "      <td>3.4</td>\n",
       "      <td>5.4</td>\n",
       "      <td>2.3</td>\n",
       "      <td>Iris-virginica</td>\n",
       "    </tr>\n",
       "    <tr>\n",
       "      <th>149</th>\n",
       "      <td>5.9</td>\n",
       "      <td>3.0</td>\n",
       "      <td>5.1</td>\n",
       "      <td>1.8</td>\n",
       "      <td>Iris-virginica</td>\n",
       "    </tr>\n",
       "  </tbody>\n",
       "</table>\n",
       "<p>150 rows × 5 columns</p>\n",
       "</div>"
      ],
      "text/plain": [
       "      sl   sw   pl   pw           class\n",
       "0    5.1  3.5  1.4  0.2     Iris-setosa\n",
       "1    4.9  3.0  1.4  0.2     Iris-setosa\n",
       "2    4.7  3.2  1.3  0.2     Iris-setosa\n",
       "3    4.6  3.1  1.5  0.2     Iris-setosa\n",
       "4    5.0  3.6  1.4  0.2     Iris-setosa\n",
       "..   ...  ...  ...  ...             ...\n",
       "145  6.7  3.0  5.2  2.3  Iris-virginica\n",
       "146  6.3  2.5  5.0  1.9  Iris-virginica\n",
       "147  6.5  3.0  5.2  2.0  Iris-virginica\n",
       "148  6.2  3.4  5.4  2.3  Iris-virginica\n",
       "149  5.9  3.0  5.1  1.8  Iris-virginica\n",
       "\n",
       "[150 rows x 5 columns]"
      ]
     },
     "execution_count": 12,
     "metadata": {},
     "output_type": "execute_result"
    }
   ],
   "source": [
    "df"
   ]
  },
  {
   "cell_type": "code",
   "execution_count": 13,
   "metadata": {},
   "outputs": [
    {
     "data": {
      "text/plain": [
       "(150, 5)"
      ]
     },
     "execution_count": 13,
     "metadata": {},
     "output_type": "execute_result"
    }
   ],
   "source": [
    "df.shape"
   ]
  },
  {
   "cell_type": "code",
   "execution_count": 15,
   "metadata": {},
   "outputs": [
    {
     "data": {
      "text/plain": [
       "array([0, 0, 0, 0, 0, 0, 0, 0, 0, 0, 0, 0, 0, 0, 0, 0, 0, 0, 0, 0, 0, 0,\n",
       "       0, 0, 0, 0, 0, 0, 0, 0, 0, 0, 0, 0, 0, 0, 0, 0, 0, 0, 0, 0, 0, 0,\n",
       "       0, 0, 0, 0, 0, 0, 1, 1, 1, 1, 1, 1, 1, 1, 1, 1, 1, 1, 1, 1, 1, 1,\n",
       "       1, 1, 1, 1, 1, 1, 1, 1, 1, 1, 1, 1, 1, 1, 1, 1, 1, 1, 1, 1, 1, 1,\n",
       "       1, 1, 1, 1, 1, 1, 1, 1, 1, 1, 1, 1, 2, 2, 2, 2, 2, 2, 2, 2, 2, 2,\n",
       "       2, 2, 2, 2, 2, 2, 2, 2, 2, 2, 2, 2, 2, 2, 2, 2, 2, 2, 2, 2, 2, 2,\n",
       "       2, 2, 2, 2, 2, 2, 2, 2, 2, 2, 2, 2, 2, 2, 2, 2, 2, 2])"
      ]
     },
     "execution_count": 15,
     "metadata": {},
     "output_type": "execute_result"
    }
   ],
   "source": [
    "Y_encoded = LabelEncoder().fit_transform(df['class'])\n",
    "Y_encoded\n",
    "# 'Iris-setosa'=>0. 'Iris-versicolor'=>1, 'Iris-virginica'=>2"
   ]
  },
  {
   "cell_type": "code",
   "execution_count": 17,
   "metadata": {},
   "outputs": [
    {
     "data": {
      "text/plain": [
       "array([[1., 0., 0.],\n",
       "       [1., 0., 0.],\n",
       "       [1., 0., 0.],\n",
       "       [1., 0., 0.],\n",
       "       [1., 0., 0.],\n",
       "       [1., 0., 0.],\n",
       "       [1., 0., 0.],\n",
       "       [1., 0., 0.],\n",
       "       [1., 0., 0.],\n",
       "       [1., 0., 0.],\n",
       "       [1., 0., 0.],\n",
       "       [1., 0., 0.],\n",
       "       [1., 0., 0.],\n",
       "       [1., 0., 0.],\n",
       "       [1., 0., 0.],\n",
       "       [1., 0., 0.],\n",
       "       [1., 0., 0.],\n",
       "       [1., 0., 0.],\n",
       "       [1., 0., 0.],\n",
       "       [1., 0., 0.],\n",
       "       [1., 0., 0.],\n",
       "       [1., 0., 0.],\n",
       "       [1., 0., 0.],\n",
       "       [1., 0., 0.],\n",
       "       [1., 0., 0.],\n",
       "       [1., 0., 0.],\n",
       "       [1., 0., 0.],\n",
       "       [1., 0., 0.],\n",
       "       [1., 0., 0.],\n",
       "       [1., 0., 0.],\n",
       "       [1., 0., 0.],\n",
       "       [1., 0., 0.],\n",
       "       [1., 0., 0.],\n",
       "       [1., 0., 0.],\n",
       "       [1., 0., 0.],\n",
       "       [1., 0., 0.],\n",
       "       [1., 0., 0.],\n",
       "       [1., 0., 0.],\n",
       "       [1., 0., 0.],\n",
       "       [1., 0., 0.],\n",
       "       [1., 0., 0.],\n",
       "       [1., 0., 0.],\n",
       "       [1., 0., 0.],\n",
       "       [1., 0., 0.],\n",
       "       [1., 0., 0.],\n",
       "       [1., 0., 0.],\n",
       "       [1., 0., 0.],\n",
       "       [1., 0., 0.],\n",
       "       [1., 0., 0.],\n",
       "       [1., 0., 0.],\n",
       "       [0., 1., 0.],\n",
       "       [0., 1., 0.],\n",
       "       [0., 1., 0.],\n",
       "       [0., 1., 0.],\n",
       "       [0., 1., 0.],\n",
       "       [0., 1., 0.],\n",
       "       [0., 1., 0.],\n",
       "       [0., 1., 0.],\n",
       "       [0., 1., 0.],\n",
       "       [0., 1., 0.],\n",
       "       [0., 1., 0.],\n",
       "       [0., 1., 0.],\n",
       "       [0., 1., 0.],\n",
       "       [0., 1., 0.],\n",
       "       [0., 1., 0.],\n",
       "       [0., 1., 0.],\n",
       "       [0., 1., 0.],\n",
       "       [0., 1., 0.],\n",
       "       [0., 1., 0.],\n",
       "       [0., 1., 0.],\n",
       "       [0., 1., 0.],\n",
       "       [0., 1., 0.],\n",
       "       [0., 1., 0.],\n",
       "       [0., 1., 0.],\n",
       "       [0., 1., 0.],\n",
       "       [0., 1., 0.],\n",
       "       [0., 1., 0.],\n",
       "       [0., 1., 0.],\n",
       "       [0., 1., 0.],\n",
       "       [0., 1., 0.],\n",
       "       [0., 1., 0.],\n",
       "       [0., 1., 0.],\n",
       "       [0., 1., 0.],\n",
       "       [0., 1., 0.],\n",
       "       [0., 1., 0.],\n",
       "       [0., 1., 0.],\n",
       "       [0., 1., 0.],\n",
       "       [0., 1., 0.],\n",
       "       [0., 1., 0.],\n",
       "       [0., 1., 0.],\n",
       "       [0., 1., 0.],\n",
       "       [0., 1., 0.],\n",
       "       [0., 1., 0.],\n",
       "       [0., 1., 0.],\n",
       "       [0., 1., 0.],\n",
       "       [0., 1., 0.],\n",
       "       [0., 1., 0.],\n",
       "       [0., 1., 0.],\n",
       "       [0., 1., 0.],\n",
       "       [0., 1., 0.],\n",
       "       [0., 0., 1.],\n",
       "       [0., 0., 1.],\n",
       "       [0., 0., 1.],\n",
       "       [0., 0., 1.],\n",
       "       [0., 0., 1.],\n",
       "       [0., 0., 1.],\n",
       "       [0., 0., 1.],\n",
       "       [0., 0., 1.],\n",
       "       [0., 0., 1.],\n",
       "       [0., 0., 1.],\n",
       "       [0., 0., 1.],\n",
       "       [0., 0., 1.],\n",
       "       [0., 0., 1.],\n",
       "       [0., 0., 1.],\n",
       "       [0., 0., 1.],\n",
       "       [0., 0., 1.],\n",
       "       [0., 0., 1.],\n",
       "       [0., 0., 1.],\n",
       "       [0., 0., 1.],\n",
       "       [0., 0., 1.],\n",
       "       [0., 0., 1.],\n",
       "       [0., 0., 1.],\n",
       "       [0., 0., 1.],\n",
       "       [0., 0., 1.],\n",
       "       [0., 0., 1.],\n",
       "       [0., 0., 1.],\n",
       "       [0., 0., 1.],\n",
       "       [0., 0., 1.],\n",
       "       [0., 0., 1.],\n",
       "       [0., 0., 1.],\n",
       "       [0., 0., 1.],\n",
       "       [0., 0., 1.],\n",
       "       [0., 0., 1.],\n",
       "       [0., 0., 1.],\n",
       "       [0., 0., 1.],\n",
       "       [0., 0., 1.],\n",
       "       [0., 0., 1.],\n",
       "       [0., 0., 1.],\n",
       "       [0., 0., 1.],\n",
       "       [0., 0., 1.],\n",
       "       [0., 0., 1.],\n",
       "       [0., 0., 1.],\n",
       "       [0., 0., 1.],\n",
       "       [0., 0., 1.],\n",
       "       [0., 0., 1.],\n",
       "       [0., 0., 1.],\n",
       "       [0., 0., 1.],\n",
       "       [0., 0., 1.],\n",
       "       [0., 0., 1.],\n",
       "       [0., 0., 1.]], dtype=float32)"
      ]
     },
     "execution_count": 17,
     "metadata": {},
     "output_type": "execute_result"
    }
   ],
   "source": [
    "Y = np_utils.to_categorical(Y_encoded)\n",
    "# 0==>[1,0,0] 1==>[0,1,0] 2==>[0,0,1]\n",
    "Y"
   ]
  },
  {
   "cell_type": "code",
   "execution_count": 18,
   "metadata": {},
   "outputs": [],
   "source": [
    "X = df.drop('class', axis=1)"
   ]
  },
  {
   "cell_type": "code",
   "execution_count": 19,
   "metadata": {},
   "outputs": [
    {
     "data": {
      "text/html": [
       "<div>\n",
       "<style scoped>\n",
       "    .dataframe tbody tr th:only-of-type {\n",
       "        vertical-align: middle;\n",
       "    }\n",
       "\n",
       "    .dataframe tbody tr th {\n",
       "        vertical-align: top;\n",
       "    }\n",
       "\n",
       "    .dataframe thead th {\n",
       "        text-align: right;\n",
       "    }\n",
       "</style>\n",
       "<table border=\"1\" class=\"dataframe\">\n",
       "  <thead>\n",
       "    <tr style=\"text-align: right;\">\n",
       "      <th></th>\n",
       "      <th>sl</th>\n",
       "      <th>sw</th>\n",
       "      <th>pl</th>\n",
       "      <th>pw</th>\n",
       "    </tr>\n",
       "  </thead>\n",
       "  <tbody>\n",
       "    <tr>\n",
       "      <th>0</th>\n",
       "      <td>5.1</td>\n",
       "      <td>3.5</td>\n",
       "      <td>1.4</td>\n",
       "      <td>0.2</td>\n",
       "    </tr>\n",
       "    <tr>\n",
       "      <th>1</th>\n",
       "      <td>4.9</td>\n",
       "      <td>3.0</td>\n",
       "      <td>1.4</td>\n",
       "      <td>0.2</td>\n",
       "    </tr>\n",
       "    <tr>\n",
       "      <th>2</th>\n",
       "      <td>4.7</td>\n",
       "      <td>3.2</td>\n",
       "      <td>1.3</td>\n",
       "      <td>0.2</td>\n",
       "    </tr>\n",
       "    <tr>\n",
       "      <th>3</th>\n",
       "      <td>4.6</td>\n",
       "      <td>3.1</td>\n",
       "      <td>1.5</td>\n",
       "      <td>0.2</td>\n",
       "    </tr>\n",
       "    <tr>\n",
       "      <th>4</th>\n",
       "      <td>5.0</td>\n",
       "      <td>3.6</td>\n",
       "      <td>1.4</td>\n",
       "      <td>0.2</td>\n",
       "    </tr>\n",
       "    <tr>\n",
       "      <th>...</th>\n",
       "      <td>...</td>\n",
       "      <td>...</td>\n",
       "      <td>...</td>\n",
       "      <td>...</td>\n",
       "    </tr>\n",
       "    <tr>\n",
       "      <th>145</th>\n",
       "      <td>6.7</td>\n",
       "      <td>3.0</td>\n",
       "      <td>5.2</td>\n",
       "      <td>2.3</td>\n",
       "    </tr>\n",
       "    <tr>\n",
       "      <th>146</th>\n",
       "      <td>6.3</td>\n",
       "      <td>2.5</td>\n",
       "      <td>5.0</td>\n",
       "      <td>1.9</td>\n",
       "    </tr>\n",
       "    <tr>\n",
       "      <th>147</th>\n",
       "      <td>6.5</td>\n",
       "      <td>3.0</td>\n",
       "      <td>5.2</td>\n",
       "      <td>2.0</td>\n",
       "    </tr>\n",
       "    <tr>\n",
       "      <th>148</th>\n",
       "      <td>6.2</td>\n",
       "      <td>3.4</td>\n",
       "      <td>5.4</td>\n",
       "      <td>2.3</td>\n",
       "    </tr>\n",
       "    <tr>\n",
       "      <th>149</th>\n",
       "      <td>5.9</td>\n",
       "      <td>3.0</td>\n",
       "      <td>5.1</td>\n",
       "      <td>1.8</td>\n",
       "    </tr>\n",
       "  </tbody>\n",
       "</table>\n",
       "<p>150 rows × 4 columns</p>\n",
       "</div>"
      ],
      "text/plain": [
       "      sl   sw   pl   pw\n",
       "0    5.1  3.5  1.4  0.2\n",
       "1    4.9  3.0  1.4  0.2\n",
       "2    4.7  3.2  1.3  0.2\n",
       "3    4.6  3.1  1.5  0.2\n",
       "4    5.0  3.6  1.4  0.2\n",
       "..   ...  ...  ...  ...\n",
       "145  6.7  3.0  5.2  2.3\n",
       "146  6.3  2.5  5.0  1.9\n",
       "147  6.5  3.0  5.2  2.0\n",
       "148  6.2  3.4  5.4  2.3\n",
       "149  5.9  3.0  5.1  1.8\n",
       "\n",
       "[150 rows x 4 columns]"
      ]
     },
     "execution_count": 19,
     "metadata": {},
     "output_type": "execute_result"
    }
   ],
   "source": [
    "X"
   ]
  },
  {
   "cell_type": "code",
   "execution_count": 21,
   "metadata": {},
   "outputs": [],
   "source": [
    "from sklearn.model_selection import train_test_split"
   ]
  },
  {
   "cell_type": "code",
   "execution_count": 22,
   "metadata": {},
   "outputs": [],
   "source": [
    "X_train, X_test, y_train, y_test = train_test_split(X,Y,test_size=0.1, random_state=42)"
   ]
  },
  {
   "cell_type": "code",
   "execution_count": 23,
   "metadata": {},
   "outputs": [],
   "source": [
    "check_pointer = ModelCheckpoint(filepath='iris_model.h5', monitor='val_loss',\n",
    "                                verbose=1, save_best_only=True)"
   ]
  },
  {
   "cell_type": "code",
   "execution_count": 24,
   "metadata": {},
   "outputs": [],
   "source": [
    "early_stopper = EarlyStopping(monitor='val_loss', patience=3)"
   ]
  },
  {
   "cell_type": "code",
   "execution_count": 36,
   "metadata": {},
   "outputs": [
    {
     "name": "stdout",
     "output_type": "stream",
     "text": [
      "_________________________________________________________________\n",
      "Layer (type)                 Output Shape              Param #   \n",
      "=================================================================\n",
      "dense_5 (Dense)              (None, 256)               1280      \n",
      "_________________________________________________________________\n",
      "dense_6 (Dense)              (None, 128)               32896     \n",
      "_________________________________________________________________\n",
      "dense_7 (Dense)              (None, 32)                4128      \n",
      "_________________________________________________________________\n",
      "dense_8 (Dense)              (None, 3)                 99        \n",
      "=================================================================\n",
      "Total params: 38,403\n",
      "Trainable params: 38,403\n",
      "Non-trainable params: 0\n",
      "_________________________________________________________________\n"
     ]
    }
   ],
   "source": [
    "model = Sequential()\n",
    "model.add(Dense(256, activation='relu', input_shape=(4,)))\n",
    "model.add(Dense(128, activation='relu'))\n",
    "model.add(Dense(32, activation='relu'))\n",
    "model.add(Dense(3, activation='softmax'))\n",
    "model.summary()"
   ]
  },
  {
   "cell_type": "code",
   "execution_count": 37,
   "metadata": {},
   "outputs": [],
   "source": [
    "model.compile(loss='categorical_crossentropy',optimizer='adam', metrics=['accuracy'])"
   ]
  },
  {
   "cell_type": "code",
   "execution_count": 40,
   "metadata": {},
   "outputs": [
    {
     "name": "stdout",
     "output_type": "stream",
     "text": [
      "Train on 121 samples, validate on 14 samples\n",
      "Epoch 1/50\n",
      "121/121 [==============================] - 0s 2ms/step - loss: 1.0559 - acc: 0.4628 - val_loss: 0.8802 - val_acc: 0.7143\n",
      "\n",
      "Epoch 00001: val_loss improved from inf to 0.88025, saving model to iris_model.h5\n",
      "Epoch 2/50\n",
      "121/121 [==============================] - 0s 41us/step - loss: 0.9024 - acc: 0.5868 - val_loss: 0.7774 - val_acc: 0.6429\n",
      "\n",
      "Epoch 00002: val_loss improved from 0.88025 to 0.77736, saving model to iris_model.h5\n",
      "Epoch 3/50\n",
      "121/121 [==============================] - 0s 49us/step - loss: 0.7702 - acc: 0.6777 - val_loss: 0.7119 - val_acc: 0.8571\n",
      "\n",
      "Epoch 00003: val_loss improved from 0.77736 to 0.71187, saving model to iris_model.h5\n",
      "Epoch 4/50\n",
      "121/121 [==============================] - 0s 41us/step - loss: 0.6719 - acc: 0.8099 - val_loss: 0.6115 - val_acc: 1.0000\n",
      "\n",
      "Epoch 00004: val_loss improved from 0.71187 to 0.61148, saving model to iris_model.h5\n",
      "Epoch 5/50\n",
      "121/121 [==============================] - 0s 49us/step - loss: 0.5683 - acc: 0.9008 - val_loss: 0.5236 - val_acc: 0.9286\n",
      "\n",
      "Epoch 00005: val_loss improved from 0.61148 to 0.52356, saving model to iris_model.h5\n",
      "Epoch 6/50\n",
      "121/121 [==============================] - 0s 49us/step - loss: 0.4960 - acc: 0.7934 - val_loss: 0.4543 - val_acc: 1.0000\n",
      "\n",
      "Epoch 00006: val_loss improved from 0.52356 to 0.45433, saving model to iris_model.h5\n",
      "Epoch 7/50\n",
      "121/121 [==============================] - 0s 58us/step - loss: 0.4329 - acc: 0.8926 - val_loss: 0.4322 - val_acc: 1.0000\n",
      "\n",
      "Epoch 00007: val_loss improved from 0.45433 to 0.43222, saving model to iris_model.h5\n",
      "Epoch 8/50\n",
      "121/121 [==============================] - 0s 50us/step - loss: 0.3754 - acc: 0.9669 - val_loss: 0.3517 - val_acc: 1.0000\n",
      "\n",
      "Epoch 00008: val_loss improved from 0.43222 to 0.35167, saving model to iris_model.h5\n",
      "Epoch 9/50\n",
      "121/121 [==============================] - 0s 49us/step - loss: 0.3282 - acc: 0.9339 - val_loss: 0.3224 - val_acc: 1.0000\n",
      "\n",
      "Epoch 00009: val_loss improved from 0.35167 to 0.32244, saving model to iris_model.h5\n",
      "Epoch 10/50\n",
      "121/121 [==============================] - 0s 41us/step - loss: 0.3014 - acc: 0.9835 - val_loss: 0.2956 - val_acc: 1.0000\n",
      "\n",
      "Epoch 00010: val_loss improved from 0.32244 to 0.29559, saving model to iris_model.h5\n",
      "Epoch 11/50\n",
      "121/121 [==============================] - 0s 49us/step - loss: 0.2708 - acc: 0.9587 - val_loss: 0.2431 - val_acc: 1.0000\n",
      "\n",
      "Epoch 00011: val_loss improved from 0.29559 to 0.24305, saving model to iris_model.h5\n",
      "Epoch 12/50\n",
      "121/121 [==============================] - 0s 49us/step - loss: 0.2558 - acc: 0.9504 - val_loss: 0.2313 - val_acc: 1.0000\n",
      "\n",
      "Epoch 00012: val_loss improved from 0.24305 to 0.23134, saving model to iris_model.h5\n",
      "Epoch 13/50\n",
      "121/121 [==============================] - 0s 49us/step - loss: 0.2235 - acc: 0.9669 - val_loss: 0.1905 - val_acc: 1.0000\n",
      "\n",
      "Epoch 00013: val_loss improved from 0.23134 to 0.19052, saving model to iris_model.h5\n",
      "Epoch 14/50\n",
      "121/121 [==============================] - 0s 49us/step - loss: 0.2100 - acc: 0.9587 - val_loss: 0.1790 - val_acc: 1.0000\n",
      "\n",
      "Epoch 00014: val_loss improved from 0.19052 to 0.17901, saving model to iris_model.h5\n",
      "Epoch 15/50\n",
      "121/121 [==============================] - 0s 49us/step - loss: 0.1972 - acc: 0.9669 - val_loss: 0.1505 - val_acc: 1.0000\n",
      "\n",
      "Epoch 00015: val_loss improved from 0.17901 to 0.15047, saving model to iris_model.h5\n",
      "Epoch 16/50\n",
      "121/121 [==============================] - 0s 41us/step - loss: 0.1802 - acc: 0.9587 - val_loss: 0.1516 - val_acc: 1.0000\n",
      "\n",
      "Epoch 00016: val_loss did not improve from 0.15047\n",
      "Epoch 17/50\n",
      "121/121 [==============================] - 0s 49us/step - loss: 0.1661 - acc: 0.9752 - val_loss: 0.1139 - val_acc: 1.0000\n",
      "\n",
      "Epoch 00017: val_loss improved from 0.15047 to 0.11388, saving model to iris_model.h5\n",
      "Epoch 18/50\n",
      "121/121 [==============================] - 0s 49us/step - loss: 0.1629 - acc: 0.9587 - val_loss: 0.1153 - val_acc: 1.0000\n",
      "\n",
      "Epoch 00018: val_loss did not improve from 0.11388\n",
      "Epoch 19/50\n",
      "121/121 [==============================] - 0s 49us/step - loss: 0.1587 - acc: 0.9339 - val_loss: 0.0973 - val_acc: 1.0000\n",
      "\n",
      "Epoch 00019: val_loss improved from 0.11388 to 0.09728, saving model to iris_model.h5\n",
      "Epoch 20/50\n",
      "121/121 [==============================] - 0s 66us/step - loss: 0.1438 - acc: 0.9669 - val_loss: 0.0787 - val_acc: 1.0000\n",
      "\n",
      "Epoch 00020: val_loss improved from 0.09728 to 0.07872, saving model to iris_model.h5\n",
      "Epoch 21/50\n",
      "121/121 [==============================] - 0s 49us/step - loss: 0.1303 - acc: 0.9669 - val_loss: 0.0967 - val_acc: 1.0000\n",
      "\n",
      "Epoch 00021: val_loss did not improve from 0.07872\n",
      "Epoch 22/50\n",
      "121/121 [==============================] - 0s 74us/step - loss: 0.1285 - acc: 0.9752 - val_loss: 0.0657 - val_acc: 1.0000\n",
      "\n",
      "Epoch 00022: val_loss improved from 0.07872 to 0.06566, saving model to iris_model.h5\n",
      "Epoch 23/50\n",
      "121/121 [==============================] - 0s 74us/step - loss: 0.1251 - acc: 0.9669 - val_loss: 0.0603 - val_acc: 1.0000\n",
      "\n",
      "Epoch 00023: val_loss improved from 0.06566 to 0.06027, saving model to iris_model.h5\n",
      "Epoch 24/50\n",
      "121/121 [==============================] - 0s 41us/step - loss: 0.1223 - acc: 0.9752 - val_loss: 0.0585 - val_acc: 1.0000\n",
      "\n",
      "Epoch 00024: val_loss improved from 0.06027 to 0.05845, saving model to iris_model.h5\n",
      "Epoch 25/50\n",
      "121/121 [==============================] - 0s 41us/step - loss: 0.1458 - acc: 0.9504 - val_loss: 0.0475 - val_acc: 1.0000\n",
      "\n",
      "Epoch 00025: val_loss improved from 0.05845 to 0.04746, saving model to iris_model.h5\n",
      "Epoch 26/50\n",
      "121/121 [==============================] - 0s 41us/step - loss: 0.1159 - acc: 0.9587 - val_loss: 0.0986 - val_acc: 1.0000\n",
      "\n",
      "Epoch 00026: val_loss did not improve from 0.04746\n",
      "Epoch 27/50\n",
      "121/121 [==============================] - 0s 41us/step - loss: 0.1050 - acc: 0.9669 - val_loss: 0.0480 - val_acc: 1.0000\n",
      "\n",
      "Epoch 00027: val_loss did not improve from 0.04746\n",
      "Epoch 28/50\n",
      "121/121 [==============================] - 0s 41us/step - loss: 0.1391 - acc: 0.9421 - val_loss: 0.0486 - val_acc: 1.0000\n",
      "\n",
      "Epoch 00028: val_loss did not improve from 0.04746\n"
     ]
    }
   ],
   "source": [
    "# hist = model.fit(X_train,y_train, epochs=50)\n",
    "\n",
    "# %%time\n",
    "hist = model.fit(X_train, y_train, epochs=50, validation_split=0.1,\n",
    "                 callbacks=[check_pointer, early_stopper])"
   ]
  },
  {
   "cell_type": "code",
   "execution_count": 41,
   "metadata": {},
   "outputs": [
    {
     "name": "stdout",
     "output_type": "stream",
     "text": [
      "dict_keys(['val_loss', 'val_acc', 'loss', 'acc'])\n"
     ]
    }
   ],
   "source": [
    "print(hist.history.keys()) # 학습기록"
   ]
  },
  {
   "cell_type": "code",
   "execution_count": 42,
   "metadata": {},
   "outputs": [
    {
     "data": {
      "image/png": "[encoded data removed]",
      "text/plain": [
       "<Figure size 720x720 with 2 Axes>"
      ]
     },
     "metadata": {
      "needs_background": "light"
     },
     "output_type": "display_data"
    }
   ],
   "source": [
    "plt.figure(figsize=(10,10))\n",
    "\n",
    "plt.subplot(1,2,1)\n",
    "plt.plot(hist.history['acc']) #훈련 정확도\n",
    "plt.plot(hist.history['val_acc']) #validation accuracy\n",
    "plt.legend(['acc', 'val_acc'])\n",
    "\n",
    "plt.subplot(1,2,2)\n",
    "plt.plot(hist.history['loss'])\n",
    "plt.plot(hist.history['val_loss'])\n",
    "plt.legend(['loss', 'val_loss'])\n",
    "\n",
    "plt.show()"
   ]
  },
  {
   "cell_type": "code",
   "execution_count": 43,
   "metadata": {},
   "outputs": [
    {
     "name": "stdout",
     "output_type": "stream",
     "text": [
      "\r",
      "15/15 [==============================] - 0s 65us/step\n"
     ]
    }
   ],
   "source": [
    "loss_score = model.evaluate(X_test, y_test)"
   ]
  },
  {
   "cell_type": "code",
   "execution_count": 44,
   "metadata": {},
   "outputs": [
    {
     "name": "stdout",
     "output_type": "stream",
     "text": [
      "[0.11835551261901855, 1.0]\n"
     ]
    }
   ],
   "source": [
    "print(loss_score)\n",
    "# [0.11835551261901855, 1.0] [loss, score]"
   ]
  },
  {
   "cell_type": "code",
   "execution_count": 45,
   "metadata": {},
   "outputs": [
    {
     "name": "stdout",
     "output_type": "stream",
     "text": [
      "[[2.38980143e-03 9.17836487e-01 7.97737017e-02]\n",
      " [9.98902321e-01 1.09326723e-03 4.37249309e-06]\n",
      " [1.48646291e-06 2.49583391e-03 9.97502744e-01]\n",
      " [2.64007389e-03 8.94738078e-01 1.02621846e-01]\n",
      " [1.59821252e-03 9.65849221e-01 3.25526111e-02]\n",
      " [9.97945249e-01 2.04350031e-03 1.13113438e-05]\n",
      " [1.38808796e-02 9.77709413e-01 8.40967800e-03]\n",
      " [4.86715609e-04 4.04083759e-01 5.95429480e-01]\n",
      " [1.83559582e-03 6.92577600e-01 3.05586785e-01]\n",
      " [6.00357633e-03 9.82607782e-01 1.13886315e-02]\n",
      " [7.02619436e-04 4.53046143e-01 5.46251178e-01]\n",
      " [9.97199178e-01 2.77405675e-03 2.67299711e-05]\n",
      " [9.99348700e-01 6.47995214e-04 3.29262571e-06]\n",
      " [9.97150958e-01 2.82460591e-03 2.45001447e-05]\n",
      " [9.98912334e-01 1.08100858e-03 6.71395264e-06]]\n",
      "[[0. 1. 0.]\n",
      " [1. 0. 0.]\n",
      " [0. 0. 1.]\n",
      " [0. 1. 0.]\n",
      " [0. 1. 0.]\n",
      " [1. 0. 0.]\n",
      " [0. 1. 0.]\n",
      " [0. 0. 1.]\n",
      " [0. 1. 0.]\n",
      " [0. 1. 0.]\n",
      " [0. 0. 1.]\n",
      " [1. 0. 0.]\n",
      " [1. 0. 0.]\n",
      " [1. 0. 0.]\n",
      " [1. 0. 0.]]\n",
      "[1 0 2 1 1 0 1 2 1 1 2 0 0 0 0]\n"
     ]
    }
   ],
   "source": [
    "pred = model.predict(X_test)\n",
    "print(pred)\n",
    "print(y_test)\n",
    "print(model.predict_classes(X_test))"
   ]
  },
  {
   "cell_type": "code",
   "execution_count": 46,
   "metadata": {},
   "outputs": [],
   "source": [
    "# RNN ==> LSTM 실습 : 비트코인 가격 예측"
   ]
  },
  {
   "cell_type": "code",
   "execution_count": 47,
   "metadata": {},
   "outputs": [],
   "source": [
    "%matplotlib inline\n",
    "import matplotlib.pyplot as plt\n",
    "import seaborn as sns\n",
    "import numpy as np\n",
    "import pandas as pd"
   ]
  },
  {
   "cell_type": "code",
   "execution_count": 48,
   "metadata": {},
   "outputs": [],
   "source": [
    "from sklearn.preprocessing import MinMaxScaler"
   ]
  },
  {
   "cell_type": "code",
   "execution_count": 49,
   "metadata": {},
   "outputs": [],
   "source": [
    "import requests"
   ]
  },
  {
   "cell_type": "code",
   "execution_count": 50,
   "metadata": {},
   "outputs": [],
   "source": [
    "from keras.models import Sequential"
   ]
  },
  {
   "cell_type": "code",
   "execution_count": 51,
   "metadata": {},
   "outputs": [],
   "source": [
    "from keras.layers import Dense"
   ]
  },
  {
   "cell_type": "code",
   "execution_count": 52,
   "metadata": {},
   "outputs": [],
   "source": [
    "from keras.layers import Dropout"
   ]
  },
  {
   "cell_type": "code",
   "execution_count": 53,
   "metadata": {},
   "outputs": [],
   "source": [
    "from keras.layers import LSTM"
   ]
  },
  {
   "cell_type": "code",
   "execution_count": 54,
   "metadata": {},
   "outputs": [],
   "source": [
    "url = \"https://poloniex.com/public?command=returnChartData&currencyPair=USDT_BTC&start=1405699200&end=9999999999&period=86400\""
   ]
  },
  {
   "cell_type": "code",
   "execution_count": 55,
   "metadata": {},
   "outputs": [],
   "source": [
    "ret = requests.get(url)  # <Response [200]>\n",
    "json_data = ret.json()"
   ]
  },
  {
   "cell_type": "code",
   "execution_count": 56,
   "metadata": {},
   "outputs": [],
   "source": [
    "df_origin = pd.DataFrame(json_data)"
   ]
  },
  {
   "cell_type": "code",
   "execution_count": 57,
   "metadata": {},
   "outputs": [
    {
     "data": {
      "text/html": [
       "<div>\n",
       "<style scoped>\n",
       "    .dataframe tbody tr th:only-of-type {\n",
       "        vertical-align: middle;\n",
       "    }\n",
       "\n",
       "    .dataframe tbody tr th {\n",
       "        vertical-align: top;\n",
       "    }\n",
       "\n",
       "    .dataframe thead th {\n",
       "        text-align: right;\n",
       "    }\n",
       "</style>\n",
       "<table border=\"1\" class=\"dataframe\">\n",
       "  <thead>\n",
       "    <tr style=\"text-align: right;\">\n",
       "      <th></th>\n",
       "      <th>date</th>\n",
       "      <th>high</th>\n",
       "      <th>low</th>\n",
       "      <th>open</th>\n",
       "      <th>close</th>\n",
       "      <th>volume</th>\n",
       "      <th>quoteVolume</th>\n",
       "      <th>weightedAverage</th>\n",
       "    </tr>\n",
       "  </thead>\n",
       "  <tbody>\n",
       "    <tr>\n",
       "      <th>0</th>\n",
       "      <td>1424304000</td>\n",
       "      <td>244.000000</td>\n",
       "      <td>225.000000</td>\n",
       "      <td>225.000000</td>\n",
       "      <td>244.000000</td>\n",
       "      <td>4.627631e+01</td>\n",
       "      <td>0.193117</td>\n",
       "      <td>239.627778</td>\n",
       "    </tr>\n",
       "    <tr>\n",
       "      <th>1</th>\n",
       "      <td>1424390400</td>\n",
       "      <td>245.000000</td>\n",
       "      <td>240.250000</td>\n",
       "      <td>240.250118</td>\n",
       "      <td>240.250000</td>\n",
       "      <td>5.589490e+01</td>\n",
       "      <td>0.230429</td>\n",
       "      <td>242.568479</td>\n",
       "    </tr>\n",
       "    <tr>\n",
       "      <th>2</th>\n",
       "      <td>1424476800</td>\n",
       "      <td>245.000000</td>\n",
       "      <td>245.000000</td>\n",
       "      <td>245.000000</td>\n",
       "      <td>245.000000</td>\n",
       "      <td>1.472224e+01</td>\n",
       "      <td>0.060091</td>\n",
       "      <td>245.000000</td>\n",
       "    </tr>\n",
       "    <tr>\n",
       "      <th>3</th>\n",
       "      <td>1424563200</td>\n",
       "      <td>249.000000</td>\n",
       "      <td>235.000000</td>\n",
       "      <td>245.000000</td>\n",
       "      <td>235.000000</td>\n",
       "      <td>1.291212e+02</td>\n",
       "      <td>0.539055</td>\n",
       "      <td>239.532608</td>\n",
       "    </tr>\n",
       "    <tr>\n",
       "      <th>4</th>\n",
       "      <td>1424649600</td>\n",
       "      <td>235.001000</td>\n",
       "      <td>235.000000</td>\n",
       "      <td>235.000002</td>\n",
       "      <td>235.000000</td>\n",
       "      <td>9.656756e+01</td>\n",
       "      <td>0.410926</td>\n",
       "      <td>235.000062</td>\n",
       "    </tr>\n",
       "    <tr>\n",
       "      <th>...</th>\n",
       "      <td>...</td>\n",
       "      <td>...</td>\n",
       "      <td>...</td>\n",
       "      <td>...</td>\n",
       "      <td>...</td>\n",
       "      <td>...</td>\n",
       "      <td>...</td>\n",
       "      <td>...</td>\n",
       "    </tr>\n",
       "    <tr>\n",
       "      <th>2009</th>\n",
       "      <td>1597881600</td>\n",
       "      <td>11878.798593</td>\n",
       "      <td>11672.548482</td>\n",
       "      <td>11757.198800</td>\n",
       "      <td>11856.723407</td>\n",
       "      <td>1.034023e+07</td>\n",
       "      <td>877.129460</td>\n",
       "      <td>11788.721309</td>\n",
       "    </tr>\n",
       "    <tr>\n",
       "      <th>2010</th>\n",
       "      <td>1597968000</td>\n",
       "      <td>11878.167814</td>\n",
       "      <td>11494.000000</td>\n",
       "      <td>11853.929574</td>\n",
       "      <td>11527.476424</td>\n",
       "      <td>1.233026e+07</td>\n",
       "      <td>1053.637962</td>\n",
       "      <td>11702.555204</td>\n",
       "    </tr>\n",
       "    <tr>\n",
       "      <th>2011</th>\n",
       "      <td>1598054400</td>\n",
       "      <td>11686.455080</td>\n",
       "      <td>11375.126813</td>\n",
       "      <td>11527.446471</td>\n",
       "      <td>11667.369992</td>\n",
       "      <td>7.433553e+06</td>\n",
       "      <td>644.064745</td>\n",
       "      <td>11541.624285</td>\n",
       "    </tr>\n",
       "    <tr>\n",
       "      <th>2012</th>\n",
       "      <td>1598140800</td>\n",
       "      <td>11713.941372</td>\n",
       "      <td>11516.580481</td>\n",
       "      <td>11665.725741</td>\n",
       "      <td>11647.230277</td>\n",
       "      <td>6.922739e+06</td>\n",
       "      <td>595.195203</td>\n",
       "      <td>11631.039083</td>\n",
       "    </tr>\n",
       "    <tr>\n",
       "      <th>2013</th>\n",
       "      <td>1598227200</td>\n",
       "      <td>11775.163185</td>\n",
       "      <td>11588.686067</td>\n",
       "      <td>11647.230277</td>\n",
       "      <td>11765.541792</td>\n",
       "      <td>2.216537e+06</td>\n",
       "      <td>190.043509</td>\n",
       "      <td>11663.313813</td>\n",
       "    </tr>\n",
       "  </tbody>\n",
       "</table>\n",
       "<p>2014 rows × 8 columns</p>\n",
       "</div>"
      ],
      "text/plain": [
       "            date          high           low          open         close  \\\n",
       "0     1424304000    244.000000    225.000000    225.000000    244.000000   \n",
       "1     1424390400    245.000000    240.250000    240.250118    240.250000   \n",
       "2     1424476800    245.000000    245.000000    245.000000    245.000000   \n",
       "3     1424563200    249.000000    235.000000    245.000000    235.000000   \n",
       "4     1424649600    235.001000    235.000000    235.000002    235.000000   \n",
       "...          ...           ...           ...           ...           ...   \n",
       "2009  1597881600  11878.798593  11672.548482  11757.198800  11856.723407   \n",
       "2010  1597968000  11878.167814  11494.000000  11853.929574  11527.476424   \n",
       "2011  1598054400  11686.455080  11375.126813  11527.446471  11667.369992   \n",
       "2012  1598140800  11713.941372  11516.580481  11665.725741  11647.230277   \n",
       "2013  1598227200  11775.163185  11588.686067  11647.230277  11765.541792   \n",
       "\n",
       "            volume  quoteVolume  weightedAverage  \n",
       "0     4.627631e+01     0.193117       239.627778  \n",
       "1     5.589490e+01     0.230429       242.568479  \n",
       "2     1.472224e+01     0.060091       245.000000  \n",
       "3     1.291212e+02     0.539055       239.532608  \n",
       "4     9.656756e+01     0.410926       235.000062  \n",
       "...            ...          ...              ...  \n",
       "2009  1.034023e+07   877.129460     11788.721309  \n",
       "2010  1.233026e+07  1053.637962     11702.555204  \n",
       "2011  7.433553e+06   644.064745     11541.624285  \n",
       "2012  6.922739e+06   595.195203     11631.039083  \n",
       "2013  2.216537e+06   190.043509     11663.313813  \n",
       "\n",
       "[2014 rows x 8 columns]"
      ]
     },
     "execution_count": 57,
     "metadata": {},
     "output_type": "execute_result"
    }
   ],
   "source": [
    "df_origin"
   ]
  },
  {
   "cell_type": "code",
   "execution_count": 58,
   "metadata": {},
   "outputs": [],
   "source": [
    "df_origin.to_csv('bitcoin_origin.csv', encoding='utf-8', index=False)"
   ]
  },
  {
   "cell_type": "code",
   "execution_count": 59,
   "metadata": {},
   "outputs": [],
   "source": [
    "scaler = MinMaxScaler()"
   ]
  },
  {
   "cell_type": "code",
   "execution_count": 60,
   "metadata": {},
   "outputs": [],
   "source": [
    "df_origin[['close']] = scaler.fit_transform(df_origin[['close']])"
   ]
  },
  {
   "cell_type": "code",
   "execution_count": 61,
   "metadata": {},
   "outputs": [
    {
     "data": {
      "text/html": [
       "<div>\n",
       "<style scoped>\n",
       "    .dataframe tbody tr th:only-of-type {\n",
       "        vertical-align: middle;\n",
       "    }\n",
       "\n",
       "    .dataframe tbody tr th {\n",
       "        vertical-align: top;\n",
       "    }\n",
       "\n",
       "    .dataframe thead th {\n",
       "        text-align: right;\n",
       "    }\n",
       "</style>\n",
       "<table border=\"1\" class=\"dataframe\">\n",
       "  <thead>\n",
       "    <tr style=\"text-align: right;\">\n",
       "      <th></th>\n",
       "      <th>date</th>\n",
       "      <th>high</th>\n",
       "      <th>low</th>\n",
       "      <th>open</th>\n",
       "      <th>close</th>\n",
       "      <th>volume</th>\n",
       "      <th>quoteVolume</th>\n",
       "      <th>weightedAverage</th>\n",
       "    </tr>\n",
       "  </thead>\n",
       "  <tbody>\n",
       "    <tr>\n",
       "      <th>0</th>\n",
       "      <td>1424304000</td>\n",
       "      <td>244.000</td>\n",
       "      <td>225.00</td>\n",
       "      <td>225.000000</td>\n",
       "      <td>0.003428</td>\n",
       "      <td>46.276313</td>\n",
       "      <td>0.193117</td>\n",
       "      <td>239.627778</td>\n",
       "    </tr>\n",
       "    <tr>\n",
       "      <th>1</th>\n",
       "      <td>1424390400</td>\n",
       "      <td>245.000</td>\n",
       "      <td>240.25</td>\n",
       "      <td>240.250118</td>\n",
       "      <td>0.003231</td>\n",
       "      <td>55.894897</td>\n",
       "      <td>0.230429</td>\n",
       "      <td>242.568479</td>\n",
       "    </tr>\n",
       "    <tr>\n",
       "      <th>2</th>\n",
       "      <td>1424476800</td>\n",
       "      <td>245.000</td>\n",
       "      <td>245.00</td>\n",
       "      <td>245.000000</td>\n",
       "      <td>0.003480</td>\n",
       "      <td>14.722239</td>\n",
       "      <td>0.060091</td>\n",
       "      <td>245.000000</td>\n",
       "    </tr>\n",
       "    <tr>\n",
       "      <th>3</th>\n",
       "      <td>1424563200</td>\n",
       "      <td>249.000</td>\n",
       "      <td>235.00</td>\n",
       "      <td>245.000000</td>\n",
       "      <td>0.002955</td>\n",
       "      <td>129.121248</td>\n",
       "      <td>0.539055</td>\n",
       "      <td>239.532608</td>\n",
       "    </tr>\n",
       "    <tr>\n",
       "      <th>4</th>\n",
       "      <td>1424649600</td>\n",
       "      <td>235.001</td>\n",
       "      <td>235.00</td>\n",
       "      <td>235.000002</td>\n",
       "      <td>0.002955</td>\n",
       "      <td>96.567562</td>\n",
       "      <td>0.410926</td>\n",
       "      <td>235.000062</td>\n",
       "    </tr>\n",
       "  </tbody>\n",
       "</table>\n",
       "</div>"
      ],
      "text/plain": [
       "         date     high     low        open     close      volume  quoteVolume  \\\n",
       "0  1424304000  244.000  225.00  225.000000  0.003428   46.276313     0.193117   \n",
       "1  1424390400  245.000  240.25  240.250118  0.003231   55.894897     0.230429   \n",
       "2  1424476800  245.000  245.00  245.000000  0.003480   14.722239     0.060091   \n",
       "3  1424563200  249.000  235.00  245.000000  0.002955  129.121248     0.539055   \n",
       "4  1424649600  235.001  235.00  235.000002  0.002955   96.567562     0.410926   \n",
       "\n",
       "   weightedAverage  \n",
       "0       239.627778  \n",
       "1       242.568479  \n",
       "2       245.000000  \n",
       "3       239.532608  \n",
       "4       235.000062  "
      ]
     },
     "execution_count": 61,
     "metadata": {},
     "output_type": "execute_result"
    }
   ],
   "source": [
    "df_origin.head()"
   ]
  },
  {
   "cell_type": "code",
   "execution_count": 62,
   "metadata": {},
   "outputs": [],
   "source": [
    "df_origin.to_csv(\"bitcoin_scaled.csv\", encoding='utf-8', index=False)"
   ]
  },
  {
   "cell_type": "code",
   "execution_count": 63,
   "metadata": {},
   "outputs": [],
   "source": [
    "del df_origin"
   ]
  },
  {
   "cell_type": "code",
   "execution_count": 64,
   "metadata": {},
   "outputs": [],
   "source": [
    "df = pd.read_csv(\"bitcoin_scaled.csv\")"
   ]
  },
  {
   "cell_type": "code",
   "execution_count": 65,
   "metadata": {},
   "outputs": [
    {
     "data": {
      "text/plain": [
       "(2014, 8)"
      ]
     },
     "execution_count": 65,
     "metadata": {},
     "output_type": "execute_result"
    }
   ],
   "source": [
    "df.shape"
   ]
  },
  {
   "cell_type": "code",
   "execution_count": 66,
   "metadata": {},
   "outputs": [
    {
     "data": {
      "text/html": [
       "<div>\n",
       "<style scoped>\n",
       "    .dataframe tbody tr th:only-of-type {\n",
       "        vertical-align: middle;\n",
       "    }\n",
       "\n",
       "    .dataframe tbody tr th {\n",
       "        vertical-align: top;\n",
       "    }\n",
       "\n",
       "    .dataframe thead th {\n",
       "        text-align: right;\n",
       "    }\n",
       "</style>\n",
       "<table border=\"1\" class=\"dataframe\">\n",
       "  <thead>\n",
       "    <tr style=\"text-align: right;\">\n",
       "      <th></th>\n",
       "      <th>date</th>\n",
       "      <th>high</th>\n",
       "      <th>low</th>\n",
       "      <th>open</th>\n",
       "      <th>close</th>\n",
       "      <th>volume</th>\n",
       "      <th>quoteVolume</th>\n",
       "      <th>weightedAverage</th>\n",
       "    </tr>\n",
       "  </thead>\n",
       "  <tbody>\n",
       "    <tr>\n",
       "      <th>0</th>\n",
       "      <td>1424304000</td>\n",
       "      <td>244.000</td>\n",
       "      <td>225.00</td>\n",
       "      <td>225.000000</td>\n",
       "      <td>0.003428</td>\n",
       "      <td>46.276313</td>\n",
       "      <td>0.193117</td>\n",
       "      <td>239.627778</td>\n",
       "    </tr>\n",
       "    <tr>\n",
       "      <th>1</th>\n",
       "      <td>1424390400</td>\n",
       "      <td>245.000</td>\n",
       "      <td>240.25</td>\n",
       "      <td>240.250118</td>\n",
       "      <td>0.003231</td>\n",
       "      <td>55.894897</td>\n",
       "      <td>0.230429</td>\n",
       "      <td>242.568479</td>\n",
       "    </tr>\n",
       "    <tr>\n",
       "      <th>2</th>\n",
       "      <td>1424476800</td>\n",
       "      <td>245.000</td>\n",
       "      <td>245.00</td>\n",
       "      <td>245.000000</td>\n",
       "      <td>0.003480</td>\n",
       "      <td>14.722239</td>\n",
       "      <td>0.060091</td>\n",
       "      <td>245.000000</td>\n",
       "    </tr>\n",
       "    <tr>\n",
       "      <th>3</th>\n",
       "      <td>1424563200</td>\n",
       "      <td>249.000</td>\n",
       "      <td>235.00</td>\n",
       "      <td>245.000000</td>\n",
       "      <td>0.002955</td>\n",
       "      <td>129.121248</td>\n",
       "      <td>0.539055</td>\n",
       "      <td>239.532608</td>\n",
       "    </tr>\n",
       "    <tr>\n",
       "      <th>4</th>\n",
       "      <td>1424649600</td>\n",
       "      <td>235.001</td>\n",
       "      <td>235.00</td>\n",
       "      <td>235.000002</td>\n",
       "      <td>0.002955</td>\n",
       "      <td>96.567562</td>\n",
       "      <td>0.410926</td>\n",
       "      <td>235.000062</td>\n",
       "    </tr>\n",
       "  </tbody>\n",
       "</table>\n",
       "</div>"
      ],
      "text/plain": [
       "         date     high     low        open     close      volume  quoteVolume  \\\n",
       "0  1424304000  244.000  225.00  225.000000  0.003428   46.276313     0.193117   \n",
       "1  1424390400  245.000  240.25  240.250118  0.003231   55.894897     0.230429   \n",
       "2  1424476800  245.000  245.00  245.000000  0.003480   14.722239     0.060091   \n",
       "3  1424563200  249.000  235.00  245.000000  0.002955  129.121248     0.539055   \n",
       "4  1424649600  235.001  235.00  235.000002  0.002955   96.567562     0.410926   \n",
       "\n",
       "   weightedAverage  \n",
       "0       239.627778  \n",
       "1       242.568479  \n",
       "2       245.000000  \n",
       "3       239.532608  \n",
       "4       235.000062  "
      ]
     },
     "execution_count": 66,
     "metadata": {},
     "output_type": "execute_result"
    }
   ],
   "source": [
    "df.head()"
   ]
  },
  {
   "cell_type": "code",
   "execution_count": 67,
   "metadata": {},
   "outputs": [],
   "source": [
    "price = df['close']"
   ]
  },
  {
   "cell_type": "code",
   "execution_count": 68,
   "metadata": {},
   "outputs": [
    {
     "data": {
      "text/plain": [
       "0       0.003428\n",
       "1       0.003231\n",
       "2       0.003480\n",
       "3       0.002955\n",
       "4       0.002955\n",
       "          ...   \n",
       "2009    0.613203\n",
       "2010    0.595914\n",
       "2011    0.603260\n",
       "2012    0.602202\n",
       "2013    0.608415\n",
       "Name: close, Length: 2014, dtype: float64"
      ]
     },
     "execution_count": 68,
     "metadata": {},
     "output_type": "execute_result"
    }
   ],
   "source": [
    "price"
   ]
  },
  {
   "cell_type": "code",
   "execution_count": 69,
   "metadata": {},
   "outputs": [],
   "source": [
    "window_size = 5"
   ]
  },
  {
   "cell_type": "code",
   "execution_count": 70,
   "metadata": {},
   "outputs": [],
   "source": [
    "X = []\n",
    "Y = []"
   ]
  },
  {
   "cell_type": "code",
   "execution_count": 71,
   "metadata": {},
   "outputs": [],
   "source": [
    "for i in range(len(price) - window_size):  # 2014 - 5 ==> 2009\n",
    "    X.append( price.iloc[i:i+window_size] )  # 예) 0:5 ==> 0,1,2,3,4\n",
    "    Y.append( price.iloc[i+window_size] )    # 예) 0+5 ==> 5"
   ]
  },
  {
   "cell_type": "code",
   "execution_count": 72,
   "metadata": {},
   "outputs": [],
   "source": [
    "X = np.array(X)\n",
    "Y = np.array(Y)"
   ]
  },
  {
   "cell_type": "code",
   "execution_count": 73,
   "metadata": {},
   "outputs": [
    {
     "data": {
      "text/plain": [
       "((2009, 5), (2009,))"
      ]
     },
     "execution_count": 73,
     "metadata": {},
     "output_type": "execute_result"
    }
   ],
   "source": [
    "X.shape, Y.shape"
   ]
  },
  {
   "cell_type": "code",
   "execution_count": 74,
   "metadata": {},
   "outputs": [
    {
     "data": {
      "text/plain": [
       "array([0.00342784, 0.00323093, 0.00348035, 0.00295525, 0.00295525])"
      ]
     },
     "execution_count": 74,
     "metadata": {},
     "output_type": "execute_result"
    }
   ],
   "source": [
    "X[0]"
   ]
  },
  {
   "cell_type": "code",
   "execution_count": 75,
   "metadata": {},
   "outputs": [
    {
     "data": {
      "text/plain": [
       "0.0032046727572156808"
      ]
     },
     "execution_count": 75,
     "metadata": {},
     "output_type": "execute_result"
    }
   ],
   "source": [
    "Y[0]"
   ]
  },
  {
   "cell_type": "code",
   "execution_count": 76,
   "metadata": {},
   "outputs": [
    {
     "data": {
      "text/plain": [
       "2009"
      ]
     },
     "execution_count": 76,
     "metadata": {},
     "output_type": "execute_result"
    }
   ],
   "source": [
    "len(X)  # 2009"
   ]
  },
  {
   "cell_type": "code",
   "execution_count": 77,
   "metadata": {},
   "outputs": [],
   "source": [
    "split_val = len(X) - 200  # 2009 - 200 ==> 1809"
   ]
  },
  {
   "cell_type": "code",
   "execution_count": 78,
   "metadata": {},
   "outputs": [],
   "source": [
    "X_train = X[:split_val, :]\n",
    "y_train = Y[:split_val]"
   ]
  },
  {
   "cell_type": "code",
   "execution_count": 79,
   "metadata": {},
   "outputs": [],
   "source": [
    "X_test = X[split_val:, :]\n",
    "y_test = Y[split_val:]"
   ]
  },
  {
   "cell_type": "code",
   "execution_count": 80,
   "metadata": {},
   "outputs": [
    {
     "data": {
      "text/plain": [
       "((1809, 5), (1809,))"
      ]
     },
     "execution_count": 80,
     "metadata": {},
     "output_type": "execute_result"
    }
   ],
   "source": [
    "X_train.shape, y_train.shape"
   ]
  },
  {
   "cell_type": "code",
   "execution_count": 81,
   "metadata": {},
   "outputs": [
    {
     "data": {
      "text/plain": [
       "((200, 5), (200,))"
      ]
     },
     "execution_count": 81,
     "metadata": {},
     "output_type": "execute_result"
    }
   ],
   "source": [
    "X_test.shape, y_test.shape"
   ]
  },
  {
   "cell_type": "code",
   "execution_count": 100,
   "metadata": {},
   "outputs": [
    {
     "data": {
      "text/plain": [
       "(1809, 5, 1)"
      ]
     },
     "execution_count": 100,
     "metadata": {},
     "output_type": "execute_result"
    }
   ],
   "source": [
    "#reshape\n",
    "X_train = np.reshape(X_train, (X_train.shape[0], window_size, 1))\n",
    "X_test = np.reshape(X_test,(X_test.shape[0], window_size, 1))\n",
    "X_train.shape"
   ]
  },
  {
   "cell_type": "code",
   "execution_count": 88,
   "metadata": {},
   "outputs": [],
   "source": [
    "model = Sequential()"
   ]
  },
  {
   "cell_type": "code",
   "execution_count": 89,
   "metadata": {},
   "outputs": [],
   "source": [
    "model.add(LSTM(128, input_shape=(5, 1)))  # (feature의_수, dimension)\n",
    "model.add(Dropout(0.2))\n",
    "model.add(Dense(1, activation='linear'))"
   ]
  },
  {
   "cell_type": "code",
   "execution_count": 90,
   "metadata": {},
   "outputs": [],
   "source": [
    "model.compile(loss='mse', optimizer='adam')"
   ]
  },
  {
   "cell_type": "code",
   "execution_count": 91,
   "metadata": {},
   "outputs": [
    {
     "name": "stdout",
     "output_type": "stream",
     "text": [
      "_________________________________________________________________\n",
      "Layer (type)                 Output Shape              Param #   \n",
      "=================================================================\n",
      "lstm_2 (LSTM)                (None, 128)               66560     \n",
      "_________________________________________________________________\n",
      "dropout_2 (Dropout)          (None, 128)               0         \n",
      "_________________________________________________________________\n",
      "dense_10 (Dense)             (None, 1)                 129       \n",
      "=================================================================\n",
      "Total params: 66,689\n",
      "Trainable params: 66,689\n",
      "Non-trainable params: 0\n",
      "_________________________________________________________________\n"
     ]
    }
   ],
   "source": [
    "model.summary()"
   ]
  },
  {
   "cell_type": "code",
   "execution_count": 92,
   "metadata": {},
   "outputs": [
    {
     "name": "stdout",
     "output_type": "stream",
     "text": [
      "Epoch 1/3\n",
      "1809/1809 [==============================] - 6s 4ms/step - loss: 0.0023\n",
      "Epoch 2/3\n",
      "1809/1809 [==============================] - 6s 3ms/step - loss: 0.0011\n",
      "Epoch 3/3\n",
      "1809/1809 [==============================] - 6s 3ms/step - loss: 0.0010\n",
      "Wall time: 18.3 s\n"
     ]
    },
    {
     "data": {
      "text/plain": [
       "<keras.callbacks.History at 0x168d8fbf1c8>"
      ]
     },
     "execution_count": 92,
     "metadata": {},
     "output_type": "execute_result"
    }
   ],
   "source": [
    "%%time\n",
    "model.fit(X_train, y_train, epochs=3, batch_size=1)"
   ]
  },
  {
   "cell_type": "code",
   "execution_count": 93,
   "metadata": {},
   "outputs": [],
   "source": [
    "train_predict = model.predict(X_train)\n",
    "test_predict = model.predict(X_test)"
   ]
  },
  {
   "cell_type": "code",
   "execution_count": 98,
   "metadata": {},
   "outputs": [
    {
     "data": {
      "image/png": "[encoded data removed]",
      "text/plain": [
       "<Figure size 1080x720 with 1 Axes>"
      ]
     },
     "metadata": {
      "needs_background": "light"
     },
     "output_type": "display_data"
    }
   ],
   "source": [
    "plt.figure(figsize=(15,10))\n",
    "plt.plot(price, color='blue')\n",
    "split_pt = split_val + window_size \n",
    "plt.plot(np.arange(window_size, split_pt,1), train_predict, color='orange')\n",
    "plt.plot(np.arange(split_pt, split_pt+len(test_predict),1), test_predict, color='green')\n",
    "plt.show()"
   ]
  },
  {
   "cell_type": "code",
   "execution_count": null,
   "metadata": {},
   "outputs": [],
   "source": []
  },
  {
   "cell_type": "code",
   "execution_count": null,
   "metadata": {},
   "outputs": [],
   "source": []
  },
  {
   "cell_type": "code",
   "execution_count": null,
   "metadata": {},
   "outputs": [],
   "source": []
  },
  {
   "cell_type": "code",
   "execution_count": null,
   "metadata": {},
   "outputs": [],
   "source": []
  },
  {
   "cell_type": "code",
   "execution_count": null,
   "metadata": {},
   "outputs": [],
   "source": []
  },
  {
   "cell_type": "code",
   "execution_count": null,
   "metadata": {},
   "outputs": [],
   "source": []
  },
  {
   "cell_type": "code",
   "execution_count": null,
   "metadata": {},
   "outputs": [],
   "source": []
  },
  {
   "cell_type": "code",
   "execution_count": null,
   "metadata": {},
   "outputs": [],
   "source": []
  },
  {
   "cell_type": "code",
   "execution_count": null,
   "metadata": {},
   "outputs": [],
   "source": []
  },
  {
   "cell_type": "code",
   "execution_count": null,
   "metadata": {},
   "outputs": [],
   "source": []
  },
  {
   "cell_type": "code",
   "execution_count": null,
   "metadata": {},
   "outputs": [],
   "source": []
  },
  {
   "cell_type": "code",
   "execution_count": null,
   "metadata": {},
   "outputs": [],
   "source": []
  },
  {
   "cell_type": "code",
   "execution_count": null,
   "metadata": {},
   "outputs": [],
   "source": []
  },
  {
   "cell_type": "code",
   "execution_count": null,
   "metadata": {},
   "outputs": [],
   "source": []
  },
  {
   "cell_type": "code",
   "execution_count": null,
   "metadata": {},
   "outputs": [],
   "source": []
  },
  {
   "cell_type": "code",
   "execution_count": null,
   "metadata": {},
   "outputs": [],
   "source": []
  },
  {
   "cell_type": "code",
   "execution_count": null,
   "metadata": {},
   "outputs": [],
   "source": []
  },
  {
   "cell_type": "code",
   "execution_count": null,
   "metadata": {},
   "outputs": [],
   "source": []
  },
  {
   "cell_type": "code",
   "execution_count": null,
   "metadata": {},
   "outputs": [],
   "source": []
  },
  {
   "cell_type": "code",
   "execution_count": null,
   "metadata": {},
   "outputs": [],
   "source": []
  },
  {
   "cell_type": "code",
   "execution_count": null,
   "metadata": {},
   "outputs": [],
   "source": []
  },
  {
   "cell_type": "code",
   "execution_count": null,
   "metadata": {},
   "outputs": [],
   "source": []
  },
  {
   "cell_type": "code",
   "execution_count": null,
   "metadata": {},
   "outputs": [],
   "source": []
  },
  {
   "cell_type": "code",
   "execution_count": null,
   "metadata": {},
   "outputs": [],
   "source": []
  },
  {
   "cell_type": "code",
   "execution_count": null,
   "metadata": {},
   "outputs": [],
   "source": []
  },
  {
   "cell_type": "code",
   "execution_count": null,
   "metadata": {},
   "outputs": [],
   "source": []
  },
  {
   "cell_type": "code",
   "execution_count": null,
   "metadata": {},
   "outputs": [],
   "source": []
  },
  {
   "cell_type": "code",
   "execution_count": null,
   "metadata": {},
   "outputs": [],
   "source": []
  },
  {
   "cell_type": "code",
   "execution_count": null,
   "metadata": {},
   "outputs": [],
   "source": []
  },
  {
   "cell_type": "code",
   "execution_count": null,
   "metadata": {},
   "outputs": [],
   "source": []
  },
  {
   "cell_type": "code",
   "execution_count": null,
   "metadata": {},
   "outputs": [],
   "source": []
  },
  {
   "cell_type": "code",
   "execution_count": null,
   "metadata": {},
   "outputs": [],
   "source": []
  },
  {
   "cell_type": "code",
   "execution_count": null,
   "metadata": {},
   "outputs": [],
   "source": []
  },
  {
   "cell_type": "code",
   "execution_count": null,
   "metadata": {},
   "outputs": [],
   "source": []
  },
  {
   "cell_type": "code",
   "execution_count": null,
   "metadata": {},
   "outputs": [],
   "source": []
  },
  {
   "cell_type": "code",
   "execution_count": null,
   "metadata": {},
   "outputs": [],
   "source": []
  },
  {
   "cell_type": "code",
   "execution_count": null,
   "metadata": {},
   "outputs": [],
   "source": []
  },
  {
   "cell_type": "code",
   "execution_count": null,
   "metadata": {},
   "outputs": [],
   "source": []
  },
  {
   "cell_type": "code",
   "execution_count": null,
   "metadata": {},
   "outputs": [],
   "source": []
  },
  {
   "cell_type": "code",
   "execution_count": null,
   "metadata": {},
   "outputs": [],
   "source": []
  },
  {
   "cell_type": "code",
   "execution_count": null,
   "metadata": {},
   "outputs": [],
   "source": []
  },
  {
   "cell_type": "code",
   "execution_count": null,
   "metadata": {},
   "outputs": [],
   "source": []
  },
  {
   "cell_type": "code",
   "execution_count": null,
   "metadata": {},
   "outputs": [],
   "source": []
  },
  {
   "cell_type": "code",
   "execution_count": null,
   "metadata": {},
   "outputs": [],
   "source": []
  },
  {
   "cell_type": "code",
   "execution_count": null,
   "metadata": {},
   "outputs": [],
   "source": []
  },
  {
   "cell_type": "code",
   "execution_count": null,
   "metadata": {},
   "outputs": [],
   "source": []
  },
  {
   "cell_type": "code",
   "execution_count": null,
   "metadata": {},
   "outputs": [],
   "source": []
  },
  {
   "cell_type": "code",
   "execution_count": null,
   "metadata": {},
   "outputs": [],
   "source": []
  }
 ],
 "metadata": {
  "kernelspec": {
   "display_name": "Python 3",
   "language": "python",
   "name": "python3"
  },
  "language_info": {
   "codemirror_mode": {
    "name": "ipython",
    "version": 3
   },
   "file_extension": ".py",
   "mimetype": "text/x-python",
   "name": "python",
   "nbconvert_exporter": "python",
   "pygments_lexer": "ipython3",
   "version": "3.7.6"
  }
 },
 "nbformat": 4,
 "nbformat_minor": 2
}
