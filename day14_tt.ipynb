{
 "cells": [
  {
   "cell_type": "code",
   "execution_count": 1,
   "metadata": {},
   "outputs": [],
   "source": [
    "# python warning off\n",
    "import warnings\n",
    "warnings.filterwarnings('ignore')\n",
    "\n",
    "# tensorflow warning off\n",
    "import tensorflow as tf\n",
    "tf.compat.v1.logging.set_verbosity(tf.compat.v1.logging.ERROR)"
   ]
  },
  {
   "cell_type": "code",
   "execution_count": 2,
   "metadata": {},
   "outputs": [],
   "source": [
    "%matplotlib inline\n",
    "import matplotlib.pyplot as plt\n",
    "import seaborn as sns\n",
    "import numpy as np\n",
    "import pandas as pd"
   ]
  },
  {
   "cell_type": "code",
   "execution_count": 3,
   "metadata": {},
   "outputs": [],
   "source": [
    "from sklearn.preprocessing import MinMaxScaler  # 0.0 ~ 1.0 사이로 스케일링\n",
    "from sklearn.preprocessing import LabelEncoder  # String ==> int\n",
    "from sklearn.model_selection import train_test_split"
   ]
  },
  {
   "cell_type": "code",
   "execution_count": 4,
   "metadata": {},
   "outputs": [
    {
     "name": "stderr",
     "output_type": "stream",
     "text": [
      "Using TensorFlow backend.\n"
     ]
    }
   ],
   "source": [
    "from keras.models import Sequential\n",
    "from keras.layers import Dense"
   ]
  },
  {
   "cell_type": "code",
   "execution_count": 5,
   "metadata": {},
   "outputs": [],
   "source": [
    "from keras.utils import np_utils"
   ]
  },
  {
   "cell_type": "code",
   "execution_count": 6,
   "metadata": {},
   "outputs": [],
   "source": [
    "from keras.callbacks import ModelCheckpoint\n",
    "from keras.callbacks import EarlyStopping"
   ]
  },
  {
   "cell_type": "code",
   "execution_count": 7,
   "metadata": {},
   "outputs": [],
   "source": [
    "names = ['sl', 'sw', 'pl', 'pw', 'class']"
   ]
  },
  {
   "cell_type": "code",
   "execution_count": 8,
   "metadata": {},
   "outputs": [],
   "source": [
    "df = pd.read_csv('datasets/iris.data', names=names)"
   ]
  },
  {
   "cell_type": "code",
   "execution_count": 9,
   "metadata": {},
   "outputs": [
    {
     "data": {
      "text/html": [
       "<div>\n",
       "<style scoped>\n",
       "    .dataframe tbody tr th:only-of-type {\n",
       "        vertical-align: middle;\n",
       "    }\n",
       "\n",
       "    .dataframe tbody tr th {\n",
       "        vertical-align: top;\n",
       "    }\n",
       "\n",
       "    .dataframe thead th {\n",
       "        text-align: right;\n",
       "    }\n",
       "</style>\n",
       "<table border=\"1\" class=\"dataframe\">\n",
       "  <thead>\n",
       "    <tr style=\"text-align: right;\">\n",
       "      <th></th>\n",
       "      <th>sl</th>\n",
       "      <th>sw</th>\n",
       "      <th>pl</th>\n",
       "      <th>pw</th>\n",
       "      <th>class</th>\n",
       "    </tr>\n",
       "  </thead>\n",
       "  <tbody>\n",
       "    <tr>\n",
       "      <th>0</th>\n",
       "      <td>5.1</td>\n",
       "      <td>3.5</td>\n",
       "      <td>1.4</td>\n",
       "      <td>0.2</td>\n",
       "      <td>Iris-setosa</td>\n",
       "    </tr>\n",
       "    <tr>\n",
       "      <th>1</th>\n",
       "      <td>4.9</td>\n",
       "      <td>3.0</td>\n",
       "      <td>1.4</td>\n",
       "      <td>0.2</td>\n",
       "      <td>Iris-setosa</td>\n",
       "    </tr>\n",
       "    <tr>\n",
       "      <th>2</th>\n",
       "      <td>4.7</td>\n",
       "      <td>3.2</td>\n",
       "      <td>1.3</td>\n",
       "      <td>0.2</td>\n",
       "      <td>Iris-setosa</td>\n",
       "    </tr>\n",
       "    <tr>\n",
       "      <th>3</th>\n",
       "      <td>4.6</td>\n",
       "      <td>3.1</td>\n",
       "      <td>1.5</td>\n",
       "      <td>0.2</td>\n",
       "      <td>Iris-setosa</td>\n",
       "    </tr>\n",
       "    <tr>\n",
       "      <th>4</th>\n",
       "      <td>5.0</td>\n",
       "      <td>3.6</td>\n",
       "      <td>1.4</td>\n",
       "      <td>0.2</td>\n",
       "      <td>Iris-setosa</td>\n",
       "    </tr>\n",
       "    <tr>\n",
       "      <th>...</th>\n",
       "      <td>...</td>\n",
       "      <td>...</td>\n",
       "      <td>...</td>\n",
       "      <td>...</td>\n",
       "      <td>...</td>\n",
       "    </tr>\n",
       "    <tr>\n",
       "      <th>145</th>\n",
       "      <td>6.7</td>\n",
       "      <td>3.0</td>\n",
       "      <td>5.2</td>\n",
       "      <td>2.3</td>\n",
       "      <td>Iris-virginica</td>\n",
       "    </tr>\n",
       "    <tr>\n",
       "      <th>146</th>\n",
       "      <td>6.3</td>\n",
       "      <td>2.5</td>\n",
       "      <td>5.0</td>\n",
       "      <td>1.9</td>\n",
       "      <td>Iris-virginica</td>\n",
       "    </tr>\n",
       "    <tr>\n",
       "      <th>147</th>\n",
       "      <td>6.5</td>\n",
       "      <td>3.0</td>\n",
       "      <td>5.2</td>\n",
       "      <td>2.0</td>\n",
       "      <td>Iris-virginica</td>\n",
       "    </tr>\n",
       "    <tr>\n",
       "      <th>148</th>\n",
       "      <td>6.2</td>\n",
       "      <td>3.4</td>\n",
       "      <td>5.4</td>\n",
       "      <td>2.3</td>\n",
       "      <td>Iris-virginica</td>\n",
       "    </tr>\n",
       "    <tr>\n",
       "      <th>149</th>\n",
       "      <td>5.9</td>\n",
       "      <td>3.0</td>\n",
       "      <td>5.1</td>\n",
       "      <td>1.8</td>\n",
       "      <td>Iris-virginica</td>\n",
       "    </tr>\n",
       "  </tbody>\n",
       "</table>\n",
       "<p>150 rows × 5 columns</p>\n",
       "</div>"
      ],
      "text/plain": [
       "      sl   sw   pl   pw           class\n",
       "0    5.1  3.5  1.4  0.2     Iris-setosa\n",
       "1    4.9  3.0  1.4  0.2     Iris-setosa\n",
       "2    4.7  3.2  1.3  0.2     Iris-setosa\n",
       "3    4.6  3.1  1.5  0.2     Iris-setosa\n",
       "4    5.0  3.6  1.4  0.2     Iris-setosa\n",
       "..   ...  ...  ...  ...             ...\n",
       "145  6.7  3.0  5.2  2.3  Iris-virginica\n",
       "146  6.3  2.5  5.0  1.9  Iris-virginica\n",
       "147  6.5  3.0  5.2  2.0  Iris-virginica\n",
       "148  6.2  3.4  5.4  2.3  Iris-virginica\n",
       "149  5.9  3.0  5.1  1.8  Iris-virginica\n",
       "\n",
       "[150 rows x 5 columns]"
      ]
     },
     "execution_count": 9,
     "metadata": {},
     "output_type": "execute_result"
    }
   ],
   "source": [
    "df"
   ]
  },
  {
   "cell_type": "code",
   "execution_count": 10,
   "metadata": {},
   "outputs": [
    {
     "data": {
      "text/plain": [
       "(150, 5)"
      ]
     },
     "execution_count": 10,
     "metadata": {},
     "output_type": "execute_result"
    }
   ],
   "source": [
    "df.shape"
   ]
  },
  {
   "cell_type": "code",
   "execution_count": 11,
   "metadata": {},
   "outputs": [
    {
     "data": {
      "text/html": [
       "<div>\n",
       "<style scoped>\n",
       "    .dataframe tbody tr th:only-of-type {\n",
       "        vertical-align: middle;\n",
       "    }\n",
       "\n",
       "    .dataframe tbody tr th {\n",
       "        vertical-align: top;\n",
       "    }\n",
       "\n",
       "    .dataframe thead th {\n",
       "        text-align: right;\n",
       "    }\n",
       "</style>\n",
       "<table border=\"1\" class=\"dataframe\">\n",
       "  <thead>\n",
       "    <tr style=\"text-align: right;\">\n",
       "      <th></th>\n",
       "      <th>sl</th>\n",
       "      <th>sw</th>\n",
       "      <th>pl</th>\n",
       "      <th>pw</th>\n",
       "    </tr>\n",
       "  </thead>\n",
       "  <tbody>\n",
       "    <tr>\n",
       "      <th>count</th>\n",
       "      <td>150.000000</td>\n",
       "      <td>150.000000</td>\n",
       "      <td>150.000000</td>\n",
       "      <td>150.000000</td>\n",
       "    </tr>\n",
       "    <tr>\n",
       "      <th>mean</th>\n",
       "      <td>5.843333</td>\n",
       "      <td>3.054000</td>\n",
       "      <td>3.758667</td>\n",
       "      <td>1.198667</td>\n",
       "    </tr>\n",
       "    <tr>\n",
       "      <th>std</th>\n",
       "      <td>0.828066</td>\n",
       "      <td>0.433594</td>\n",
       "      <td>1.764420</td>\n",
       "      <td>0.763161</td>\n",
       "    </tr>\n",
       "    <tr>\n",
       "      <th>min</th>\n",
       "      <td>4.300000</td>\n",
       "      <td>2.000000</td>\n",
       "      <td>1.000000</td>\n",
       "      <td>0.100000</td>\n",
       "    </tr>\n",
       "    <tr>\n",
       "      <th>25%</th>\n",
       "      <td>5.100000</td>\n",
       "      <td>2.800000</td>\n",
       "      <td>1.600000</td>\n",
       "      <td>0.300000</td>\n",
       "    </tr>\n",
       "    <tr>\n",
       "      <th>50%</th>\n",
       "      <td>5.800000</td>\n",
       "      <td>3.000000</td>\n",
       "      <td>4.350000</td>\n",
       "      <td>1.300000</td>\n",
       "    </tr>\n",
       "    <tr>\n",
       "      <th>75%</th>\n",
       "      <td>6.400000</td>\n",
       "      <td>3.300000</td>\n",
       "      <td>5.100000</td>\n",
       "      <td>1.800000</td>\n",
       "    </tr>\n",
       "    <tr>\n",
       "      <th>max</th>\n",
       "      <td>7.900000</td>\n",
       "      <td>4.400000</td>\n",
       "      <td>6.900000</td>\n",
       "      <td>2.500000</td>\n",
       "    </tr>\n",
       "  </tbody>\n",
       "</table>\n",
       "</div>"
      ],
      "text/plain": [
       "               sl          sw          pl          pw\n",
       "count  150.000000  150.000000  150.000000  150.000000\n",
       "mean     5.843333    3.054000    3.758667    1.198667\n",
       "std      0.828066    0.433594    1.764420    0.763161\n",
       "min      4.300000    2.000000    1.000000    0.100000\n",
       "25%      5.100000    2.800000    1.600000    0.300000\n",
       "50%      5.800000    3.000000    4.350000    1.300000\n",
       "75%      6.400000    3.300000    5.100000    1.800000\n",
       "max      7.900000    4.400000    6.900000    2.500000"
      ]
     },
     "execution_count": 11,
     "metadata": {},
     "output_type": "execute_result"
    }
   ],
   "source": [
    "df.describe()"
   ]
  },
  {
   "cell_type": "code",
   "execution_count": 12,
   "metadata": {},
   "outputs": [],
   "source": [
    "Y_encoded = LabelEncoder().fit_transform(df['class'])\n",
    "# 'Iris-setosa' ==> 0, 'Iris-versicolor' ==> 1, 'Iris-virginica' ==> 2"
   ]
  },
  {
   "cell_type": "code",
   "execution_count": 13,
   "metadata": {},
   "outputs": [
    {
     "data": {
      "text/plain": [
       "array([0, 0, 0, 0, 0, 0, 0, 0, 0, 0, 0, 0, 0, 0, 0, 0, 0, 0, 0, 0, 0, 0,\n",
       "       0, 0, 0, 0, 0, 0, 0, 0, 0, 0, 0, 0, 0, 0, 0, 0, 0, 0, 0, 0, 0, 0,\n",
       "       0, 0, 0, 0, 0, 0, 1, 1, 1, 1, 1, 1, 1, 1, 1, 1, 1, 1, 1, 1, 1, 1,\n",
       "       1, 1, 1, 1, 1, 1, 1, 1, 1, 1, 1, 1, 1, 1, 1, 1, 1, 1, 1, 1, 1, 1,\n",
       "       1, 1, 1, 1, 1, 1, 1, 1, 1, 1, 1, 1, 2, 2, 2, 2, 2, 2, 2, 2, 2, 2,\n",
       "       2, 2, 2, 2, 2, 2, 2, 2, 2, 2, 2, 2, 2, 2, 2, 2, 2, 2, 2, 2, 2, 2,\n",
       "       2, 2, 2, 2, 2, 2, 2, 2, 2, 2, 2, 2, 2, 2, 2, 2, 2, 2])"
      ]
     },
     "execution_count": 13,
     "metadata": {},
     "output_type": "execute_result"
    }
   ],
   "source": [
    "Y_encoded"
   ]
  },
  {
   "cell_type": "code",
   "execution_count": 14,
   "metadata": {},
   "outputs": [],
   "source": [
    "Y = np_utils.to_categorical(Y_encoded)  # One Hot Encoding\n",
    "# 0 ==> [1,0,0], 1 ==> [0,1,0], 2 ==> [0,0,1]"
   ]
  },
  {
   "cell_type": "code",
   "execution_count": 15,
   "metadata": {},
   "outputs": [
    {
     "data": {
      "text/plain": [
       "array([[1., 0., 0.],\n",
       "       [1., 0., 0.],\n",
       "       [1., 0., 0.],\n",
       "       [1., 0., 0.],\n",
       "       [1., 0., 0.],\n",
       "       [1., 0., 0.],\n",
       "       [1., 0., 0.],\n",
       "       [1., 0., 0.],\n",
       "       [1., 0., 0.],\n",
       "       [1., 0., 0.],\n",
       "       [1., 0., 0.],\n",
       "       [1., 0., 0.],\n",
       "       [1., 0., 0.],\n",
       "       [1., 0., 0.],\n",
       "       [1., 0., 0.],\n",
       "       [1., 0., 0.],\n",
       "       [1., 0., 0.],\n",
       "       [1., 0., 0.],\n",
       "       [1., 0., 0.],\n",
       "       [1., 0., 0.],\n",
       "       [1., 0., 0.],\n",
       "       [1., 0., 0.],\n",
       "       [1., 0., 0.],\n",
       "       [1., 0., 0.],\n",
       "       [1., 0., 0.],\n",
       "       [1., 0., 0.],\n",
       "       [1., 0., 0.],\n",
       "       [1., 0., 0.],\n",
       "       [1., 0., 0.],\n",
       "       [1., 0., 0.],\n",
       "       [1., 0., 0.],\n",
       "       [1., 0., 0.],\n",
       "       [1., 0., 0.],\n",
       "       [1., 0., 0.],\n",
       "       [1., 0., 0.],\n",
       "       [1., 0., 0.],\n",
       "       [1., 0., 0.],\n",
       "       [1., 0., 0.],\n",
       "       [1., 0., 0.],\n",
       "       [1., 0., 0.],\n",
       "       [1., 0., 0.],\n",
       "       [1., 0., 0.],\n",
       "       [1., 0., 0.],\n",
       "       [1., 0., 0.],\n",
       "       [1., 0., 0.],\n",
       "       [1., 0., 0.],\n",
       "       [1., 0., 0.],\n",
       "       [1., 0., 0.],\n",
       "       [1., 0., 0.],\n",
       "       [1., 0., 0.],\n",
       "       [0., 1., 0.],\n",
       "       [0., 1., 0.],\n",
       "       [0., 1., 0.],\n",
       "       [0., 1., 0.],\n",
       "       [0., 1., 0.],\n",
       "       [0., 1., 0.],\n",
       "       [0., 1., 0.],\n",
       "       [0., 1., 0.],\n",
       "       [0., 1., 0.],\n",
       "       [0., 1., 0.],\n",
       "       [0., 1., 0.],\n",
       "       [0., 1., 0.],\n",
       "       [0., 1., 0.],\n",
       "       [0., 1., 0.],\n",
       "       [0., 1., 0.],\n",
       "       [0., 1., 0.],\n",
       "       [0., 1., 0.],\n",
       "       [0., 1., 0.],\n",
       "       [0., 1., 0.],\n",
       "       [0., 1., 0.],\n",
       "       [0., 1., 0.],\n",
       "       [0., 1., 0.],\n",
       "       [0., 1., 0.],\n",
       "       [0., 1., 0.],\n",
       "       [0., 1., 0.],\n",
       "       [0., 1., 0.],\n",
       "       [0., 1., 0.],\n",
       "       [0., 1., 0.],\n",
       "       [0., 1., 0.],\n",
       "       [0., 1., 0.],\n",
       "       [0., 1., 0.],\n",
       "       [0., 1., 0.],\n",
       "       [0., 1., 0.],\n",
       "       [0., 1., 0.],\n",
       "       [0., 1., 0.],\n",
       "       [0., 1., 0.],\n",
       "       [0., 1., 0.],\n",
       "       [0., 1., 0.],\n",
       "       [0., 1., 0.],\n",
       "       [0., 1., 0.],\n",
       "       [0., 1., 0.],\n",
       "       [0., 1., 0.],\n",
       "       [0., 1., 0.],\n",
       "       [0., 1., 0.],\n",
       "       [0., 1., 0.],\n",
       "       [0., 1., 0.],\n",
       "       [0., 1., 0.],\n",
       "       [0., 1., 0.],\n",
       "       [0., 1., 0.],\n",
       "       [0., 1., 0.],\n",
       "       [0., 0., 1.],\n",
       "       [0., 0., 1.],\n",
       "       [0., 0., 1.],\n",
       "       [0., 0., 1.],\n",
       "       [0., 0., 1.],\n",
       "       [0., 0., 1.],\n",
       "       [0., 0., 1.],\n",
       "       [0., 0., 1.],\n",
       "       [0., 0., 1.],\n",
       "       [0., 0., 1.],\n",
       "       [0., 0., 1.],\n",
       "       [0., 0., 1.],\n",
       "       [0., 0., 1.],\n",
       "       [0., 0., 1.],\n",
       "       [0., 0., 1.],\n",
       "       [0., 0., 1.],\n",
       "       [0., 0., 1.],\n",
       "       [0., 0., 1.],\n",
       "       [0., 0., 1.],\n",
       "       [0., 0., 1.],\n",
       "       [0., 0., 1.],\n",
       "       [0., 0., 1.],\n",
       "       [0., 0., 1.],\n",
       "       [0., 0., 1.],\n",
       "       [0., 0., 1.],\n",
       "       [0., 0., 1.],\n",
       "       [0., 0., 1.],\n",
       "       [0., 0., 1.],\n",
       "       [0., 0., 1.],\n",
       "       [0., 0., 1.],\n",
       "       [0., 0., 1.],\n",
       "       [0., 0., 1.],\n",
       "       [0., 0., 1.],\n",
       "       [0., 0., 1.],\n",
       "       [0., 0., 1.],\n",
       "       [0., 0., 1.],\n",
       "       [0., 0., 1.],\n",
       "       [0., 0., 1.],\n",
       "       [0., 0., 1.],\n",
       "       [0., 0., 1.],\n",
       "       [0., 0., 1.],\n",
       "       [0., 0., 1.],\n",
       "       [0., 0., 1.],\n",
       "       [0., 0., 1.],\n",
       "       [0., 0., 1.],\n",
       "       [0., 0., 1.],\n",
       "       [0., 0., 1.],\n",
       "       [0., 0., 1.],\n",
       "       [0., 0., 1.],\n",
       "       [0., 0., 1.]], dtype=float32)"
      ]
     },
     "execution_count": 15,
     "metadata": {},
     "output_type": "execute_result"
    }
   ],
   "source": [
    "Y"
   ]
  },
  {
   "cell_type": "code",
   "execution_count": 16,
   "metadata": {},
   "outputs": [],
   "source": [
    "X = df.drop('class', axis=1)"
   ]
  },
  {
   "cell_type": "code",
   "execution_count": 17,
   "metadata": {},
   "outputs": [
    {
     "data": {
      "text/html": [
       "<div>\n",
       "<style scoped>\n",
       "    .dataframe tbody tr th:only-of-type {\n",
       "        vertical-align: middle;\n",
       "    }\n",
       "\n",
       "    .dataframe tbody tr th {\n",
       "        vertical-align: top;\n",
       "    }\n",
       "\n",
       "    .dataframe thead th {\n",
       "        text-align: right;\n",
       "    }\n",
       "</style>\n",
       "<table border=\"1\" class=\"dataframe\">\n",
       "  <thead>\n",
       "    <tr style=\"text-align: right;\">\n",
       "      <th></th>\n",
       "      <th>sl</th>\n",
       "      <th>sw</th>\n",
       "      <th>pl</th>\n",
       "      <th>pw</th>\n",
       "    </tr>\n",
       "  </thead>\n",
       "  <tbody>\n",
       "    <tr>\n",
       "      <th>0</th>\n",
       "      <td>5.1</td>\n",
       "      <td>3.5</td>\n",
       "      <td>1.4</td>\n",
       "      <td>0.2</td>\n",
       "    </tr>\n",
       "    <tr>\n",
       "      <th>1</th>\n",
       "      <td>4.9</td>\n",
       "      <td>3.0</td>\n",
       "      <td>1.4</td>\n",
       "      <td>0.2</td>\n",
       "    </tr>\n",
       "    <tr>\n",
       "      <th>2</th>\n",
       "      <td>4.7</td>\n",
       "      <td>3.2</td>\n",
       "      <td>1.3</td>\n",
       "      <td>0.2</td>\n",
       "    </tr>\n",
       "    <tr>\n",
       "      <th>3</th>\n",
       "      <td>4.6</td>\n",
       "      <td>3.1</td>\n",
       "      <td>1.5</td>\n",
       "      <td>0.2</td>\n",
       "    </tr>\n",
       "    <tr>\n",
       "      <th>4</th>\n",
       "      <td>5.0</td>\n",
       "      <td>3.6</td>\n",
       "      <td>1.4</td>\n",
       "      <td>0.2</td>\n",
       "    </tr>\n",
       "    <tr>\n",
       "      <th>...</th>\n",
       "      <td>...</td>\n",
       "      <td>...</td>\n",
       "      <td>...</td>\n",
       "      <td>...</td>\n",
       "    </tr>\n",
       "    <tr>\n",
       "      <th>145</th>\n",
       "      <td>6.7</td>\n",
       "      <td>3.0</td>\n",
       "      <td>5.2</td>\n",
       "      <td>2.3</td>\n",
       "    </tr>\n",
       "    <tr>\n",
       "      <th>146</th>\n",
       "      <td>6.3</td>\n",
       "      <td>2.5</td>\n",
       "      <td>5.0</td>\n",
       "      <td>1.9</td>\n",
       "    </tr>\n",
       "    <tr>\n",
       "      <th>147</th>\n",
       "      <td>6.5</td>\n",
       "      <td>3.0</td>\n",
       "      <td>5.2</td>\n",
       "      <td>2.0</td>\n",
       "    </tr>\n",
       "    <tr>\n",
       "      <th>148</th>\n",
       "      <td>6.2</td>\n",
       "      <td>3.4</td>\n",
       "      <td>5.4</td>\n",
       "      <td>2.3</td>\n",
       "    </tr>\n",
       "    <tr>\n",
       "      <th>149</th>\n",
       "      <td>5.9</td>\n",
       "      <td>3.0</td>\n",
       "      <td>5.1</td>\n",
       "      <td>1.8</td>\n",
       "    </tr>\n",
       "  </tbody>\n",
       "</table>\n",
       "<p>150 rows × 4 columns</p>\n",
       "</div>"
      ],
      "text/plain": [
       "      sl   sw   pl   pw\n",
       "0    5.1  3.5  1.4  0.2\n",
       "1    4.9  3.0  1.4  0.2\n",
       "2    4.7  3.2  1.3  0.2\n",
       "3    4.6  3.1  1.5  0.2\n",
       "4    5.0  3.6  1.4  0.2\n",
       "..   ...  ...  ...  ...\n",
       "145  6.7  3.0  5.2  2.3\n",
       "146  6.3  2.5  5.0  1.9\n",
       "147  6.5  3.0  5.2  2.0\n",
       "148  6.2  3.4  5.4  2.3\n",
       "149  5.9  3.0  5.1  1.8\n",
       "\n",
       "[150 rows x 4 columns]"
      ]
     },
     "execution_count": 17,
     "metadata": {},
     "output_type": "execute_result"
    }
   ],
   "source": [
    "X"
   ]
  },
  {
   "cell_type": "code",
   "execution_count": 18,
   "metadata": {},
   "outputs": [],
   "source": [
    "X_train, X_test, y_train, y_test = train_test_split(X, Y, test_size=0.1, random_state=42)"
   ]
  },
  {
   "cell_type": "code",
   "execution_count": 19,
   "metadata": {},
   "outputs": [],
   "source": [
    "check_pointer = ModelCheckpoint(filepath='iris_model.h5', monitor='val_loss',\n",
    "                               verbose=1, save_best_only=True)"
   ]
  },
  {
   "cell_type": "code",
   "execution_count": 20,
   "metadata": {},
   "outputs": [],
   "source": [
    "early_stoper = EarlyStopping(monitor='val_loss', patience=3)"
   ]
  },
  {
   "cell_type": "code",
   "execution_count": 21,
   "metadata": {},
   "outputs": [],
   "source": [
    "model = Sequential()"
   ]
  },
  {
   "cell_type": "code",
   "execution_count": 22,
   "metadata": {},
   "outputs": [
    {
     "name": "stdout",
     "output_type": "stream",
     "text": [
      "_________________________________________________________________\n",
      "Layer (type)                 Output Shape              Param #   \n",
      "=================================================================\n",
      "dense_1 (Dense)              (None, 256)               1280      \n",
      "_________________________________________________________________\n",
      "dense_2 (Dense)              (None, 128)               32896     \n",
      "_________________________________________________________________\n",
      "dense_3 (Dense)              (None, 32)                4128      \n",
      "_________________________________________________________________\n",
      "dense_4 (Dense)              (None, 3)                 99        \n",
      "=================================================================\n",
      "Total params: 38,403\n",
      "Trainable params: 38,403\n",
      "Non-trainable params: 0\n",
      "_________________________________________________________________\n"
     ]
    }
   ],
   "source": [
    "model.add(Dense(256, activation='relu', input_shape=(4,)))\n",
    "model.add(Dense(128, activation='relu'))\n",
    "model.add(Dense(32, activation='relu'))\n",
    "model.add(Dense(3, activation='softmax'))\n",
    "model.summary()"
   ]
  },
  {
   "cell_type": "code",
   "execution_count": 23,
   "metadata": {},
   "outputs": [],
   "source": [
    "model.compile(loss='categorical_crossentropy', optimizer='adam', metrics=['accuracy'])"
   ]
  },
  {
   "cell_type": "code",
   "execution_count": 24,
   "metadata": {},
   "outputs": [
    {
     "name": "stdout",
     "output_type": "stream",
     "text": [
      "Train on 121 samples, validate on 14 samples\n",
      "Epoch 1/50\n",
      "121/121 [==============================] - 0s 4ms/step - loss: 1.0442 - acc: 0.4050 - val_loss: 0.8586 - val_acc: 0.6429\n",
      "\n",
      "Epoch 00001: val_loss improved from inf to 0.85858, saving model to iris_model.h5\n",
      "Epoch 2/50\n",
      "121/121 [==============================] - 0s 116us/step - loss: 0.8743 - acc: 0.7438 - val_loss: 0.7625 - val_acc: 1.0000\n",
      "\n",
      "Epoch 00002: val_loss improved from 0.85858 to 0.76249, saving model to iris_model.h5\n",
      "Epoch 3/50\n",
      "121/121 [==============================] - 0s 116us/step - loss: 0.7537 - acc: 0.8182 - val_loss: 0.7124 - val_acc: 0.6429\n",
      "\n",
      "Epoch 00003: val_loss improved from 0.76249 to 0.71237, saving model to iris_model.h5\n",
      "Epoch 4/50\n",
      "121/121 [==============================] - 0s 83us/step - loss: 0.6607 - acc: 0.6777 - val_loss: 0.6199 - val_acc: 0.6429\n",
      "\n",
      "Epoch 00004: val_loss improved from 0.71237 to 0.61991, saving model to iris_model.h5\n",
      "Epoch 5/50\n",
      "121/121 [==============================] - 0s 107us/step - loss: 0.5707 - acc: 0.6777 - val_loss: 0.5561 - val_acc: 0.8571\n",
      "\n",
      "Epoch 00005: val_loss improved from 0.61991 to 0.55608, saving model to iris_model.h5\n",
      "Epoch 6/50\n",
      "121/121 [==============================] - 0s 99us/step - loss: 0.5141 - acc: 0.9091 - val_loss: 0.5260 - val_acc: 1.0000\n",
      "\n",
      "Epoch 00006: val_loss improved from 0.55608 to 0.52599, saving model to iris_model.h5\n",
      "Epoch 7/50\n",
      "121/121 [==============================] - 0s 99us/step - loss: 0.4801 - acc: 0.7769 - val_loss: 0.4650 - val_acc: 0.7143\n",
      "\n",
      "Epoch 00007: val_loss improved from 0.52599 to 0.46499, saving model to iris_model.h5\n",
      "Epoch 8/50\n",
      "121/121 [==============================] - 0s 132us/step - loss: 0.4093 - acc: 0.8099 - val_loss: 0.4576 - val_acc: 1.0000\n",
      "\n",
      "Epoch 00008: val_loss improved from 0.46499 to 0.45758, saving model to iris_model.h5\n",
      "Epoch 9/50\n",
      "121/121 [==============================] - ETA: 0s - loss: 0.4049 - acc: 0.937 - 0s 132us/step - loss: 0.3991 - acc: 0.9008 - val_loss: 0.4302 - val_acc: 1.0000\n",
      "\n",
      "Epoch 00009: val_loss improved from 0.45758 to 0.43020, saving model to iris_model.h5\n",
      "Epoch 10/50\n",
      "121/121 [==============================] - 0s 107us/step - loss: 0.3454 - acc: 0.9587 - val_loss: 0.3681 - val_acc: 1.0000\n",
      "\n",
      "Epoch 00010: val_loss improved from 0.43020 to 0.36807, saving model to iris_model.h5\n",
      "Epoch 11/50\n",
      "121/121 [==============================] - 0s 99us/step - loss: 0.3163 - acc: 0.9339 - val_loss: 0.3464 - val_acc: 1.0000\n",
      "\n",
      "Epoch 00011: val_loss improved from 0.36807 to 0.34644, saving model to iris_model.h5\n",
      "Epoch 12/50\n",
      "121/121 [==============================] - 0s 91us/step - loss: 0.2932 - acc: 0.9669 - val_loss: 0.3041 - val_acc: 1.0000\n",
      "\n",
      "Epoch 00012: val_loss improved from 0.34644 to 0.30409, saving model to iris_model.h5\n",
      "Epoch 13/50\n",
      "121/121 [==============================] - ETA: 0s - loss: 0.2769 - acc: 0.937 - 0s 91us/step - loss: 0.2710 - acc: 0.9339 - val_loss: 0.2673 - val_acc: 1.0000\n",
      "\n",
      "Epoch 00013: val_loss improved from 0.30409 to 0.26727, saving model to iris_model.h5\n",
      "Epoch 14/50\n",
      "121/121 [==============================] - 0s 99us/step - loss: 0.2380 - acc: 0.9421 - val_loss: 0.2939 - val_acc: 1.0000\n",
      "\n",
      "Epoch 00014: val_loss did not improve from 0.26727\n",
      "Epoch 15/50\n",
      "121/121 [==============================] - 0s 107us/step - loss: 0.2277 - acc: 0.9587 - val_loss: 0.2096 - val_acc: 1.0000\n",
      "\n",
      "Epoch 00015: val_loss improved from 0.26727 to 0.20964, saving model to iris_model.h5\n",
      "Epoch 16/50\n",
      "121/121 [==============================] - 0s 140us/step - loss: 0.2281 - acc: 0.9421 - val_loss: 0.1880 - val_acc: 1.0000\n",
      "\n",
      "Epoch 00016: val_loss improved from 0.20964 to 0.18795, saving model to iris_model.h5\n",
      "Epoch 17/50\n",
      "121/121 [==============================] - 0s 149us/step - loss: 0.2079 - acc: 0.9339 - val_loss: 0.1952 - val_acc: 1.0000\n",
      "\n",
      "Epoch 00017: val_loss did not improve from 0.18795\n",
      "Epoch 18/50\n",
      "121/121 [==============================] - 0s 124us/step - loss: 0.2015 - acc: 0.9339 - val_loss: 0.1483 - val_acc: 1.0000\n",
      "\n",
      "Epoch 00018: val_loss improved from 0.18795 to 0.14831, saving model to iris_model.h5\n",
      "Epoch 19/50\n",
      "121/121 [==============================] - 0s 149us/step - loss: 0.1697 - acc: 0.9587 - val_loss: 0.2066 - val_acc: 1.0000\n",
      "\n",
      "Epoch 00019: val_loss did not improve from 0.14831\n",
      "Epoch 20/50\n",
      "121/121 [==============================] - 0s 91us/step - loss: 0.1616 - acc: 0.9504 - val_loss: 0.1139 - val_acc: 1.0000\n",
      "\n",
      "Epoch 00020: val_loss improved from 0.14831 to 0.11392, saving model to iris_model.h5\n",
      "Epoch 21/50\n",
      "121/121 [==============================] - 0s 91us/step - loss: 0.1730 - acc: 0.9421 - val_loss: 0.1077 - val_acc: 1.0000\n",
      "\n",
      "Epoch 00021: val_loss improved from 0.11392 to 0.10767, saving model to iris_model.h5\n",
      "Epoch 22/50\n",
      "121/121 [==============================] - 0s 91us/step - loss: 0.1418 - acc: 0.9669 - val_loss: 0.1385 - val_acc: 1.0000\n",
      "\n",
      "Epoch 00022: val_loss did not improve from 0.10767\n",
      "Epoch 23/50\n",
      "121/121 [==============================] - 0s 107us/step - loss: 0.1297 - acc: 0.9587 - val_loss: 0.0884 - val_acc: 1.0000\n",
      "\n",
      "Epoch 00023: val_loss improved from 0.10767 to 0.08843, saving model to iris_model.h5\n",
      "Epoch 24/50\n",
      "121/121 [==============================] - 0s 99us/step - loss: 0.1359 - acc: 0.9587 - val_loss: 0.0908 - val_acc: 1.0000\n",
      "\n",
      "Epoch 00024: val_loss did not improve from 0.08843\n",
      "Epoch 25/50\n",
      "121/121 [==============================] - 0s 140us/step - loss: 0.1250 - acc: 0.9421 - val_loss: 0.0829 - val_acc: 1.0000\n",
      "\n",
      "Epoch 00025: val_loss improved from 0.08843 to 0.08285, saving model to iris_model.h5\n",
      "Epoch 26/50\n",
      "121/121 [==============================] - 0s 124us/step - loss: 0.1127 - acc: 0.9752 - val_loss: 0.0653 - val_acc: 1.0000\n",
      "\n",
      "Epoch 00026: val_loss improved from 0.08285 to 0.06526, saving model to iris_model.h5\n",
      "Epoch 27/50\n",
      "121/121 [==============================] - 0s 132us/step - loss: 0.1115 - acc: 0.9752 - val_loss: 0.0699 - val_acc: 1.0000\n",
      "\n",
      "Epoch 00027: val_loss did not improve from 0.06526\n",
      "Epoch 28/50\n",
      "121/121 [==============================] - 0s 124us/step - loss: 0.1373 - acc: 0.9421 - val_loss: 0.0612 - val_acc: 1.0000\n",
      "\n",
      "Epoch 00028: val_loss improved from 0.06526 to 0.06116, saving model to iris_model.h5\n",
      "Epoch 29/50\n",
      "121/121 [==============================] - 0s 99us/step - loss: 0.1117 - acc: 0.9752 - val_loss: 0.0683 - val_acc: 1.0000\n",
      "\n",
      "Epoch 00029: val_loss did not improve from 0.06116\n",
      "Epoch 30/50\n",
      "121/121 [==============================] - 0s 99us/step - loss: 0.1145 - acc: 0.9669 - val_loss: 0.0994 - val_acc: 1.0000\n",
      "\n",
      "Epoch 00030: val_loss did not improve from 0.06116\n",
      "Epoch 31/50\n",
      "121/121 [==============================] - 0s 99us/step - loss: 0.1181 - acc: 0.9421 - val_loss: 0.0457 - val_acc: 1.0000\n",
      "\n",
      "Epoch 00031: val_loss improved from 0.06116 to 0.04571, saving model to iris_model.h5\n",
      "Epoch 32/50\n",
      "121/121 [==============================] - 0s 124us/step - loss: 0.1097 - acc: 0.9587 - val_loss: 0.0433 - val_acc: 1.0000\n",
      "\n",
      "Epoch 00032: val_loss improved from 0.04571 to 0.04327, saving model to iris_model.h5\n",
      "Epoch 33/50\n",
      "121/121 [==============================] - 0s 107us/step - loss: 0.1122 - acc: 0.9504 - val_loss: 0.0511 - val_acc: 1.0000\n",
      "\n",
      "Epoch 00033: val_loss did not improve from 0.04327\n",
      "Epoch 34/50\n",
      "121/121 [==============================] - 0s 107us/step - loss: 0.0970 - acc: 0.9752 - val_loss: 0.0415 - val_acc: 1.0000\n",
      "\n",
      "Epoch 00034: val_loss improved from 0.04327 to 0.04153, saving model to iris_model.h5\n",
      "Epoch 35/50\n",
      "121/121 [==============================] - 0s 149us/step - loss: 0.1056 - acc: 0.9669 - val_loss: 0.0473 - val_acc: 1.0000\n",
      "\n",
      "Epoch 00035: val_loss did not improve from 0.04153\n",
      "Epoch 36/50\n",
      "121/121 [==============================] - 0s 99us/step - loss: 0.0929 - acc: 0.9587 - val_loss: 0.0363 - val_acc: 1.0000\n",
      "\n",
      "Epoch 00036: val_loss improved from 0.04153 to 0.03629, saving model to iris_model.h5\n",
      "Epoch 37/50\n",
      "121/121 [==============================] - 0s 116us/step - loss: 0.0876 - acc: 0.9752 - val_loss: 0.0388 - val_acc: 1.0000\n",
      "\n",
      "Epoch 00037: val_loss did not improve from 0.03629\n",
      "Epoch 38/50\n",
      "121/121 [==============================] - 0s 99us/step - loss: 0.0860 - acc: 0.9752 - val_loss: 0.0345 - val_acc: 1.0000\n",
      "\n",
      "Epoch 00038: val_loss improved from 0.03629 to 0.03446, saving model to iris_model.h5\n",
      "Epoch 39/50\n"
     ]
    },
    {
     "name": "stdout",
     "output_type": "stream",
     "text": [
      "121/121 [==============================] - 0s 91us/step - loss: 0.0971 - acc: 0.9587 - val_loss: 0.0325 - val_acc: 1.0000\n",
      "\n",
      "Epoch 00039: val_loss improved from 0.03446 to 0.03250, saving model to iris_model.h5\n",
      "Epoch 40/50\n",
      "121/121 [==============================] - 0s 107us/step - loss: 0.0830 - acc: 0.9752 - val_loss: 0.0298 - val_acc: 1.0000\n",
      "\n",
      "Epoch 00040: val_loss improved from 0.03250 to 0.02982, saving model to iris_model.h5\n",
      "Epoch 41/50\n",
      "121/121 [==============================] - 0s 99us/step - loss: 0.0845 - acc: 0.9752 - val_loss: 0.0381 - val_acc: 1.0000\n",
      "\n",
      "Epoch 00041: val_loss did not improve from 0.02982\n",
      "Epoch 42/50\n",
      "121/121 [==============================] - 0s 116us/step - loss: 0.0904 - acc: 0.9669 - val_loss: 0.0383 - val_acc: 1.0000\n",
      "\n",
      "Epoch 00042: val_loss did not improve from 0.02982\n",
      "Epoch 43/50\n",
      "121/121 [==============================] - 0s 107us/step - loss: 0.0938 - acc: 0.9587 - val_loss: 0.0273 - val_acc: 1.0000\n",
      "\n",
      "Epoch 00043: val_loss improved from 0.02982 to 0.02728, saving model to iris_model.h5\n",
      "Epoch 44/50\n",
      "121/121 [==============================] - 0s 99us/step - loss: 0.0907 - acc: 0.9587 - val_loss: 0.0364 - val_acc: 1.0000\n",
      "\n",
      "Epoch 00044: val_loss did not improve from 0.02728\n",
      "Epoch 45/50\n",
      "121/121 [==============================] - 0s 99us/step - loss: 0.0792 - acc: 0.9669 - val_loss: 0.0245 - val_acc: 1.0000\n",
      "\n",
      "Epoch 00045: val_loss improved from 0.02728 to 0.02446, saving model to iris_model.h5\n",
      "Epoch 46/50\n",
      "121/121 [==============================] - 0s 140us/step - loss: 0.0823 - acc: 0.9835 - val_loss: 0.0258 - val_acc: 1.0000\n",
      "\n",
      "Epoch 00046: val_loss did not improve from 0.02446\n",
      "Epoch 47/50\n",
      "121/121 [==============================] - 0s 99us/step - loss: 0.0787 - acc: 0.9752 - val_loss: 0.0253 - val_acc: 1.0000\n",
      "\n",
      "Epoch 00047: val_loss did not improve from 0.02446\n",
      "Epoch 48/50\n",
      "121/121 [==============================] - 0s 99us/step - loss: 0.0790 - acc: 0.9835 - val_loss: 0.0225 - val_acc: 1.0000\n",
      "\n",
      "Epoch 00048: val_loss improved from 0.02446 to 0.02249, saving model to iris_model.h5\n",
      "Epoch 49/50\n",
      "121/121 [==============================] - 0s 99us/step - loss: 0.0763 - acc: 0.9835 - val_loss: 0.0289 - val_acc: 1.0000\n",
      "\n",
      "Epoch 00049: val_loss did not improve from 0.02249\n",
      "Epoch 50/50\n",
      "121/121 [==============================] - 0s 132us/step - loss: 0.0821 - acc: 0.9835 - val_loss: 0.0211 - val_acc: 1.0000\n",
      "\n",
      "Epoch 00050: val_loss improved from 0.02249 to 0.02105, saving model to iris_model.h5\n",
      "Wall time: 3.28 s\n"
     ]
    }
   ],
   "source": [
    "%%time\n",
    "hist = model.fit(X_train, y_train, epochs=50, validation_split=0.1,\n",
    "                 callbacks=[check_pointer, early_stoper])"
   ]
  },
  {
   "cell_type": "code",
   "execution_count": 25,
   "metadata": {},
   "outputs": [
    {
     "name": "stdout",
     "output_type": "stream",
     "text": [
      "dict_keys(['val_loss', 'val_acc', 'loss', 'acc'])\n"
     ]
    }
   ],
   "source": [
    "print(hist.history.keys())"
   ]
  },
  {
   "cell_type": "code",
   "execution_count": 29,
   "metadata": {},
   "outputs": [
    {
     "data": {
      "image/png": "[encoded data removed]",
      "text/plain": [
       "<Figure size 720x720 with 2 Axes>"
      ]
     },
     "metadata": {
      "needs_background": "light"
     },
     "output_type": "display_data"
    }
   ],
   "source": [
    "plt.figure(figsize=(10,10))\n",
    "plt.subplot(1,2,1)  # 121\n",
    "plt.plot(hist.history['acc'])     # train accuracy\n",
    "plt.plot(hist.history['val_acc']) # validation accuracy\n",
    "plt.title('accuracy')\n",
    "plt.legend(['acc', 'val_acc'])\n",
    "plt.subplot(1,2,2)\n",
    "plt.plot(hist.history['loss'])      # train loss\n",
    "plt.plot(hist.history['val_loss'])  # validation loss\n",
    "plt.title('loss')\n",
    "plt.legend(['loss', 'val_loss'])\n",
    "plt.show()"
   ]
  },
  {
   "cell_type": "code",
   "execution_count": 30,
   "metadata": {},
   "outputs": [
    {
     "name": "stdout",
     "output_type": "stream",
     "text": [
      "\r",
      "15/15 [==============================] - 0s 200us/step\n"
     ]
    }
   ],
   "source": [
    "loss_score = model.evaluate(X_test, y_test)"
   ]
  },
  {
   "cell_type": "code",
   "execution_count": 31,
   "metadata": {},
   "outputs": [
    {
     "name": "stdout",
     "output_type": "stream",
     "text": [
      "[0.0979449525475502, 0.9333333373069763]\n"
     ]
    }
   ],
   "source": [
    "print(loss_score)\n",
    "# [0.0979449525475502, 0.9333333373069763], [loss, score], 93.3% 정확도"
   ]
  },
  {
   "cell_type": "code",
   "execution_count": 32,
   "metadata": {},
   "outputs": [
    {
     "name": "stdout",
     "output_type": "stream",
     "text": [
      "[[1.6249028e-04 9.5884269e-01 4.0994763e-02]\n",
      " [9.9969828e-01 3.0105843e-04 7.5199381e-07]\n",
      " [7.2846090e-11 6.8520480e-05 9.9993145e-01]\n",
      " [1.7621274e-04 9.1517156e-01 8.4652223e-02]\n",
      " [8.3000588e-05 9.7032255e-01 2.9594427e-02]\n",
      " [9.9938250e-01 6.1525818e-04 2.3012913e-06]\n",
      " [2.7577179e-03 9.9481755e-01 2.4247051e-03]\n",
      " [1.6711831e-06 8.4033899e-02 9.1596437e-01]\n",
      " [3.1704851e-05 3.9578709e-01 6.0418123e-01]\n",
      " [9.3685806e-04 9.9503398e-01 4.0291497e-03]\n",
      " [9.2627261e-06 2.4424881e-01 7.5574195e-01]\n",
      " [9.9899977e-01 9.9367683e-04 6.5649683e-06]\n",
      " [9.9976391e-01 2.3513402e-04 9.8144153e-07]\n",
      " [9.9905390e-01 9.4085105e-04 5.2826053e-06]\n",
      " [9.9968195e-01 3.1658701e-04 1.3714174e-06]]\n",
      "[[0. 1. 0.]\n",
      " [1. 0. 0.]\n",
      " [0. 0. 1.]\n",
      " [0. 1. 0.]\n",
      " [0. 1. 0.]\n",
      " [1. 0. 0.]\n",
      " [0. 1. 0.]\n",
      " [0. 0. 1.]\n",
      " [0. 1. 0.]\n",
      " [0. 1. 0.]\n",
      " [0. 0. 1.]\n",
      " [1. 0. 0.]\n",
      " [1. 0. 0.]\n",
      " [1. 0. 0.]\n",
      " [1. 0. 0.]]\n",
      "[1 0 2 1 1 0 1 2 2 1 2 0 0 0 0]\n"
     ]
    }
   ],
   "source": [
    "pred = model.predict(X_test)\n",
    "print(pred)\n",
    "print(y_test)\n",
    "print(model.predict_classes(X_test))"
   ]
  },
  {
   "cell_type": "code",
   "execution_count": 34,
   "metadata": {},
   "outputs": [],
   "source": [
    "# RNN ==> LSTM 실습 : 비트코인 가격 예측"
   ]
  },
  {
   "cell_type": "code",
   "execution_count": 35,
   "metadata": {},
   "outputs": [],
   "source": [
    "%matplotlib inline\n",
    "import matplotlib.pyplot as plt\n",
    "import seaborn as sns\n",
    "import numpy as np\n",
    "import pandas as pd"
   ]
  },
  {
   "cell_type": "code",
   "execution_count": 36,
   "metadata": {},
   "outputs": [],
   "source": [
    "from sklearn.preprocessing import MinMaxScaler"
   ]
  },
  {
   "cell_type": "code",
   "execution_count": 37,
   "metadata": {},
   "outputs": [],
   "source": [
    "import requests"
   ]
  },
  {
   "cell_type": "code",
   "execution_count": 38,
   "metadata": {},
   "outputs": [],
   "source": [
    "from keras.models import Sequential"
   ]
  },
  {
   "cell_type": "code",
   "execution_count": 39,
   "metadata": {},
   "outputs": [],
   "source": [
    "from keras.layers import Dense"
   ]
  },
  {
   "cell_type": "code",
   "execution_count": 40,
   "metadata": {},
   "outputs": [],
   "source": [
    "from keras.layers import Dropout"
   ]
  },
  {
   "cell_type": "code",
   "execution_count": 41,
   "metadata": {},
   "outputs": [],
   "source": [
    "from keras.layers import LSTM"
   ]
  },
  {
   "cell_type": "code",
   "execution_count": 43,
   "metadata": {},
   "outputs": [],
   "source": [
    "url = \"https://poloniex.com/public?command=returnChartData&currencyPair=USDT_BTC&start=1405699200&end=9999999999&period=86400\""
   ]
  },
  {
   "cell_type": "code",
   "execution_count": 44,
   "metadata": {},
   "outputs": [],
   "source": [
    "ret = requests.get(url)  # <Response [200]>\n",
    "json_data = ret.json()"
   ]
  },
  {
   "cell_type": "code",
   "execution_count": 47,
   "metadata": {},
   "outputs": [],
   "source": [
    "df_origin = pd.DataFrame(json_data)"
   ]
  },
  {
   "cell_type": "code",
   "execution_count": 48,
   "metadata": {},
   "outputs": [
    {
     "data": {
      "text/html": [
       "<div>\n",
       "<style scoped>\n",
       "    .dataframe tbody tr th:only-of-type {\n",
       "        vertical-align: middle;\n",
       "    }\n",
       "\n",
       "    .dataframe tbody tr th {\n",
       "        vertical-align: top;\n",
       "    }\n",
       "\n",
       "    .dataframe thead th {\n",
       "        text-align: right;\n",
       "    }\n",
       "</style>\n",
       "<table border=\"1\" class=\"dataframe\">\n",
       "  <thead>\n",
       "    <tr style=\"text-align: right;\">\n",
       "      <th></th>\n",
       "      <th>date</th>\n",
       "      <th>high</th>\n",
       "      <th>low</th>\n",
       "      <th>open</th>\n",
       "      <th>close</th>\n",
       "      <th>volume</th>\n",
       "      <th>quoteVolume</th>\n",
       "      <th>weightedAverage</th>\n",
       "    </tr>\n",
       "  </thead>\n",
       "  <tbody>\n",
       "    <tr>\n",
       "      <th>0</th>\n",
       "      <td>1424304000</td>\n",
       "      <td>244.000000</td>\n",
       "      <td>225.000000</td>\n",
       "      <td>225.000000</td>\n",
       "      <td>244.000000</td>\n",
       "      <td>4.627631e+01</td>\n",
       "      <td>0.193117</td>\n",
       "      <td>239.627778</td>\n",
       "    </tr>\n",
       "    <tr>\n",
       "      <th>1</th>\n",
       "      <td>1424390400</td>\n",
       "      <td>245.000000</td>\n",
       "      <td>240.250000</td>\n",
       "      <td>240.250118</td>\n",
       "      <td>240.250000</td>\n",
       "      <td>5.589490e+01</td>\n",
       "      <td>0.230429</td>\n",
       "      <td>242.568479</td>\n",
       "    </tr>\n",
       "    <tr>\n",
       "      <th>2</th>\n",
       "      <td>1424476800</td>\n",
       "      <td>245.000000</td>\n",
       "      <td>245.000000</td>\n",
       "      <td>245.000000</td>\n",
       "      <td>245.000000</td>\n",
       "      <td>1.472224e+01</td>\n",
       "      <td>0.060091</td>\n",
       "      <td>245.000000</td>\n",
       "    </tr>\n",
       "    <tr>\n",
       "      <th>3</th>\n",
       "      <td>1424563200</td>\n",
       "      <td>249.000000</td>\n",
       "      <td>235.000000</td>\n",
       "      <td>245.000000</td>\n",
       "      <td>235.000000</td>\n",
       "      <td>1.291212e+02</td>\n",
       "      <td>0.539055</td>\n",
       "      <td>239.532608</td>\n",
       "    </tr>\n",
       "    <tr>\n",
       "      <th>4</th>\n",
       "      <td>1424649600</td>\n",
       "      <td>235.001000</td>\n",
       "      <td>235.000000</td>\n",
       "      <td>235.000002</td>\n",
       "      <td>235.000000</td>\n",
       "      <td>9.656756e+01</td>\n",
       "      <td>0.410926</td>\n",
       "      <td>235.000062</td>\n",
       "    </tr>\n",
       "    <tr>\n",
       "      <th>...</th>\n",
       "      <td>...</td>\n",
       "      <td>...</td>\n",
       "      <td>...</td>\n",
       "      <td>...</td>\n",
       "      <td>...</td>\n",
       "      <td>...</td>\n",
       "      <td>...</td>\n",
       "      <td>...</td>\n",
       "    </tr>\n",
       "    <tr>\n",
       "      <th>2009</th>\n",
       "      <td>1597881600</td>\n",
       "      <td>11878.798593</td>\n",
       "      <td>11672.548482</td>\n",
       "      <td>11757.198800</td>\n",
       "      <td>11856.723407</td>\n",
       "      <td>1.034023e+07</td>\n",
       "      <td>877.129460</td>\n",
       "      <td>11788.721309</td>\n",
       "    </tr>\n",
       "    <tr>\n",
       "      <th>2010</th>\n",
       "      <td>1597968000</td>\n",
       "      <td>11878.167814</td>\n",
       "      <td>11494.000000</td>\n",
       "      <td>11853.929574</td>\n",
       "      <td>11527.476424</td>\n",
       "      <td>1.233026e+07</td>\n",
       "      <td>1053.637962</td>\n",
       "      <td>11702.555204</td>\n",
       "    </tr>\n",
       "    <tr>\n",
       "      <th>2011</th>\n",
       "      <td>1598054400</td>\n",
       "      <td>11686.455080</td>\n",
       "      <td>11375.126813</td>\n",
       "      <td>11527.446471</td>\n",
       "      <td>11667.369992</td>\n",
       "      <td>7.433553e+06</td>\n",
       "      <td>644.064745</td>\n",
       "      <td>11541.624285</td>\n",
       "    </tr>\n",
       "    <tr>\n",
       "      <th>2012</th>\n",
       "      <td>1598140800</td>\n",
       "      <td>11713.941372</td>\n",
       "      <td>11516.580481</td>\n",
       "      <td>11665.725741</td>\n",
       "      <td>11647.230277</td>\n",
       "      <td>6.922739e+06</td>\n",
       "      <td>595.195203</td>\n",
       "      <td>11631.039083</td>\n",
       "    </tr>\n",
       "    <tr>\n",
       "      <th>2013</th>\n",
       "      <td>1598227200</td>\n",
       "      <td>11706.181790</td>\n",
       "      <td>11588.686067</td>\n",
       "      <td>11647.230277</td>\n",
       "      <td>11695.307496</td>\n",
       "      <td>1.718626e+06</td>\n",
       "      <td>147.659556</td>\n",
       "      <td>11639.110627</td>\n",
       "    </tr>\n",
       "  </tbody>\n",
       "</table>\n",
       "<p>2014 rows × 8 columns</p>\n",
       "</div>"
      ],
      "text/plain": [
       "            date          high           low          open         close  \\\n",
       "0     1424304000    244.000000    225.000000    225.000000    244.000000   \n",
       "1     1424390400    245.000000    240.250000    240.250118    240.250000   \n",
       "2     1424476800    245.000000    245.000000    245.000000    245.000000   \n",
       "3     1424563200    249.000000    235.000000    245.000000    235.000000   \n",
       "4     1424649600    235.001000    235.000000    235.000002    235.000000   \n",
       "...          ...           ...           ...           ...           ...   \n",
       "2009  1597881600  11878.798593  11672.548482  11757.198800  11856.723407   \n",
       "2010  1597968000  11878.167814  11494.000000  11853.929574  11527.476424   \n",
       "2011  1598054400  11686.455080  11375.126813  11527.446471  11667.369992   \n",
       "2012  1598140800  11713.941372  11516.580481  11665.725741  11647.230277   \n",
       "2013  1598227200  11706.181790  11588.686067  11647.230277  11695.307496   \n",
       "\n",
       "            volume  quoteVolume  weightedAverage  \n",
       "0     4.627631e+01     0.193117       239.627778  \n",
       "1     5.589490e+01     0.230429       242.568479  \n",
       "2     1.472224e+01     0.060091       245.000000  \n",
       "3     1.291212e+02     0.539055       239.532608  \n",
       "4     9.656756e+01     0.410926       235.000062  \n",
       "...            ...          ...              ...  \n",
       "2009  1.034023e+07   877.129460     11788.721309  \n",
       "2010  1.233026e+07  1053.637962     11702.555204  \n",
       "2011  7.433553e+06   644.064745     11541.624285  \n",
       "2012  6.922739e+06   595.195203     11631.039083  \n",
       "2013  1.718626e+06   147.659556     11639.110627  \n",
       "\n",
       "[2014 rows x 8 columns]"
      ]
     },
     "execution_count": 48,
     "metadata": {},
     "output_type": "execute_result"
    }
   ],
   "source": [
    "df_origin"
   ]
  },
  {
   "cell_type": "code",
   "execution_count": 49,
   "metadata": {},
   "outputs": [],
   "source": [
    "df_origin.to_csv('bitcoin_origin.csv', encoding='utf-8', index=False)"
   ]
  },
  {
   "cell_type": "code",
   "execution_count": 50,
   "metadata": {},
   "outputs": [],
   "source": [
    "scaler = MinMaxScaler()"
   ]
  },
  {
   "cell_type": "code",
   "execution_count": 51,
   "metadata": {},
   "outputs": [],
   "source": [
    "df_origin[['close']] = scaler.fit_transform(df_origin[['close']])"
   ]
  },
  {
   "cell_type": "code",
   "execution_count": 52,
   "metadata": {},
   "outputs": [
    {
     "data": {
      "text/html": [
       "<div>\n",
       "<style scoped>\n",
       "    .dataframe tbody tr th:only-of-type {\n",
       "        vertical-align: middle;\n",
       "    }\n",
       "\n",
       "    .dataframe tbody tr th {\n",
       "        vertical-align: top;\n",
       "    }\n",
       "\n",
       "    .dataframe thead th {\n",
       "        text-align: right;\n",
       "    }\n",
       "</style>\n",
       "<table border=\"1\" class=\"dataframe\">\n",
       "  <thead>\n",
       "    <tr style=\"text-align: right;\">\n",
       "      <th></th>\n",
       "      <th>date</th>\n",
       "      <th>high</th>\n",
       "      <th>low</th>\n",
       "      <th>open</th>\n",
       "      <th>close</th>\n",
       "      <th>volume</th>\n",
       "      <th>quoteVolume</th>\n",
       "      <th>weightedAverage</th>\n",
       "    </tr>\n",
       "  </thead>\n",
       "  <tbody>\n",
       "    <tr>\n",
       "      <th>0</th>\n",
       "      <td>1424304000</td>\n",
       "      <td>244.000</td>\n",
       "      <td>225.00</td>\n",
       "      <td>225.000000</td>\n",
       "      <td>0.003428</td>\n",
       "      <td>46.276313</td>\n",
       "      <td>0.193117</td>\n",
       "      <td>239.627778</td>\n",
       "    </tr>\n",
       "    <tr>\n",
       "      <th>1</th>\n",
       "      <td>1424390400</td>\n",
       "      <td>245.000</td>\n",
       "      <td>240.25</td>\n",
       "      <td>240.250118</td>\n",
       "      <td>0.003231</td>\n",
       "      <td>55.894897</td>\n",
       "      <td>0.230429</td>\n",
       "      <td>242.568479</td>\n",
       "    </tr>\n",
       "    <tr>\n",
       "      <th>2</th>\n",
       "      <td>1424476800</td>\n",
       "      <td>245.000</td>\n",
       "      <td>245.00</td>\n",
       "      <td>245.000000</td>\n",
       "      <td>0.003480</td>\n",
       "      <td>14.722239</td>\n",
       "      <td>0.060091</td>\n",
       "      <td>245.000000</td>\n",
       "    </tr>\n",
       "    <tr>\n",
       "      <th>3</th>\n",
       "      <td>1424563200</td>\n",
       "      <td>249.000</td>\n",
       "      <td>235.00</td>\n",
       "      <td>245.000000</td>\n",
       "      <td>0.002955</td>\n",
       "      <td>129.121248</td>\n",
       "      <td>0.539055</td>\n",
       "      <td>239.532608</td>\n",
       "    </tr>\n",
       "    <tr>\n",
       "      <th>4</th>\n",
       "      <td>1424649600</td>\n",
       "      <td>235.001</td>\n",
       "      <td>235.00</td>\n",
       "      <td>235.000002</td>\n",
       "      <td>0.002955</td>\n",
       "      <td>96.567562</td>\n",
       "      <td>0.410926</td>\n",
       "      <td>235.000062</td>\n",
       "    </tr>\n",
       "  </tbody>\n",
       "</table>\n",
       "</div>"
      ],
      "text/plain": [
       "         date     high     low        open     close      volume  quoteVolume  \\\n",
       "0  1424304000  244.000  225.00  225.000000  0.003428   46.276313     0.193117   \n",
       "1  1424390400  245.000  240.25  240.250118  0.003231   55.894897     0.230429   \n",
       "2  1424476800  245.000  245.00  245.000000  0.003480   14.722239     0.060091   \n",
       "3  1424563200  249.000  235.00  245.000000  0.002955  129.121248     0.539055   \n",
       "4  1424649600  235.001  235.00  235.000002  0.002955   96.567562     0.410926   \n",
       "\n",
       "   weightedAverage  \n",
       "0       239.627778  \n",
       "1       242.568479  \n",
       "2       245.000000  \n",
       "3       239.532608  \n",
       "4       235.000062  "
      ]
     },
     "execution_count": 52,
     "metadata": {},
     "output_type": "execute_result"
    }
   ],
   "source": [
    "df_origin.head()"
   ]
  },
  {
   "cell_type": "code",
   "execution_count": 53,
   "metadata": {},
   "outputs": [],
   "source": [
    "df_origin.to_csv(\"bitcoin_scaled.csv\", encoding='utf-8', index=False)"
   ]
  },
  {
   "cell_type": "code",
   "execution_count": 54,
   "metadata": {},
   "outputs": [],
   "source": [
    "del df_origin"
   ]
  },
  {
   "cell_type": "code",
   "execution_count": 55,
   "metadata": {},
   "outputs": [],
   "source": [
    "df = pd.read_csv(\"bitcoin_scaled.csv\")"
   ]
  },
  {
   "cell_type": "code",
   "execution_count": 56,
   "metadata": {},
   "outputs": [
    {
     "data": {
      "text/plain": [
       "(2014, 8)"
      ]
     },
     "execution_count": 56,
     "metadata": {},
     "output_type": "execute_result"
    }
   ],
   "source": [
    "df.shape"
   ]
  },
  {
   "cell_type": "code",
   "execution_count": 58,
   "metadata": {},
   "outputs": [
    {
     "data": {
      "text/html": [
       "<div>\n",
       "<style scoped>\n",
       "    .dataframe tbody tr th:only-of-type {\n",
       "        vertical-align: middle;\n",
       "    }\n",
       "\n",
       "    .dataframe tbody tr th {\n",
       "        vertical-align: top;\n",
       "    }\n",
       "\n",
       "    .dataframe thead th {\n",
       "        text-align: right;\n",
       "    }\n",
       "</style>\n",
       "<table border=\"1\" class=\"dataframe\">\n",
       "  <thead>\n",
       "    <tr style=\"text-align: right;\">\n",
       "      <th></th>\n",
       "      <th>date</th>\n",
       "      <th>high</th>\n",
       "      <th>low</th>\n",
       "      <th>open</th>\n",
       "      <th>close</th>\n",
       "      <th>volume</th>\n",
       "      <th>quoteVolume</th>\n",
       "      <th>weightedAverage</th>\n",
       "    </tr>\n",
       "  </thead>\n",
       "  <tbody>\n",
       "    <tr>\n",
       "      <th>0</th>\n",
       "      <td>1424304000</td>\n",
       "      <td>244.000</td>\n",
       "      <td>225.00</td>\n",
       "      <td>225.000000</td>\n",
       "      <td>0.003428</td>\n",
       "      <td>46.276313</td>\n",
       "      <td>0.193117</td>\n",
       "      <td>239.627778</td>\n",
       "    </tr>\n",
       "    <tr>\n",
       "      <th>1</th>\n",
       "      <td>1424390400</td>\n",
       "      <td>245.000</td>\n",
       "      <td>240.25</td>\n",
       "      <td>240.250118</td>\n",
       "      <td>0.003231</td>\n",
       "      <td>55.894897</td>\n",
       "      <td>0.230429</td>\n",
       "      <td>242.568479</td>\n",
       "    </tr>\n",
       "    <tr>\n",
       "      <th>2</th>\n",
       "      <td>1424476800</td>\n",
       "      <td>245.000</td>\n",
       "      <td>245.00</td>\n",
       "      <td>245.000000</td>\n",
       "      <td>0.003480</td>\n",
       "      <td>14.722239</td>\n",
       "      <td>0.060091</td>\n",
       "      <td>245.000000</td>\n",
       "    </tr>\n",
       "    <tr>\n",
       "      <th>3</th>\n",
       "      <td>1424563200</td>\n",
       "      <td>249.000</td>\n",
       "      <td>235.00</td>\n",
       "      <td>245.000000</td>\n",
       "      <td>0.002955</td>\n",
       "      <td>129.121248</td>\n",
       "      <td>0.539055</td>\n",
       "      <td>239.532608</td>\n",
       "    </tr>\n",
       "    <tr>\n",
       "      <th>4</th>\n",
       "      <td>1424649600</td>\n",
       "      <td>235.001</td>\n",
       "      <td>235.00</td>\n",
       "      <td>235.000002</td>\n",
       "      <td>0.002955</td>\n",
       "      <td>96.567562</td>\n",
       "      <td>0.410926</td>\n",
       "      <td>235.000062</td>\n",
       "    </tr>\n",
       "  </tbody>\n",
       "</table>\n",
       "</div>"
      ],
      "text/plain": [
       "         date     high     low        open     close      volume  quoteVolume  \\\n",
       "0  1424304000  244.000  225.00  225.000000  0.003428   46.276313     0.193117   \n",
       "1  1424390400  245.000  240.25  240.250118  0.003231   55.894897     0.230429   \n",
       "2  1424476800  245.000  245.00  245.000000  0.003480   14.722239     0.060091   \n",
       "3  1424563200  249.000  235.00  245.000000  0.002955  129.121248     0.539055   \n",
       "4  1424649600  235.001  235.00  235.000002  0.002955   96.567562     0.410926   \n",
       "\n",
       "   weightedAverage  \n",
       "0       239.627778  \n",
       "1       242.568479  \n",
       "2       245.000000  \n",
       "3       239.532608  \n",
       "4       235.000062  "
      ]
     },
     "execution_count": 58,
     "metadata": {},
     "output_type": "execute_result"
    }
   ],
   "source": [
    "df.head()"
   ]
  },
  {
   "cell_type": "code",
   "execution_count": 59,
   "metadata": {},
   "outputs": [],
   "source": [
    "price = df['close']"
   ]
  },
  {
   "cell_type": "code",
   "execution_count": 60,
   "metadata": {},
   "outputs": [
    {
     "data": {
      "text/plain": [
       "0       0.003428\n",
       "1       0.003231\n",
       "2       0.003480\n",
       "3       0.002955\n",
       "4       0.002955\n",
       "          ...   \n",
       "2009    0.613203\n",
       "2010    0.595914\n",
       "2011    0.603260\n",
       "2012    0.602202\n",
       "2013    0.604727\n",
       "Name: close, Length: 2014, dtype: float64"
      ]
     },
     "execution_count": 60,
     "metadata": {},
     "output_type": "execute_result"
    }
   ],
   "source": [
    "price"
   ]
  },
  {
   "cell_type": "code",
   "execution_count": 61,
   "metadata": {},
   "outputs": [],
   "source": [
    "window_size = 5"
   ]
  },
  {
   "cell_type": "code",
   "execution_count": 62,
   "metadata": {},
   "outputs": [],
   "source": [
    "X = []\n",
    "Y = []"
   ]
  },
  {
   "cell_type": "code",
   "execution_count": 63,
   "metadata": {},
   "outputs": [],
   "source": [
    "for i in range(len(price) - window_size):  # 2014 - 5 ==> 2009\n",
    "    X.append( price.iloc[i:i+window_size] )  # 예) 0:5 ==> 0,1,2,3,4\n",
    "    Y.append( price.iloc[i+window_size] )    # 예) 0+5 ==> 5"
   ]
  },
  {
   "cell_type": "code",
   "execution_count": 64,
   "metadata": {},
   "outputs": [],
   "source": [
    "X = np.array(X)\n",
    "Y = np.array(Y)"
   ]
  },
  {
   "cell_type": "code",
   "execution_count": 65,
   "metadata": {},
   "outputs": [
    {
     "data": {
      "text/plain": [
       "((2009, 5), (2009,))"
      ]
     },
     "execution_count": 65,
     "metadata": {},
     "output_type": "execute_result"
    }
   ],
   "source": [
    "X.shape, Y.shape"
   ]
  },
  {
   "cell_type": "code",
   "execution_count": 66,
   "metadata": {},
   "outputs": [
    {
     "data": {
      "text/plain": [
       "array([0.00342784, 0.00323093, 0.00348035, 0.00295525, 0.00295525])"
      ]
     },
     "execution_count": 66,
     "metadata": {},
     "output_type": "execute_result"
    }
   ],
   "source": [
    "X[0]"
   ]
  },
  {
   "cell_type": "code",
   "execution_count": 67,
   "metadata": {},
   "outputs": [
    {
     "data": {
      "text/plain": [
       "0.0032046727572156808"
      ]
     },
     "execution_count": 67,
     "metadata": {},
     "output_type": "execute_result"
    }
   ],
   "source": [
    "Y[0]"
   ]
  },
  {
   "cell_type": "code",
   "execution_count": 69,
   "metadata": {},
   "outputs": [
    {
     "data": {
      "text/plain": [
       "2009"
      ]
     },
     "execution_count": 69,
     "metadata": {},
     "output_type": "execute_result"
    }
   ],
   "source": [
    "len(X)  # 2009"
   ]
  },
  {
   "cell_type": "code",
   "execution_count": 70,
   "metadata": {},
   "outputs": [],
   "source": [
    "split_val = len(X) - 200  # 2009 - 200 ==> 1809"
   ]
  },
  {
   "cell_type": "code",
   "execution_count": 71,
   "metadata": {},
   "outputs": [],
   "source": [
    "X_train = X[:split_val, :]\n",
    "y_train = Y[:split_val]"
   ]
  },
  {
   "cell_type": "code",
   "execution_count": 72,
   "metadata": {},
   "outputs": [],
   "source": [
    "X_test = X[split_val:, :]\n",
    "y_test = Y[split_val:]"
   ]
  },
  {
   "cell_type": "code",
   "execution_count": 73,
   "metadata": {},
   "outputs": [
    {
     "data": {
      "text/plain": [
       "((1809, 5), (1809,))"
      ]
     },
     "execution_count": 73,
     "metadata": {},
     "output_type": "execute_result"
    }
   ],
   "source": [
    "X_train.shape, y_train.shape"
   ]
  },
  {
   "cell_type": "code",
   "execution_count": 74,
   "metadata": {},
   "outputs": [
    {
     "data": {
      "text/plain": [
       "((200, 5), (200,))"
      ]
     },
     "execution_count": 74,
     "metadata": {},
     "output_type": "execute_result"
    }
   ],
   "source": [
    "X_test.shape, y_test.shape"
   ]
  },
  {
   "cell_type": "code",
   "execution_count": 75,
   "metadata": {},
   "outputs": [],
   "source": [
    "model = Sequential()"
   ]
  },
  {
   "cell_type": "code",
   "execution_count": 77,
   "metadata": {},
   "outputs": [],
   "source": [
    "model.add(LSTM(128, input_shape=(5, 1)))  # (feature의_수, dimension)\n",
    "model.add(Dropout(0.2))\n",
    "model.add(Dense(1, activation='linear'))"
   ]
  },
  {
   "cell_type": "code",
   "execution_count": 78,
   "metadata": {},
   "outputs": [],
   "source": [
    "model.compile(loss='mse', optimizer='adam')"
   ]
  },
  {
   "cell_type": "code",
   "execution_count": 79,
   "metadata": {},
   "outputs": [
    {
     "name": "stdout",
     "output_type": "stream",
     "text": [
      "_________________________________________________________________\n",
      "Layer (type)                 Output Shape              Param #   \n",
      "=================================================================\n",
      "lstm_1 (LSTM)                (None, 128)               66560     \n",
      "_________________________________________________________________\n",
      "dropout_1 (Dropout)          (None, 128)               0         \n",
      "_________________________________________________________________\n",
      "dense_5 (Dense)              (None, 1)                 129       \n",
      "=================================================================\n",
      "Total params: 66,689\n",
      "Trainable params: 66,689\n",
      "Non-trainable params: 0\n",
      "_________________________________________________________________\n"
     ]
    }
   ],
   "source": [
    "model.summary()"
   ]
  },
  {
   "cell_type": "code",
   "execution_count": 80,
   "metadata": {},
   "outputs": [
    {
     "ename": "ValueError",
     "evalue": "Error when checking input: expected lstm_1_input to have 3 dimensions, but got array with shape (1809, 5)",
     "output_type": "error",
     "traceback": [
      "\u001b[1;31m---------------------------------------------------------------------------\u001b[0m",
      "\u001b[1;31mValueError\u001b[0m                                Traceback (most recent call last)",
      "\u001b[1;32m<timed eval>\u001b[0m in \u001b[0;36m<module>\u001b[1;34m\u001b[0m\n",
      "\u001b[1;32m~\\anaconda3\\lib\\site-packages\\keras\\engine\\training.py\u001b[0m in \u001b[0;36mfit\u001b[1;34m(self, x, y, batch_size, epochs, verbose, callbacks, validation_split, validation_data, shuffle, class_weight, sample_weight, initial_epoch, steps_per_epoch, validation_steps, **kwargs)\u001b[0m\n\u001b[0;32m    950\u001b[0m             \u001b[0msample_weight\u001b[0m\u001b[1;33m=\u001b[0m\u001b[0msample_weight\u001b[0m\u001b[1;33m,\u001b[0m\u001b[1;33m\u001b[0m\u001b[1;33m\u001b[0m\u001b[0m\n\u001b[0;32m    951\u001b[0m             \u001b[0mclass_weight\u001b[0m\u001b[1;33m=\u001b[0m\u001b[0mclass_weight\u001b[0m\u001b[1;33m,\u001b[0m\u001b[1;33m\u001b[0m\u001b[1;33m\u001b[0m\u001b[0m\n\u001b[1;32m--> 952\u001b[1;33m             batch_size=batch_size)\n\u001b[0m\u001b[0;32m    953\u001b[0m         \u001b[1;31m# Prepare validation data.\u001b[0m\u001b[1;33m\u001b[0m\u001b[1;33m\u001b[0m\u001b[1;33m\u001b[0m\u001b[0m\n\u001b[0;32m    954\u001b[0m         \u001b[0mdo_validation\u001b[0m \u001b[1;33m=\u001b[0m \u001b[1;32mFalse\u001b[0m\u001b[1;33m\u001b[0m\u001b[1;33m\u001b[0m\u001b[0m\n",
      "\u001b[1;32m~\\anaconda3\\lib\\site-packages\\keras\\engine\\training.py\u001b[0m in \u001b[0;36m_standardize_user_data\u001b[1;34m(self, x, y, sample_weight, class_weight, check_array_lengths, batch_size)\u001b[0m\n\u001b[0;32m    749\u001b[0m             \u001b[0mfeed_input_shapes\u001b[0m\u001b[1;33m,\u001b[0m\u001b[1;33m\u001b[0m\u001b[1;33m\u001b[0m\u001b[0m\n\u001b[0;32m    750\u001b[0m             \u001b[0mcheck_batch_axis\u001b[0m\u001b[1;33m=\u001b[0m\u001b[1;32mFalse\u001b[0m\u001b[1;33m,\u001b[0m  \u001b[1;31m# Don't enforce the batch size.\u001b[0m\u001b[1;33m\u001b[0m\u001b[1;33m\u001b[0m\u001b[0m\n\u001b[1;32m--> 751\u001b[1;33m             exception_prefix='input')\n\u001b[0m\u001b[0;32m    752\u001b[0m \u001b[1;33m\u001b[0m\u001b[0m\n\u001b[0;32m    753\u001b[0m         \u001b[1;32mif\u001b[0m \u001b[0my\u001b[0m \u001b[1;32mis\u001b[0m \u001b[1;32mnot\u001b[0m \u001b[1;32mNone\u001b[0m\u001b[1;33m:\u001b[0m\u001b[1;33m\u001b[0m\u001b[1;33m\u001b[0m\u001b[0m\n",
      "\u001b[1;32m~\\anaconda3\\lib\\site-packages\\keras\\engine\\training_utils.py\u001b[0m in \u001b[0;36mstandardize_input_data\u001b[1;34m(data, names, shapes, check_batch_axis, exception_prefix)\u001b[0m\n\u001b[0;32m    126\u001b[0m                         \u001b[1;34m': expected '\u001b[0m \u001b[1;33m+\u001b[0m \u001b[0mnames\u001b[0m\u001b[1;33m[\u001b[0m\u001b[0mi\u001b[0m\u001b[1;33m]\u001b[0m \u001b[1;33m+\u001b[0m \u001b[1;34m' to have '\u001b[0m \u001b[1;33m+\u001b[0m\u001b[1;33m\u001b[0m\u001b[1;33m\u001b[0m\u001b[0m\n\u001b[0;32m    127\u001b[0m                         \u001b[0mstr\u001b[0m\u001b[1;33m(\u001b[0m\u001b[0mlen\u001b[0m\u001b[1;33m(\u001b[0m\u001b[0mshape\u001b[0m\u001b[1;33m)\u001b[0m\u001b[1;33m)\u001b[0m \u001b[1;33m+\u001b[0m \u001b[1;34m' dimensions, but got array '\u001b[0m\u001b[1;33m\u001b[0m\u001b[1;33m\u001b[0m\u001b[0m\n\u001b[1;32m--> 128\u001b[1;33m                         'with shape ' + str(data_shape))\n\u001b[0m\u001b[0;32m    129\u001b[0m                 \u001b[1;32mif\u001b[0m \u001b[1;32mnot\u001b[0m \u001b[0mcheck_batch_axis\u001b[0m\u001b[1;33m:\u001b[0m\u001b[1;33m\u001b[0m\u001b[1;33m\u001b[0m\u001b[0m\n\u001b[0;32m    130\u001b[0m                     \u001b[0mdata_shape\u001b[0m \u001b[1;33m=\u001b[0m \u001b[0mdata_shape\u001b[0m\u001b[1;33m[\u001b[0m\u001b[1;36m1\u001b[0m\u001b[1;33m:\u001b[0m\u001b[1;33m]\u001b[0m\u001b[1;33m\u001b[0m\u001b[1;33m\u001b[0m\u001b[0m\n",
      "\u001b[1;31mValueError\u001b[0m: Error when checking input: expected lstm_1_input to have 3 dimensions, but got array with shape (1809, 5)"
     ]
    }
   ],
   "source": [
    "%%time\n",
    "model.fit(X_train, y_train, epochs=3, batch_size=1)"
   ]
  },
  {
   "cell_type": "code",
   "execution_count": null,
   "metadata": {},
   "outputs": [],
   "source": []
  },
  {
   "cell_type": "code",
   "execution_count": null,
   "metadata": {},
   "outputs": [],
   "source": []
  },
  {
   "cell_type": "code",
   "execution_count": null,
   "metadata": {},
   "outputs": [],
   "source": []
  }
 ],
 "metadata": {
  "kernelspec": {
   "display_name": "Python 3",
   "language": "python",
   "name": "python3"
  },
  "language_info": {
   "codemirror_mode": {
    "name": "ipython",
    "version": 3
   },
   "file_extension": ".py",
   "mimetype": "text/x-python",
   "name": "python",
   "nbconvert_exporter": "python",
   "pygments_lexer": "ipython3",
   "version": "3.7.6"
  }
 },
 "nbformat": 4,
 "nbformat_minor": 4
}
